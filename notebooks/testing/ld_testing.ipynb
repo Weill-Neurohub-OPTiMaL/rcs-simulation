{
 "cells": [
  {
   "cell_type": "markdown",
   "id": "b24bc3be-30ee-430e-9c5c-5a0cdfa0b056",
   "metadata": {},
   "source": [
    "# LD testing"
   ]
  },
  {
   "cell_type": "code",
   "execution_count": null,
   "id": "8f0ed727-4826-460c-affd-024c30ad2cef",
   "metadata": {
    "jupyter": {
     "source_hidden": true
    },
    "tags": []
   },
   "outputs": [],
   "source": [
    "import pandas as pd\n",
    "import numpy as np\n",
    "\n",
    "from tkinter import Tk, filedialog\n",
    "\n",
    "from ast import literal_eval\n",
    "import time\n",
    "\n",
    "import matplotlib.pyplot as plt\n",
    "from matplotlib.gridspec import GridSpec\n",
    "\n",
    "from rcssim import rcs_sim as rcs\n",
    "\n",
    "import warnings\n",
    "warnings.filterwarnings(\"ignore\")"
   ]
  },
  {
   "cell_type": "markdown",
   "id": "7bb5fc94-9a83-4482-98f2-6e0f7e985b2f",
   "metadata": {
    "tags": []
   },
   "source": [
    "# Load data"
   ]
  },
  {
   "cell_type": "code",
   "execution_count": null,
   "id": "649586e7-753b-4cb6-a906-5ed11751e0f6",
   "metadata": {
    "jupyter": {
     "source_hidden": true
    },
    "tags": []
   },
   "outputs": [],
   "source": [
    "root = Tk()\n",
    "root.withdraw()\n",
    "root.call('wm', 'attributes', '.', '-topmost', True)\n",
    "\n",
    "print('Select folder containing data and settings files.')\n",
    "data_folder = filedialog.askdirectory()\n",
    "\n",
    "root.destroy()"
   ]
  },
  {
   "cell_type": "markdown",
   "id": "341e8100-378d-4fd4-b2a0-fab4aebb39b6",
   "metadata": {
    "tags": []
   },
   "source": [
    "# LD1"
   ]
  },
  {
   "cell_type": "markdown",
   "id": "c41a7756-e892-4a0f-8be6-a986cfa3d840",
   "metadata": {
    "tags": []
   },
   "source": [
    "### Load measured datasets and settings"
   ]
  },
  {
   "cell_type": "code",
   "execution_count": null,
   "id": "7343bb04-5843-4851-9e19-a7a59224a341",
   "metadata": {
    "jupyter": {
     "source_hidden": true
    },
    "tags": []
   },
   "outputs": [],
   "source": [
    "# left_neural_data = pd.read_csv(left_file_name)\n",
    "data_meas = pd.read_csv(data_folder + '/dataset_ld1.csv')\n",
    "settings = pd.read_csv(data_folder + '/dataset_ld1_config.csv')\n",
    "amp_gains = np.genfromtxt(data_folder + '/amp_gains.csv', \n",
    "                          delimiter=',').astype(int)\n",
    "\n",
    "settings['band_edges_hz'] = settings['band_edges_hz'].apply(literal_eval)\n",
    "settings['subtract_vec'] = settings['subtract_vec'].apply(literal_eval)\n",
    "settings['multiply_vec'] = settings['multiply_vec'].apply(literal_eval)\n",
    "settings['update_rate'] = settings['update_rate'].apply(literal_eval)\n",
    "settings['weights'] = settings['weights'].apply(literal_eval)\n",
    "# settings['dual_threshold'] = settings['dual_threshold'].apply(literal_eval)\n",
    "settings['threshold'] = settings['threshold'].apply(literal_eval)\n",
    "settings['blank_duration'] = settings['blank_duration'].apply(literal_eval)\n",
    "settings['onset'] = settings['onset'].apply(literal_eval)\n",
    "settings['termination'] = settings['termination'].apply(literal_eval)\n",
    "settings['blank_both'] = settings['blank_both'] #.apply(literal_eval)\n",
    "# settings['target_amp'] = settings['target_amp'].apply(literal_eval)"
   ]
  },
  {
   "cell_type": "code",
   "execution_count": null,
   "id": "48c8b49a-0000-41f6-91f7-d27015868d4f",
   "metadata": {
    "jupyter": {
     "source_hidden": true
    },
    "tags": []
   },
   "outputs": [],
   "source": [
    "print('Settings')\n",
    "settings"
   ]
  },
  {
   "cell_type": "markdown",
   "id": "7f40c6f8-e9f9-462f-8fb6-8b1ea89c36f8",
   "metadata": {
    "tags": []
   },
   "source": [
    "### TD --> PB"
   ]
  },
  {
   "cell_type": "code",
   "execution_count": null,
   "id": "6e69332b-7fd1-43e8-95df-e43d50d818a3",
   "metadata": {
    "jupyter": {
     "source_hidden": true
    },
    "tags": []
   },
   "outputs": [],
   "source": [
    "data_sim = data_meas[['timestamp', 'td1', 'td2']].copy()\n",
    "data_sim['pb1'] = np.nan*np.ones(np.shape(data_sim['td1']))\n",
    "data_sim['pb2'] = np.nan*np.ones(np.shape(data_sim['td1']))\n",
    "\n",
    "t_start = time.time()\n",
    "hann_win = rcs.create_hann_window(settings.fft_size[0], percent=100)\n",
    "\n",
    "# Compute power band for the first time-domain channel\n",
    "data_td = rcs.transform_mv_to_rcs(data_sim['td1'].values, amp_gains[0])\n",
    "data_fft, t_pb = rcs.td_to_fft(data_td, data_sim['timestamp'].values, \n",
    "                               fs_td=settings.fs_td[0], \n",
    "                               L=settings.fft_size[0], \n",
    "                               interval=settings.interval[0], \n",
    "                               hann_win=hann_win)\n",
    "data_pb = rcs.fft_to_pb(data_fft, \n",
    "                        fs_td=settings.fs_td[0], \n",
    "                        L=settings.fft_size[0], \n",
    "                        bit_shift=settings.bit_shift[0], \n",
    "                        band_edges_hz=settings.band_edges_hz[0][0][1])\n",
    "pb_sample_mask = np.isin(data_sim.timestamp, t_pb)\n",
    "data_sim.loc[pb_sample_mask,'pb1'] = data_pb\n",
    "\n",
    "# Compute power band for the second time-domain channel\n",
    "data_td = rcs.transform_mv_to_rcs(data_sim['td2'].values, amp_gains[1])\n",
    "data_fft, t_pb = rcs.td_to_fft(data_td, data_sim['timestamp'].values, \n",
    "                               fs_td=settings.fs_td[0], \n",
    "                               L=settings.fft_size[0], \n",
    "                               interval=settings.interval[0], \n",
    "                               hann_win=hann_win)\n",
    "data_pb = rcs.fft_to_pb(data_fft, \n",
    "                        fs_td=settings.fs_td[0], \n",
    "                        L=settings.fft_size[0], \n",
    "                        bit_shift=settings.bit_shift[0], \n",
    "                        band_edges_hz=settings.band_edges_hz[0][1][1])\n",
    "pb_sample_mask = np.isin(data_sim.timestamp, t_pb)\n",
    "data_sim.loc[pb_sample_mask,'pb2'] = data_pb\n",
    "\n",
    "t_end = time.time()\n",
    "print('Time elapsed: ' + str(t_end-t_start))"
   ]
  },
  {
   "cell_type": "code",
   "execution_count": null,
   "id": "83b9eeb7-f95e-4f92-8baa-5032433f347e",
   "metadata": {
    "jupyter": {
     "source_hidden": true
    },
    "tags": []
   },
   "outputs": [],
   "source": [
    "%matplotlib widget\n",
    "fig, ax = plt.subplots(2,1, figsize=(6,3), sharex='col', sharey=False)\n",
    "\n",
    "ax[0].plot(data_meas.loc[~np.isnan(data_meas.pb1), 'timestamp'], \n",
    "           data_meas.loc[~np.isnan(data_meas.pb1), 'pb1'], label='Measured')\n",
    "ax[0].plot(data_sim.loc[~np.isnan(data_sim.pb1), 'timestamp'], \n",
    "           data_sim.loc[~np.isnan(data_sim.pb1), 'pb1'], label='Simulated')\n",
    "ax[0].legend(bbox_to_anchor=(1.02, 0.6))\n",
    "\n",
    "ax[1].plot(data_meas.loc[~np.isnan(data_meas.pb1), 'timestamp'], \n",
    "           data_meas.loc[~np.isnan(data_meas.pb1), 'pb2'], label='Measured')\n",
    "ax[1].plot(data_sim.loc[~np.isnan(data_sim.pb1), 'timestamp'], \n",
    "           data_sim.loc[~np.isnan(data_sim.pb1), 'pb2'], label='Simulated')\n",
    "\n",
    "ax[0].grid()\n",
    "ax[1].grid()\n",
    "ax[1].set_xlabel('Time [sec]')\n",
    "ax[0].set_ylabel('PB1 Output \\n [RCS units]')\n",
    "ax[1].set_ylabel('PB2 Output \\n [RCS units]')\n",
    "\n",
    "plt.tight_layout()"
   ]
  },
  {
   "cell_type": "markdown",
   "id": "75347b13-0057-41d7-a733-3e0b0fcb7980",
   "metadata": {
    "tags": []
   },
   "source": [
    "### PB --> LD"
   ]
  },
  {
   "cell_type": "code",
   "execution_count": null,
   "id": "d56c254e-9c6c-4729-8a27-ad5c53841971",
   "metadata": {
    "jupyter": {
     "source_hidden": true
    },
    "tags": []
   },
   "outputs": [],
   "source": [
    "data_sim['ld1_iso'] = np.nan*np.ones(np.shape(data_sim['td1']))\n",
    "data_sim['ld2_iso'] = np.nan*np.ones(np.shape(data_sim['td1']))\n",
    "\n",
    "t_start = time.time()\n",
    "\n",
    "# Compute continuous-valued LD output\n",
    "ld_output, t_ld, update_tbl = rcs.pb_to_ld(\n",
    "                                        data_meas.loc[~np.isnan(data_meas['pb1']), \n",
    "                                                      ['pb1', 'pb2']].values, \n",
    "                                        data_meas.loc[~np.isnan(data_meas['pb1']), \n",
    "                                                      'timestamp'].values, \n",
    "                                        update_rate=settings.update_rate[0], \n",
    "                                        weights=settings.weights[0],\n",
    "                                        subtract_vec=settings.subtract_vec[0], \n",
    "                                        multiply_vec=settings.multiply_vec[0])\n",
    "\n",
    "# Log the simulated data\n",
    "ld1_sample_mask = np.isin(data_sim.timestamp.values, t_ld[0])\n",
    "data_sim.loc[ld1_sample_mask,'ld1_iso'] = ld_output[0]\n",
    "\n",
    "ld2_sample_mask = np.isin(data_sim.timestamp.values, t_ld[1])\n",
    "data_sim.loc[ld2_sample_mask,'ld2_iso'] = ld_output[1]"
   ]
  },
  {
   "cell_type": "code",
   "execution_count": null,
   "id": "e93b1cd7-6ef6-4c36-806c-e89a85876569",
   "metadata": {
    "jupyter": {
     "source_hidden": true
    },
    "tags": []
   },
   "outputs": [],
   "source": [
    "# %matplotlib widget\n",
    "fig, ax = plt.subplots(2,1, figsize=(6,3), sharex='col', sharey=False)\n",
    "\n",
    "ax[0].plot(data_meas.loc[~np.isnan(data_meas.ld1), 'timestamp'], \n",
    "           data_meas.loc[~np.isnan(data_meas.ld1), 'ld1'], label='Measured')\n",
    "ax[0].plot(data_sim.loc[~np.isnan(data_sim.ld1_iso), 'timestamp'], \n",
    "           data_sim.loc[~np.isnan(data_sim.ld1_iso), 'ld1_iso'], \n",
    "           label='Simulated')\n",
    "ax[0].legend(bbox_to_anchor=(1.02, 0.6))\n",
    "\n",
    "ax[1].plot(data_meas.loc[~np.isnan(data_meas.ld2), 'timestamp'], \n",
    "           data_meas.loc[~np.isnan(data_meas.ld2), 'ld2'], label='Measured')\n",
    "ax[1].plot(data_sim.loc[~np.isnan(data_sim.ld2_iso), 'timestamp'], \n",
    "           data_sim.loc[~np.isnan(data_sim.ld2_iso), 'ld2_iso'], \n",
    "           label='Simulated')\n",
    "\n",
    "for i in range(2):\n",
    "    ax[i].grid()\n",
    "ax[1].set_xlabel('Time [sec]')\n",
    "ax[0].set_ylabel('LD1 Output \\n [a.u]')\n",
    "ax[1].set_ylabel('LD2 Output \\n [a.u.]')\n",
    "\n",
    "plt.tight_layout()"
   ]
  },
  {
   "cell_type": "markdown",
   "id": "afc9c9b1-0647-46b1-aaf1-54c362c70bac",
   "metadata": {
    "tags": []
   },
   "source": [
    "# LD2"
   ]
  },
  {
   "cell_type": "markdown",
   "id": "57eff5fb-de12-4e0b-bf5c-a40fefda6b49",
   "metadata": {
    "tags": []
   },
   "source": [
    "### Load measured datasets and settings"
   ]
  },
  {
   "cell_type": "code",
   "execution_count": null,
   "id": "b1c8eb19-3adc-4170-8a1f-7a66ffcc30f7",
   "metadata": {
    "jupyter": {
     "source_hidden": true
    }
   },
   "outputs": [],
   "source": [
    "data_meas = pd.read_csv(data_folder + '/dataset_ld2.csv')\n",
    "settings = pd.read_csv(data_folder + '/dataset_ld2_config.csv')\n",
    "amp_gains = np.genfromtxt(data_folder + '/amp_gains.csv', \n",
    "                          delimiter=',').astype(int)\n",
    "\n",
    "settings['band_edges_hz'] = settings['band_edges_hz'].apply(literal_eval)\n",
    "settings['subtract_vec'] = settings['subtract_vec'].apply(literal_eval)\n",
    "settings['multiply_vec'] = settings['multiply_vec'].apply(literal_eval)\n",
    "settings['update_rate'] = settings['update_rate'].apply(literal_eval)\n",
    "settings['weights'] = settings['weights'].apply(literal_eval)\n",
    "settings['dual_threshold'] = settings['dual_threshold'].apply(literal_eval)\n",
    "settings['threshold'] = settings['threshold'].apply(literal_eval)\n",
    "settings['blank_duration'] = settings['blank_duration'].apply(literal_eval)\n",
    "settings['onset'] = settings['onset'].apply(literal_eval)\n",
    "settings['termination'] = settings['termination'].apply(literal_eval)\n",
    "settings['blank_both'] = settings['blank_both'].apply(literal_eval)\n",
    "# settings['target_amp'] = settings['target_amp'].apply(literal_eval)"
   ]
  },
  {
   "cell_type": "code",
   "execution_count": null,
   "id": "f74b84d2-018e-48d1-a7bf-5a7fb43f248e",
   "metadata": {
    "jupyter": {
     "source_hidden": true
    },
    "tags": []
   },
   "outputs": [],
   "source": [
    "print('Settings')\n",
    "settings"
   ]
  },
  {
   "cell_type": "markdown",
   "id": "5122722f-7a8e-41f0-af6a-60025153721e",
   "metadata": {
    "tags": []
   },
   "source": [
    "### TD --> PB"
   ]
  },
  {
   "cell_type": "code",
   "execution_count": null,
   "id": "f945f1f5-14c0-4ed0-a435-5876c708db4a",
   "metadata": {
    "jupyter": {
     "source_hidden": true
    },
    "tags": []
   },
   "outputs": [],
   "source": [
    "data_sim = data_meas[['timestamp', 'td1', 'td2']].copy()\n",
    "data_sim['pb1'] = np.nan*np.ones(np.shape(data_sim['td1']))\n",
    "data_sim['pb2'] = np.nan*np.ones(np.shape(data_sim['td1']))\n",
    "\n",
    "t_start = time.time()\n",
    "hann_win = rcs.create_hann_window(settings.fft_size[0], percent=100)\n",
    "\n",
    "# Compute power band for the first time-domain channel\n",
    "data_td = rcs.transform_mv_to_rcs(data_sim['td1'].values, amp_gains[0])\n",
    "data_fft, t_pb = rcs.td_to_fft(data_td, data_sim['timestamp'].values, \n",
    "                               fs_td=settings.fs_td[0], \n",
    "                               L=settings.fft_size[0], \n",
    "                               interval=settings.interval[0], \n",
    "                               hann_win=hann_win)\n",
    "data_pb = rcs.fft_to_pb(data_fft, \n",
    "                        fs_td=settings.fs_td[0], \n",
    "                        L=settings.fft_size[0], \n",
    "                        bit_shift=settings.bit_shift[0], \n",
    "                        band_edges_hz=settings.band_edges_hz[0][0])\n",
    "pb_sample_mask = np.isin(data_sim.timestamp, t_pb)\n",
    "data_sim.loc[pb_sample_mask,'pb1'] = data_pb\n",
    "\n",
    "# Compute power band for the second time-domain channel\n",
    "data_td = rcs.transform_mv_to_rcs(data_sim['td2'].values, amp_gains[1])\n",
    "data_fft, t_pb = rcs.td_to_fft(data_td, data_sim['timestamp'].values, \n",
    "                               fs_td=settings.fs_td[0], \n",
    "                               L=settings.fft_size[0], \n",
    "                               interval=settings.interval[0], \n",
    "                               hann_win=hann_win)\n",
    "data_pb = rcs.fft_to_pb(data_fft, \n",
    "                        fs_td=settings.fs_td[0], \n",
    "                        L=settings.fft_size[0], \n",
    "                        bit_shift=settings.bit_shift[0], \n",
    "                        band_edges_hz=settings.band_edges_hz[0][1])\n",
    "pb_sample_mask = np.isin(data_sim.timestamp, t_pb)\n",
    "data_sim.loc[pb_sample_mask,'pb2'] = data_pb\n",
    "\n",
    "t_end = time.time()\n",
    "print('Time elapsed: ' + str(t_end-t_start))"
   ]
  },
  {
   "cell_type": "code",
   "execution_count": null,
   "id": "4dab0236-31c2-42e4-afc3-fa1b47ded831",
   "metadata": {
    "jupyter": {
     "source_hidden": true
    },
    "tags": []
   },
   "outputs": [],
   "source": [
    "# %matplotlib widget\n",
    "fig, ax = plt.subplots(2,1, figsize=(6,3), sharex='col', sharey=False)\n",
    "\n",
    "ax[0].plot(data_meas.loc[~np.isnan(data_meas.pb1), 'timestamp'], \n",
    "           data_meas.loc[~np.isnan(data_meas.pb1), 'pb1'], label='Measured')\n",
    "ax[0].plot(data_sim.loc[~np.isnan(data_sim.pb1), 'timestamp'], \n",
    "           data_sim.loc[~np.isnan(data_sim.pb1), 'pb1'], label='Simulated')\n",
    "ax[0].legend(bbox_to_anchor=(1.02, 0.6))\n",
    "\n",
    "ax[1].plot(data_meas.loc[~np.isnan(data_meas.pb1), 'timestamp'], \n",
    "           data_meas.loc[~np.isnan(data_meas.pb1), 'pb2'], label='Measured')\n",
    "ax[1].plot(data_sim.loc[~np.isnan(data_sim.pb1), 'timestamp'], \n",
    "           data_sim.loc[~np.isnan(data_sim.pb1), 'pb2'], label='Simulated')\n",
    "\n",
    "ax[0].grid()\n",
    "ax[1].grid()\n",
    "ax[1].set_xlabel('Time [sec]')\n",
    "ax[0].set_ylabel('PB1 Output \\n [RCS units]')\n",
    "ax[1].set_ylabel('PB2 Output \\n [RCS units]')\n",
    "\n",
    "plt.tight_layout()"
   ]
  },
  {
   "cell_type": "markdown",
   "id": "4ec7bc3e-ef92-461b-a18f-93c9fcfa7967",
   "metadata": {
    "tags": []
   },
   "source": [
    "### PB --> LD --> state"
   ]
  },
  {
   "cell_type": "code",
   "execution_count": null,
   "id": "7eaad252-dd51-4b73-9a29-df766cc93d51",
   "metadata": {
    "jupyter": {
     "source_hidden": true
    },
    "tags": []
   },
   "outputs": [],
   "source": [
    "data_sim['ld1_iso'] = np.nan*np.ones(np.shape(data_sim['td1']))\n",
    "data_sim['ld2_iso'] = np.nan*np.ones(np.shape(data_sim['td1']))\n",
    "data_sim['state_iso'] = np.nan*np.ones(np.shape(data_sim['td1']))\n",
    "\n",
    "# Compute continuous-valued LD output\n",
    "ld_output, t_ld, update_tbl = rcs.pb_to_ld(\n",
    "                                        data_meas.loc[~np.isnan(data_meas['pb1']), \n",
    "                                                      ['pb1', 'pb2']].values, \n",
    "                                        data_meas.loc[~np.isnan(data_meas['pb1']), \n",
    "                                                      'timestamp'].values, \n",
    "                                        update_rate=settings.update_rate[0], \n",
    "                                        weights=settings.weights[0],\n",
    "                                        subtract_vec=settings.subtract_vec[0], \n",
    "                                        multiply_vec=settings.multiply_vec[0])\n",
    "\n",
    "# Compute the state changes\n",
    "state, t_state, ld_output = rcs.ld_to_state(ld_output, update_tbl, \n",
    "                                   data_meas.loc[~np.isnan(data_meas['pb1']), \n",
    "                                                 'timestamp'].values, \n",
    "                                   update_rate=settings.update_rate[0], \n",
    "                                   dual_threshold=settings.dual_threshold[0], \n",
    "                                   threshold=settings.threshold[0], \n",
    "                                   onset_duration=settings.onset[0], \n",
    "                                   termination_duration=settings.termination[0], \n",
    "                                   blank_duration=settings.blank_duration[0],\n",
    "                                   blank_both=settings.blank_both[0])\n",
    "\n",
    "# Log the simulated data\n",
    "ld1_sample_mask = np.isin(data_sim.timestamp.values, t_ld[0])\n",
    "data_sim.loc[ld1_sample_mask,'ld1_iso'] = ld_output[0]\n",
    "\n",
    "ld2_sample_mask = np.isin(data_sim.timestamp.values, t_ld[1])\n",
    "data_sim.loc[ld2_sample_mask,'ld2_iso'] = ld_output[1]"
   ]
  },
  {
   "cell_type": "code",
   "execution_count": null,
   "id": "8fb44627-508a-4850-80ee-1c2bc0a7cd70",
   "metadata": {
    "jupyter": {
     "source_hidden": true
    },
    "tags": []
   },
   "outputs": [],
   "source": [
    "# %matplotlib widget\n",
    "fig, ax = plt.subplots(3,1, figsize=(6,4), sharex='col', sharey=False)\n",
    "\n",
    "ax[0].plot(data_meas.loc[~np.isnan(data_meas.ld1), 'timestamp'], \n",
    "           data_meas.loc[~np.isnan(data_meas.ld1), 'ld1'], label='Measured')\n",
    "ax[0].plot(data_sim.loc[~np.isnan(data_sim.ld1_iso), 'timestamp'], \n",
    "           data_sim.loc[~np.isnan(data_sim.ld1_iso), 'ld1_iso'], \n",
    "           label='Simulated')\n",
    "ax[0].axhline(settings.threshold[0][0], color='r')\n",
    "ax[0].legend(bbox_to_anchor=(1.02, 0.6))\n",
    "\n",
    "ax[1].plot(data_meas.loc[~np.isnan(data_meas.ld2), 'timestamp'], \n",
    "           data_meas.loc[~np.isnan(data_meas.ld2), 'ld2'], label='Measured')\n",
    "ax[1].plot(data_sim.loc[~np.isnan(data_sim.ld2_iso), 'timestamp'], \n",
    "           data_sim.loc[~np.isnan(data_sim.ld2_iso), 'ld2_iso'], \n",
    "           label='Simulated')\n",
    "ax[1].axhline(settings.threshold[0][1], color='r')\n",
    "\n",
    "ax[2].plot(data_meas.loc[~np.isnan(data_meas.state), 'timestamp'], \n",
    "           data_meas.loc[~np.isnan(data_meas.state), 'state'], label='Measured')\n",
    "# ax[2].plot(data_sim.loc[~np.isnan(data_sim.state_iso), 'timestamp'], \n",
    "#            data_sim.loc[~np.isnan(data_sim.state_iso), 'state_iso'], \n",
    "#            label='Simulated')\n",
    "ax[2].plot(t_state, state, \n",
    "           label='Simulated')\n",
    "ax[2].set_yticks(np.arange(9))\n",
    "ax[2].set_yticklabels(['0'] + ['']*7 + ['8'])\n",
    "\n",
    "for i in range(3):\n",
    "    ax[i].grid()\n",
    "ax[2].set_xlabel('Time [sec]')\n",
    "ax[0].set_ylabel('LD1 Output \\n [a.u]')\n",
    "ax[1].set_ylabel('LD2 Output \\n [a.u.]')\n",
    "ax[2].set_ylabel('LD State')\n",
    "ax[2].set_ylabel('Stimulation \\n amplitude [mA]')\n",
    "\n",
    "plt.tight_layout()"
   ]
  },
  {
   "cell_type": "markdown",
   "id": "ccca7b4f-2c10-40ed-9f13-2f7cc2180e2b",
   "metadata": {
    "tags": []
   },
   "source": [
    "# LD3"
   ]
  },
  {
   "cell_type": "markdown",
   "id": "8910f465-1bd3-4cb5-81ec-b432854d5342",
   "metadata": {
    "tags": []
   },
   "source": [
    "### Load measured datasets and settings"
   ]
  },
  {
   "cell_type": "code",
   "execution_count": null,
   "id": "2640ad49-5a7b-4ec8-b2ff-125724fbc03a",
   "metadata": {
    "jupyter": {
     "source_hidden": true
    }
   },
   "outputs": [],
   "source": [
    "# left_neural_data = pd.read_csv(left_file_name)\n",
    "data_meas = pd.read_csv(data_folder + '/dataset_ld3.csv')\n",
    "settings = pd.read_csv(data_folder + '/dataset_ld3_config.csv')\n",
    "amp_gains = np.genfromtxt(data_folder + '/amp_gains.csv', \n",
    "                          delimiter=',').astype(int)"
   ]
  },
  {
   "cell_type": "code",
   "execution_count": null,
   "id": "57342d06-dde5-4605-b521-1517e9f86b0d",
   "metadata": {
    "jupyter": {
     "source_hidden": true
    }
   },
   "outputs": [],
   "source": [
    "settings['band_edges_hz'] = settings['band_edges_hz'].apply(literal_eval)\n",
    "settings['subtract_vec'] = settings['subtract_vec'].apply(literal_eval)\n",
    "settings['multiply_vec'] = settings['multiply_vec'].apply(literal_eval)\n",
    "settings['update_rate'] = settings['update_rate'].apply(literal_eval)\n",
    "settings['weights'] = settings['weights'].apply(literal_eval)\n",
    "settings['dual_threshold']= settings['dual_threshold'].apply(literal_eval)\n",
    "settings['threshold'] = settings['threshold'].apply(literal_eval)\n",
    "settings['blank_duration'] = settings['blank_duration'].apply(literal_eval)\n",
    "settings['onset'] = settings['onset'].apply(literal_eval)\n",
    "settings['termination'] = settings['termination'].apply(literal_eval)\n",
    "settings['blank_both'] = settings['blank_both'].apply(literal_eval)"
   ]
  },
  {
   "cell_type": "code",
   "execution_count": null,
   "id": "e34db8c1-2aaa-4472-8865-9e1424d7a09a",
   "metadata": {
    "jupyter": {
     "source_hidden": true
    },
    "tags": []
   },
   "outputs": [],
   "source": [
    "print('Settings')\n",
    "settings"
   ]
  },
  {
   "cell_type": "code",
   "execution_count": null,
   "id": "94ed9777-41b8-4787-8149-5c82ce97bdbe",
   "metadata": {
    "jupyter": {
     "source_hidden": true
    },
    "tags": []
   },
   "outputs": [],
   "source": [
    "print('Measured data')\n",
    "data_meas.head(2)"
   ]
  },
  {
   "cell_type": "markdown",
   "id": "c10f6e68-30c8-49bf-81b2-9c3ba8000000",
   "metadata": {
    "tags": []
   },
   "source": [
    "### TD --> PB"
   ]
  },
  {
   "cell_type": "code",
   "execution_count": null,
   "id": "cd19c4c9-781a-40fe-8807-984dd3f126c4",
   "metadata": {
    "jupyter": {
     "source_hidden": true
    },
    "tags": []
   },
   "outputs": [],
   "source": [
    "data_sim = data_meas[['timestamp', 'td1', 'td2']].copy()\n",
    "data_sim['pb1'] = np.nan*np.ones(np.shape(data_sim['td1']))\n",
    "data_sim['pb2'] = np.nan*np.ones(np.shape(data_sim['td2']))\n",
    "\n",
    "t_start = time.time()\n",
    "hann_win = rcs.create_hann_window(settings.fft_size[0], percent=100)\n",
    "\n",
    "# Compute power band for the first time-domain channel\n",
    "data_td = rcs.transform_mv_to_rcs(data_sim['td1'].values, amp_gains[0])\n",
    "data_fft, t_pb = rcs.td_to_fft(data_td, data_sim['timestamp'].values, \n",
    "                               fs_td=settings.fs_td[0], \n",
    "                               L=settings.fft_size[0], \n",
    "                               interval=settings.interval[0], \n",
    "                               hann_win=hann_win)\n",
    "data_pb = rcs.fft_to_pb(data_fft, settings.fs_td[0], \n",
    "                        L=settings.fft_size[0], \n",
    "                        bit_shift=settings.bit_shift[0], \n",
    "                        band_edges_hz=settings.band_edges_hz[0][0][1])\n",
    "pb_sample_mask = np.isin(data_sim.timestamp, t_pb)\n",
    "data_sim.loc[pb_sample_mask,'pb1'] = data_pb\n",
    "\n",
    "# Compute power band for the second time-domain channel\n",
    "data_td = rcs.transform_mv_to_rcs(data_sim['td2'].values, amp_gains[1])\n",
    "data_fft, t_pb = rcs.td_to_fft(data_td, data_sim['timestamp'].values, \n",
    "                               fs_td=settings.fs_td[0], \n",
    "                               L=settings.fft_size[0], \n",
    "                               interval=settings.interval[0], \n",
    "                               hann_win=hann_win)\n",
    "data_pb = rcs.fft_to_pb(data_fft, settings.fs_td[0], \n",
    "                        L=settings.fft_size[0], \n",
    "                        bit_shift=settings.bit_shift[0], \n",
    "                        band_edges_hz=settings.band_edges_hz[0][1][1])\n",
    "pb_sample_mask = np.isin(data_sim.timestamp, t_pb)\n",
    "data_sim.loc[pb_sample_mask,'pb2'] = data_pb\n",
    "\n",
    "t_end = time.time()\n",
    "print('Time elapsed: ' + str(t_end-t_start))"
   ]
  },
  {
   "cell_type": "code",
   "execution_count": null,
   "id": "daf4d7c1-3ce3-4361-9c39-982b163c77dd",
   "metadata": {
    "jupyter": {
     "source_hidden": true
    },
    "tags": []
   },
   "outputs": [],
   "source": [
    "# %matplotlib widget\n",
    "fig, ax = plt.subplots(2,1, figsize=(6,3), sharex='col', sharey=False)\n",
    "\n",
    "ax[0].plot(data_meas.loc[~np.isnan(data_meas.pb1), 'timestamp'], \n",
    "           data_meas.loc[~np.isnan(data_meas.pb1), 'pb1'], label='Measured')\n",
    "ax[0].plot(data_sim.loc[~np.isnan(data_sim.pb1), 'timestamp'], \n",
    "           data_sim.loc[~np.isnan(data_sim.pb1), 'pb1'], label='Simulated')\n",
    "\n",
    "ax[1].plot(data_meas.loc[~np.isnan(data_meas.pb2), 'timestamp'], \n",
    "           data_meas.loc[~np.isnan(data_meas.pb2), 'pb1'], label='Measured')\n",
    "ax[1].plot(data_sim.loc[~np.isnan(data_sim.pb2), 'timestamp'], \n",
    "           data_sim.loc[~np.isnan(data_sim.pb2), 'pb1'], label='Simulated')\n",
    "\n",
    "ax[0].legend(bbox_to_anchor=(1.02, 0.6))\n",
    "ax[0].grid()\n",
    "ax[1].grid()\n",
    "ax[1].set_xlabel('Time [sec]')\n",
    "ax[0].set_ylabel('PB1 Output \\n [RCS units]')\n",
    "ax[1].set_ylabel('PB2 Output \\n [RCS units]')\n",
    "\n",
    "plt.tight_layout()"
   ]
  },
  {
   "cell_type": "markdown",
   "id": "158e0adc-ac14-4590-b538-5c9ec44c84cf",
   "metadata": {
    "tags": []
   },
   "source": [
    "### PB --> LD --> state"
   ]
  },
  {
   "cell_type": "code",
   "execution_count": null,
   "id": "3640e13b-5824-4306-ae0b-5ded367c69e1",
   "metadata": {
    "jupyter": {
     "source_hidden": true
    },
    "tags": []
   },
   "outputs": [],
   "source": [
    "data_sim['ld1_iso'] = np.nan*np.ones(np.shape(data_sim['td1']))\n",
    "data_sim['state_iso'] = np.nan*np.ones(np.shape(data_sim['td1']))\n",
    "\n",
    "# Compute continuous-valued LD output\n",
    "ld_output, t_ld, update_tbl = rcs.pb_to_ld(\n",
    "                                        data_meas.loc[~np.isnan(data_meas['pb1']), \n",
    "                                                      ['pb1', 'pb2']].values, \n",
    "                                        data_meas.loc[~np.isnan(data_meas['pb1']), \n",
    "                                                      'timestamp'].values, \n",
    "                                        update_rate=settings.update_rate[0], \n",
    "                                        weights=settings.weights[0],\n",
    "                                        subtract_vec=settings.subtract_vec[0], \n",
    "                                        multiply_vec=settings.multiply_vec[0])\n",
    "\n",
    "# Compute the state changes\n",
    "state, t_state, ld_output = rcs.ld_to_state(ld_output, update_tbl, \n",
    "                                   data_meas.loc[~np.isnan(data_meas['pb1']), \n",
    "                                                 'timestamp'].values, \n",
    "                                   update_rate=settings.update_rate[0], \n",
    "                                   dual_threshold=settings.dual_threshold[0], \n",
    "                                   threshold=settings.threshold[0], \n",
    "                                   onset_duration=settings.onset[0], \n",
    "                                   termination_duration=settings.termination[0], \n",
    "                                   blank_duration=settings.blank_duration[0])\n",
    "\n",
    "# Log the simulated data\n",
    "ld1_sample_mask = np.isin(data_sim.timestamp.values, t_ld[0])\n",
    "data_sim.loc[ld1_sample_mask,'ld1_iso'] = ld_output[0]"
   ]
  },
  {
   "cell_type": "code",
   "execution_count": null,
   "id": "c7f2e685-97f6-43b3-a942-716345a82447",
   "metadata": {
    "jupyter": {
     "source_hidden": true
    },
    "tags": []
   },
   "outputs": [],
   "source": [
    "# %matplotlib widget\n",
    "fig, ax = plt.subplots(2,1, figsize=(6,4), sharex='col', sharey=False)\n",
    "\n",
    "ax[0].plot(data_meas.loc[~np.isnan(data_meas.ld1), 'timestamp'], \n",
    "           data_meas.loc[~np.isnan(data_meas.ld1), 'ld1'], label='Measured')\n",
    "ax[0].plot(data_sim.loc[~np.isnan(data_sim.ld1_iso), 'timestamp'], \n",
    "           data_sim.loc[~np.isnan(data_sim.ld1_iso), 'ld1_iso'], \n",
    "           label='Simulated')\n",
    "ax[0].axhline(settings.threshold[0][0], color='r')\n",
    "ax[0].legend(bbox_to_anchor=(1.02, 0.6))\n",
    "\n",
    "ax[1].plot(data_meas.loc[~np.isnan(data_meas.state), 'timestamp'], \n",
    "           data_meas.loc[~np.isnan(data_meas.state), 'state'], label='Measured')\n",
    "# ax[2].plot(data_sim.loc[~np.isnan(data_sim.state_iso), 'timestamp'], \n",
    "#            data_sim.loc[~np.isnan(data_sim.state_iso), 'state_iso'], \n",
    "#            label='Simulated')\n",
    "ax[1].plot(t_state, state, \n",
    "           label='Simulated')\n",
    "ax[1].set_yticks(np.arange(9))\n",
    "ax[1].set_yticklabels(['0'] + ['']*7 + ['8'])\n",
    "\n",
    "for i in range(2):\n",
    "    ax[i].grid()\n",
    "ax[1].set_xlabel('Time [sec]')\n",
    "ax[0].set_ylabel('LD1 Output \\n [a.u]')\n",
    "ax[1].set_ylabel('LD State')\n",
    "\n",
    "plt.tight_layout()"
   ]
  },
  {
   "cell_type": "markdown",
   "id": "98f8c74a-5acf-40e6-8716-051fbcfa7cc0",
   "metadata": {
    "tags": []
   },
   "source": [
    "# LD4a"
   ]
  },
  {
   "cell_type": "markdown",
   "id": "c23c9df6-8445-4558-bcda-b836b0d0c429",
   "metadata": {
    "tags": []
   },
   "source": [
    "### Load measured datasets and settings"
   ]
  },
  {
   "cell_type": "code",
   "execution_count": null,
   "id": "e26bd407-3050-4b37-bd81-52ee040629e8",
   "metadata": {
    "tags": []
   },
   "outputs": [],
   "source": [
    "data_meas = pd.read_csv(data_folder + '/dataset_ld4a.csv')\n",
    "settings = pd.read_csv(data_folder + '/dataset_ld4_config.csv')\n",
    "amp_gains = np.genfromtxt(data_folder + '/amp_gains.csv', \n",
    "                          delimiter=',').astype(int)\n",
    "\n",
    "settings['band_edges_hz'] = settings['band_edges_hz'].apply(literal_eval)\n",
    "settings['subtract_vec'] = settings['subtract_vec'].apply(literal_eval)\n",
    "settings['multiply_vec'] = settings['multiply_vec'].apply(literal_eval)\n",
    "settings['update_rate'] = settings['update_rate'].apply(literal_eval)\n",
    "settings['weights'] = settings['weights'].apply(literal_eval)\n",
    "settings['dual_threshold']= settings['dual_threshold'].apply(literal_eval)\n",
    "settings['threshold'] = settings['threshold'].apply(literal_eval)\n",
    "settings['blank_duration'] = settings['blank_duration'].apply(literal_eval)\n",
    "settings['onset'] = settings['onset'].apply(literal_eval)\n",
    "settings['termination'] = settings['termination'].apply(literal_eval)\n",
    "settings['blank_both'] = settings['blank_both'].apply(literal_eval)"
   ]
  },
  {
   "cell_type": "code",
   "execution_count": null,
   "id": "73f8b52a-d2b2-4383-946f-63c0571238b7",
   "metadata": {
    "jupyter": {
     "source_hidden": true
    },
    "tags": []
   },
   "outputs": [],
   "source": [
    "print('Measured data')\n",
    "data_meas.head(2)"
   ]
  },
  {
   "cell_type": "code",
   "execution_count": null,
   "id": "05671c86-c0ec-4610-8b0a-6c2b57aa1927",
   "metadata": {
    "jupyter": {
     "source_hidden": true
    },
    "tags": []
   },
   "outputs": [],
   "source": [
    "print('Settings')\n",
    "settings"
   ]
  },
  {
   "cell_type": "markdown",
   "id": "a2f8597c-ecb3-4b1b-b339-40d499348f81",
   "metadata": {
    "tags": []
   },
   "source": [
    "### TD --> PB"
   ]
  },
  {
   "cell_type": "code",
   "execution_count": null,
   "id": "351951e0-9115-4d5d-a726-b3dead95fa37",
   "metadata": {
    "jupyter": {
     "source_hidden": true
    },
    "tags": []
   },
   "outputs": [],
   "source": [
    "data_sim = data_meas[['timestamp', 'td1', 'td2']].copy()\n",
    "data_sim['pb1'] = np.nan*np.ones(np.shape(data_sim['td1']))\n",
    "data_sim['pb2'] = np.nan*np.ones(np.shape(data_sim['td1']))\n",
    "\n",
    "t_start = time.time()\n",
    "hann_win = rcs.create_hann_window(settings.fft_size[0], percent=100)\n",
    "\n",
    "# Compute power band for the first time-domain channel\n",
    "data_td = rcs.transform_mv_to_rcs(data_sim['td1'].values, amp_gains[0])\n",
    "data_fft, t_pb = rcs.td_to_fft(data_td, data_sim['timestamp'].values, \n",
    "                               fs_td=settings.fs_td[0], \n",
    "                               L=settings.fft_size[0], \n",
    "                               interval=settings.interval[0], \n",
    "                               hann_win=hann_win)\n",
    "data_pb = rcs.fft_to_pb(data_fft, \n",
    "                        fs_td=settings.fs_td[0], \n",
    "                        L=settings.fft_size[0], \n",
    "                        bit_shift=settings.bit_shift[0], \n",
    "                        band_edges_hz=settings.band_edges_hz[0][0][1])\n",
    "pb_sample_mask = np.isin(data_sim.timestamp, t_pb)\n",
    "data_sim.loc[pb_sample_mask,'pb1'] = data_pb\n",
    "\n",
    "# Compute power band for the second time-domain channel\n",
    "data_td = rcs.transform_mv_to_rcs(data_sim['td2'].values, amp_gains[1])\n",
    "data_fft, t_pb = rcs.td_to_fft(data_td, data_sim['timestamp'].values, \n",
    "                               fs_td=settings.fs_td[0], \n",
    "                               L=settings.fft_size[0], \n",
    "                               interval=settings.interval[0], \n",
    "                               hann_win=hann_win)\n",
    "data_pb = rcs.fft_to_pb(data_fft, \n",
    "                        fs_td=settings.fs_td[0], \n",
    "                        L=settings.fft_size[0], \n",
    "                        bit_shift=settings.bit_shift[0], \n",
    "                        band_edges_hz=settings.band_edges_hz[0][1][1])\n",
    "pb_sample_mask = np.isin(data_sim.timestamp, t_pb)\n",
    "data_sim.loc[pb_sample_mask,'pb2'] = data_pb\n",
    "\n",
    "t_end = time.time()\n",
    "print('Time elapsed: ' + str(t_end-t_start))"
   ]
  },
  {
   "cell_type": "code",
   "execution_count": null,
   "id": "af3ceca8-a3f7-4863-9729-c012e8e623ae",
   "metadata": {
    "jupyter": {
     "source_hidden": true
    },
    "tags": []
   },
   "outputs": [],
   "source": [
    "# %matplotlib widget\n",
    "fig, ax = plt.subplots(2,1, figsize=(6,3), sharex='col', sharey=False)\n",
    "\n",
    "ax[0].plot(data_meas.loc[~np.isnan(data_meas.pb1), 'timestamp'], \n",
    "           data_meas.loc[~np.isnan(data_meas.pb1), 'pb1'], label='Measured')\n",
    "ax[0].plot(data_sim.loc[~np.isnan(data_sim.pb1), 'timestamp'], \n",
    "           data_sim.loc[~np.isnan(data_sim.pb1), 'pb1'], label='Simulated')\n",
    "ax[0].legend(bbox_to_anchor=(1.02, 0.6))\n",
    "\n",
    "ax[1].plot(data_meas.loc[~np.isnan(data_meas.pb1), 'timestamp'], \n",
    "           data_meas.loc[~np.isnan(data_meas.pb1), 'pb2'], label='Measured')\n",
    "ax[1].plot(data_sim.loc[~np.isnan(data_sim.pb1), 'timestamp'], \n",
    "           data_sim.loc[~np.isnan(data_sim.pb1), 'pb2'], label='Simulated')\n",
    "\n",
    "ax[0].grid()\n",
    "ax[1].grid()\n",
    "ax[1].set_xlabel('Time [sec]')\n",
    "ax[0].set_ylabel('PB1 Output \\n [RCS units]')\n",
    "ax[1].set_ylabel('PB2 Output \\n [RCS units]')\n",
    "\n",
    "plt.tight_layout()"
   ]
  },
  {
   "cell_type": "markdown",
   "id": "e7790b9a-2451-453d-a9a3-0e51581313dc",
   "metadata": {
    "tags": []
   },
   "source": [
    "### PB --> LD --> state"
   ]
  },
  {
   "cell_type": "code",
   "execution_count": null,
   "id": "bcb6d68e-2180-4e19-9913-a1355655eac9",
   "metadata": {
    "jupyter": {
     "source_hidden": true
    }
   },
   "outputs": [],
   "source": [
    "data_sim['ld1_iso'] = np.nan*np.ones(np.shape(data_sim['td1']))\n",
    "data_sim['ld2_iso'] = np.nan*np.ones(np.shape(data_sim['td1']))\n",
    "data_sim['state_iso'] = np.nan*np.ones(np.shape(data_sim['td1']))\n",
    "\n",
    "# Compute continuous-valued LD output\n",
    "ld_output, t_ld, update_tbl = rcs.pb_to_ld(\n",
    "                                        data_meas.loc[~np.isnan(data_meas['pb1']), \n",
    "                                                      ['pb1', 'pb2']].values, \n",
    "                                        data_meas.loc[~np.isnan(data_meas['pb1']), \n",
    "                                                      'timestamp'].values, \n",
    "                                        update_rate=settings.update_rate[0], \n",
    "                                        weights=settings.weights[0],\n",
    "                                        subtract_vec=settings.subtract_vec[0], \n",
    "                                        multiply_vec=settings.multiply_vec[0])\n",
    "\n",
    "# Compute the state changes\n",
    "state, t_state, ld_output = rcs.ld_to_state(ld_output, update_tbl, \n",
    "                                   data_meas.loc[~np.isnan(data_meas['pb1']), \n",
    "                                                 'timestamp'].values, \n",
    "                                   update_rate=settings.update_rate[0], \n",
    "                                   dual_threshold=settings.dual_threshold[0], \n",
    "                                   threshold=settings.threshold[0], \n",
    "                                   onset_duration=settings.onset[0], \n",
    "                                   termination_duration=settings.termination[0], \n",
    "                                   blank_duration=settings.blank_duration[0],\n",
    "                                   blank_both=settings.blank_both[0])\n",
    "\n",
    "# Log the simulated data\n",
    "ld1_sample_mask = np.isin(data_sim.timestamp.values, t_ld[0])\n",
    "data_sim.loc[ld1_sample_mask,'ld1_iso'] = ld_output[0]\n",
    "\n",
    "ld2_sample_mask = np.isin(data_sim.timestamp.values, t_ld[1])\n",
    "data_sim.loc[ld2_sample_mask,'ld2_iso'] = ld_output[1]"
   ]
  },
  {
   "cell_type": "code",
   "execution_count": null,
   "id": "aa5c33a6-d7c7-4eb0-b6c3-8ab4ad9680f8",
   "metadata": {
    "jupyter": {
     "source_hidden": true
    }
   },
   "outputs": [],
   "source": [
    "# %matplotlib widget\n",
    "fig, ax = plt.subplots(3,1, figsize=(6,4), sharex='col', sharey=False)\n",
    "\n",
    "ax[0].plot(data_meas.loc[~np.isnan(data_meas.ld1), 'timestamp'], \n",
    "           data_meas.loc[~np.isnan(data_meas.ld1), 'ld1'], label='Measured')\n",
    "ax[0].plot(data_sim.loc[~np.isnan(data_sim.ld1_iso), 'timestamp'], \n",
    "           data_sim.loc[~np.isnan(data_sim.ld1_iso), 'ld1_iso'], \n",
    "           label='Simulated')\n",
    "ax[0].axhline(settings.threshold[0][0], color='r')\n",
    "ax[0].legend(bbox_to_anchor=(1.02, 0.6))\n",
    "\n",
    "ax[1].plot(data_meas.loc[~np.isnan(data_meas.ld2), 'timestamp'], \n",
    "           data_meas.loc[~np.isnan(data_meas.ld2), 'ld2'], label='Measured')\n",
    "ax[1].plot(data_sim.loc[~np.isnan(data_sim.ld2_iso), 'timestamp'], \n",
    "           data_sim.loc[~np.isnan(data_sim.ld2_iso), 'ld2_iso'], \n",
    "           label='Simulated')\n",
    "ax[1].axhline(settings.threshold[0][1], color='r')\n",
    "\n",
    "ax[2].plot(data_meas.loc[~np.isnan(data_meas.state), 'timestamp'], \n",
    "           data_meas.loc[~np.isnan(data_meas.state), 'state'], label='Measured')\n",
    "# ax[2].plot(data_sim.loc[~np.isnan(data_sim.state_iso), 'timestamp'], \n",
    "#            data_sim.loc[~np.isnan(data_sim.state_iso), 'state_iso'], \n",
    "#            label='Simulated')\n",
    "ax[2].plot(t_state, state, \n",
    "           label='Simulated')\n",
    "ax[2].set_yticks(np.arange(9))\n",
    "ax[2].set_yticklabels(['0'] + ['']*7 + ['8'])\n",
    "\n",
    "for i in range(3):\n",
    "    ax[i].grid()\n",
    "ax[2].set_xlabel('Time [sec]')\n",
    "ax[0].set_ylabel('LD1 Output \\n [a.u]')\n",
    "ax[1].set_ylabel('LD2 Output \\n [a.u.]')\n",
    "ax[2].set_ylabel('LD State')\n",
    "ax[2].set_ylabel('Stimulation \\n amplitude [mA]')\n",
    "\n",
    "plt.tight_layout()"
   ]
  },
  {
   "cell_type": "markdown",
   "id": "93809dd2-7909-40f1-ada3-b526bfc62031",
   "metadata": {
    "tags": []
   },
   "source": [
    "# LD4b"
   ]
  },
  {
   "cell_type": "markdown",
   "id": "e10ffc51-001e-4643-83e6-e2367966b55c",
   "metadata": {
    "tags": []
   },
   "source": [
    "### Load measured datasets and settings"
   ]
  },
  {
   "cell_type": "code",
   "execution_count": null,
   "id": "5c6002cf-84c1-4eef-981d-7fb6e5bf1d59",
   "metadata": {
    "jupyter": {
     "source_hidden": true
    }
   },
   "outputs": [],
   "source": [
    "# left_neural_data = pd.read_csv(left_file_name)\n",
    "data_meas = pd.read_csv(data_folder + '/dataset_ld4b.csv')\n",
    "settings = pd.read_csv(data_folder + '/dataset_ld4_config.csv')\n",
    "\n",
    "settings['band_edges_hz'] = settings['band_edges_hz'].apply(literal_eval)\n",
    "settings['subtract_vec'] = settings['subtract_vec'].apply(literal_eval)\n",
    "settings['multiply_vec'] = settings['multiply_vec'].apply(literal_eval)\n",
    "settings['update_rate'] = settings['update_rate'].apply(literal_eval)\n",
    "settings['weights'] = settings['weights'].apply(literal_eval)\n",
    "settings['dual_threshold']= settings['dual_threshold'].apply(literal_eval)\n",
    "settings['threshold'] = settings['threshold'].apply(literal_eval)\n",
    "settings['blank_duration'] = settings['blank_duration'].apply(literal_eval)\n",
    "settings['onset'] = settings['onset'].apply(literal_eval)\n",
    "settings['termination'] = settings['termination'].apply(literal_eval)\n",
    "settings['blank_both'] = settings['blank_both'].apply(literal_eval)"
   ]
  },
  {
   "cell_type": "code",
   "execution_count": null,
   "id": "faf34bc8-ac07-4563-b6bc-10e0b60dbaee",
   "metadata": {
    "jupyter": {
     "source_hidden": true
    },
    "tags": []
   },
   "outputs": [],
   "source": [
    "print('Measured data')\n",
    "data_meas.head(2)"
   ]
  },
  {
   "cell_type": "code",
   "execution_count": null,
   "id": "1738e484-95ee-4acf-a384-ff508b184bc5",
   "metadata": {
    "jupyter": {
     "source_hidden": true
    },
    "tags": []
   },
   "outputs": [],
   "source": [
    "print('Settings')\n",
    "settings"
   ]
  },
  {
   "cell_type": "markdown",
   "id": "69df9396-22ca-4c4f-a806-d158408fb77d",
   "metadata": {
    "tags": []
   },
   "source": [
    "### TD --> PB"
   ]
  },
  {
   "cell_type": "code",
   "execution_count": null,
   "id": "f5430dc3-5f5d-43ad-ac80-19b10a3b9df1",
   "metadata": {
    "jupyter": {
     "source_hidden": true
    },
    "tags": []
   },
   "outputs": [],
   "source": [
    "data_sim = data_meas[['timestamp', 'td1', 'td2']].copy()\n",
    "data_sim['pb1'] = np.nan*np.ones(np.shape(data_sim['td1']))\n",
    "data_sim['pb2'] = np.nan*np.ones(np.shape(data_sim['td1']))\n",
    "\n",
    "t_start = time.time()\n",
    "hann_win = rcs.create_hann_window(settings.fft_size[0], percent=100)\n",
    "\n",
    "# Compute power band for the first time-domain channel\n",
    "data_td = rcs.transform_mv_to_rcs(data_sim['td1'].values, amp_gains[0])\n",
    "data_fft, t_pb = rcs.td_to_fft(data_td, data_sim['timestamp'].values, \n",
    "                               fs_td=settings.fs_td[0], \n",
    "                               L=settings.fft_size[0], \n",
    "                               interval=settings.interval[0], \n",
    "                               hann_win=hann_win)\n",
    "data_pb = rcs.fft_to_pb(data_fft, \n",
    "                        fs_td=settings.fs_td[0], \n",
    "                        L=settings.fft_size[0], \n",
    "                        bit_shift=settings.bit_shift[0], \n",
    "                        band_edges_hz=settings.band_edges_hz[0][0][1])\n",
    "pb_sample_mask = np.isin(data_sim.timestamp, t_pb)\n",
    "data_sim.loc[pb_sample_mask,'pb1'] = data_pb\n",
    "\n",
    "# Compute power band for the second time-domain channel\n",
    "data_td = rcs.transform_mv_to_rcs(data_sim['td2'].values, amp_gains[1])\n",
    "data_fft, t_pb = rcs.td_to_fft(data_td, data_sim['timestamp'].values, \n",
    "                               fs_td=settings.fs_td[0], \n",
    "                               L=settings.fft_size[0], \n",
    "                               interval=settings.interval[0], \n",
    "                               hann_win=hann_win)\n",
    "data_pb = rcs.fft_to_pb(data_fft, \n",
    "                        fs_td=settings.fs_td[0], \n",
    "                        L=settings.fft_size[0], \n",
    "                        bit_shift=settings.bit_shift[0], \n",
    "                        band_edges_hz=settings.band_edges_hz[0][1][1])\n",
    "pb_sample_mask = np.isin(data_sim.timestamp, t_pb)\n",
    "data_sim.loc[pb_sample_mask,'pb2'] = data_pb\n",
    "\n",
    "t_end = time.time()\n",
    "print('Time elapsed: ' + str(t_end-t_start))"
   ]
  },
  {
   "cell_type": "code",
   "execution_count": null,
   "id": "c9a21880-4eab-42ba-9037-630e857827d6",
   "metadata": {
    "jupyter": {
     "source_hidden": true
    },
    "tags": []
   },
   "outputs": [],
   "source": [
    "# %matplotlib widget\n",
    "fig, ax = plt.subplots(2,1, figsize=(6,3), sharex='col', sharey=False)\n",
    "\n",
    "ax[0].plot(data_meas.loc[~np.isnan(data_meas.pb1), 'timestamp'], \n",
    "           data_meas.loc[~np.isnan(data_meas.pb1), 'pb1'], label='Measured')\n",
    "ax[0].plot(data_sim.loc[~np.isnan(data_sim.pb1), 'timestamp'], \n",
    "           data_sim.loc[~np.isnan(data_sim.pb1), 'pb1'], label='Simulated')\n",
    "ax[0].legend(bbox_to_anchor=(1.02, 0.6))\n",
    "\n",
    "ax[1].plot(data_meas.loc[~np.isnan(data_meas.pb1), 'timestamp'], \n",
    "           data_meas.loc[~np.isnan(data_meas.pb1), 'pb2'], label='Measured')\n",
    "ax[1].plot(data_sim.loc[~np.isnan(data_sim.pb1), 'timestamp'], \n",
    "           data_sim.loc[~np.isnan(data_sim.pb1), 'pb2'], label='Simulated')\n",
    "\n",
    "ax[0].grid()\n",
    "ax[1].grid()\n",
    "ax[1].set_xlabel('Time [sec]')\n",
    "ax[0].set_ylabel('PB1 Output \\n [RCS units]')\n",
    "ax[1].set_ylabel('PB2 Output \\n [RCS units]')\n",
    "\n",
    "plt.tight_layout()"
   ]
  },
  {
   "cell_type": "markdown",
   "id": "89ea84b8-cab5-42d2-a69a-f3b6e004584d",
   "metadata": {
    "tags": []
   },
   "source": [
    "### PB --> LD --> state"
   ]
  },
  {
   "cell_type": "code",
   "execution_count": null,
   "id": "7f03b334-48c0-44b5-baa5-c3b771a64ac3",
   "metadata": {
    "jupyter": {
     "source_hidden": true
    },
    "tags": []
   },
   "outputs": [],
   "source": [
    "data_sim['ld1_iso'] = np.nan*np.ones(np.shape(data_sim['td1']))\n",
    "data_sim['ld2_iso'] = np.nan*np.ones(np.shape(data_sim['td1']))\n",
    "data_sim['state_iso'] = np.nan*np.ones(np.shape(data_sim['td1']))\n",
    "\n",
    "# Compute continuous-valued LD output\n",
    "ld_output, t_ld, update_tbl = rcs.pb_to_ld(\n",
    "                                        data_meas.loc[~np.isnan(data_meas['pb1']), \n",
    "                                                      ['pb1', 'pb2']].values, \n",
    "                                        data_meas.loc[~np.isnan(data_meas['pb1']), \n",
    "                                                      'timestamp'].values, \n",
    "                                        update_rate=settings.update_rate[0], \n",
    "                                        weights=settings.weights[0],\n",
    "                                        subtract_vec=settings.subtract_vec[0], \n",
    "                                        multiply_vec=settings.multiply_vec[0])\n",
    "\n",
    "# Compute the state changes\n",
    "state, t_state, ld_output = rcs.ld_to_state(ld_output, update_tbl, \n",
    "                                   data_meas.loc[~np.isnan(data_meas['pb1']), \n",
    "                                                 'timestamp'].values, \n",
    "                                   update_rate=settings.update_rate[0], \n",
    "                                   dual_threshold=settings.dual_threshold[0], \n",
    "                                   threshold=settings.threshold[0], \n",
    "                                   onset_duration=settings.onset[0], \n",
    "                                   termination_duration=settings.termination[0], \n",
    "                                   blank_duration=settings.blank_duration[0],\n",
    "                                   blank_both=settings.blank_both[0])\n",
    "\n",
    "# Log the simulated data\n",
    "ld1_sample_mask = np.isin(data_sim.timestamp.values, t_ld[0])\n",
    "data_sim.loc[ld1_sample_mask,'ld1_iso'] = ld_output[0]\n",
    "\n",
    "ld2_sample_mask = np.isin(data_sim.timestamp.values, t_ld[1])\n",
    "data_sim.loc[ld2_sample_mask,'ld2_iso'] = ld_output[1]"
   ]
  },
  {
   "cell_type": "code",
   "execution_count": null,
   "id": "352e3602-2778-4ae4-ac52-7527ec29144f",
   "metadata": {
    "jupyter": {
     "source_hidden": true
    },
    "tags": []
   },
   "outputs": [],
   "source": [
    "# %matplotlib widget\n",
    "fig, ax = plt.subplots(3,1, figsize=(6,4), sharex='col', sharey=False)\n",
    "\n",
    "ax[0].plot(data_meas.loc[~np.isnan(data_meas.ld1), 'timestamp'], \n",
    "           data_meas.loc[~np.isnan(data_meas.ld1), 'ld1'], label='Measured')\n",
    "ax[0].plot(data_sim.loc[~np.isnan(data_sim.ld1_iso), 'timestamp'], \n",
    "           data_sim.loc[~np.isnan(data_sim.ld1_iso), 'ld1_iso'], \n",
    "           label='Simulated')\n",
    "ax[0].axhline(settings.threshold[0][0], color='r')\n",
    "ax[0].legend(bbox_to_anchor=(1.02, 0.6))\n",
    "\n",
    "ax[1].plot(data_meas.loc[~np.isnan(data_meas.ld2), 'timestamp'], \n",
    "           data_meas.loc[~np.isnan(data_meas.ld2), 'ld2'], label='Measured')\n",
    "ax[1].plot(data_sim.loc[~np.isnan(data_sim.ld2_iso), 'timestamp'], \n",
    "           data_sim.loc[~np.isnan(data_sim.ld2_iso), 'ld2_iso'], \n",
    "           label='Simulated')\n",
    "ax[1].axhline(settings.threshold[0][1], color='r')\n",
    "\n",
    "ax[2].plot(data_meas.loc[~np.isnan(data_meas.state), 'timestamp'], \n",
    "           data_meas.loc[~np.isnan(data_meas.state), 'state'], label='Measured')\n",
    "# ax[2].plot(data_sim.loc[~np.isnan(data_sim.state_iso), 'timestamp'], \n",
    "#            data_sim.loc[~np.isnan(data_sim.state_iso), 'state_iso'], \n",
    "#            label='Simulated')\n",
    "ax[2].plot(t_state, state, \n",
    "           label='Simulated')\n",
    "ax[2].set_yticks(np.arange(9))\n",
    "ax[2].set_yticklabels(['0'] + ['']*7 + ['8'])\n",
    "\n",
    "for i in range(3):\n",
    "    ax[i].grid()\n",
    "ax[2].set_xlabel('Time [sec]')\n",
    "ax[0].set_ylabel('LD1 Output \\n [a.u]')\n",
    "ax[1].set_ylabel('LD2 Output \\n [a.u.]')\n",
    "ax[2].set_ylabel('LD State')\n",
    "ax[2].set_ylabel('Stimulation \\n amplitude [mA]')\n",
    "\n",
    "plt.tight_layout()"
   ]
  },
  {
   "cell_type": "markdown",
   "id": "1afb4839-d62e-468d-a18b-42499eaf88c0",
   "metadata": {
    "tags": []
   },
   "source": [
    "# LD4c"
   ]
  },
  {
   "cell_type": "markdown",
   "id": "c5f6e599-7b7b-4e59-b992-5db0cca8931b",
   "metadata": {
    "tags": []
   },
   "source": [
    "### Load measured datasets and settings"
   ]
  },
  {
   "cell_type": "code",
   "execution_count": null,
   "id": "e3cc16b1-256c-4d91-af8c-470925f6b8cc",
   "metadata": {
    "jupyter": {
     "source_hidden": true
    },
    "tags": []
   },
   "outputs": [],
   "source": [
    "# left_neural_data = pd.read_csv(left_file_name)\n",
    "data_meas = pd.read_csv(data_folder + '/dataset_ld4c.csv')\n",
    "settings = pd.read_csv(data_folder + '/dataset_ld4_config.csv')\n",
    "amp_gains = np.genfromtxt(data_folder + '/amp_gains.csv', \n",
    "                          delimiter=',').astype(int)\n",
    "\n",
    "settings['band_edges_hz'] = settings['band_edges_hz'].apply(literal_eval)\n",
    "settings['subtract_vec'] = settings['subtract_vec'].apply(literal_eval)\n",
    "settings['multiply_vec'] = settings['multiply_vec'].apply(literal_eval)\n",
    "settings['update_rate'] = settings['update_rate'].apply(literal_eval)\n",
    "settings['weights'] = settings['weights'].apply(literal_eval)\n",
    "settings['dual_threshold']= settings['dual_threshold'].apply(literal_eval)\n",
    "settings['threshold'] = settings['threshold'].apply(literal_eval)\n",
    "settings['blank_duration'] = settings['blank_duration'].apply(literal_eval)\n",
    "settings['onset'] = settings['onset'].apply(literal_eval)\n",
    "settings['termination'] = settings['termination'].apply(literal_eval)\n",
    "settings['blank_both'] = settings['blank_both'].apply(literal_eval)"
   ]
  },
  {
   "cell_type": "code",
   "execution_count": null,
   "id": "7a71d586-b75a-4003-8cb9-1cb10d8ed6cc",
   "metadata": {
    "jupyter": {
     "source_hidden": true
    },
    "tags": []
   },
   "outputs": [],
   "source": [
    "print('Measured data')\n",
    "data_meas.head(2)"
   ]
  },
  {
   "cell_type": "code",
   "execution_count": null,
   "id": "433263a8-dbdd-4b41-8729-2d3495629c36",
   "metadata": {
    "jupyter": {
     "source_hidden": true
    },
    "tags": []
   },
   "outputs": [],
   "source": [
    "print('Settings')\n",
    "settings"
   ]
  },
  {
   "cell_type": "markdown",
   "id": "10303dcc-f563-44fb-8c63-c86d4960b8e5",
   "metadata": {
    "tags": []
   },
   "source": [
    "### TD --> PB"
   ]
  },
  {
   "cell_type": "code",
   "execution_count": null,
   "id": "b7f31e97-0721-4dc7-883f-d87cb152fabc",
   "metadata": {
    "jupyter": {
     "source_hidden": true
    },
    "tags": []
   },
   "outputs": [],
   "source": [
    "data_sim = data_meas[['timestamp', 'td1', 'td2']].copy()\n",
    "data_sim['pb1'] = np.nan*np.ones(np.shape(data_sim['td1']))\n",
    "data_sim['pb2'] = np.nan*np.ones(np.shape(data_sim['td1']))\n",
    "\n",
    "t_start = time.time()\n",
    "hann_win = rcs.create_hann_window(settings.fft_size[0], percent=100)\n",
    "\n",
    "# Compute power band for the first time-domain channel\n",
    "data_td = rcs.transform_mv_to_rcs(data_sim['td1'].values, amp_gains[0])\n",
    "data_fft, t_pb = rcs.td_to_fft(data_td, data_sim['timestamp'].values, \n",
    "                               fs_td=settings.fs_td[0], \n",
    "                               L=settings.fft_size[0], \n",
    "                               interval=settings.interval[0], \n",
    "                               hann_win=hann_win)\n",
    "data_pb = rcs.fft_to_pb(data_fft, \n",
    "                        fs_td=settings.fs_td[0], \n",
    "                        L=settings.fft_size[0], \n",
    "                        bit_shift=settings.bit_shift[0], \n",
    "                        band_edges_hz=settings.band_edges_hz[0][0][1])\n",
    "pb_sample_mask = np.isin(data_sim.timestamp, t_pb)\n",
    "data_sim.loc[pb_sample_mask,'pb1'] = data_pb\n",
    "\n",
    "# Compute power band for the second time-domain channel\n",
    "data_td = rcs.transform_mv_to_rcs(data_sim['td2'].values, amp_gains[1])\n",
    "data_fft, t_pb = rcs.td_to_fft(data_td, data_sim['timestamp'].values, \n",
    "                               fs_td=settings.fs_td[0], \n",
    "                               L=settings.fft_size[0], \n",
    "                               interval=settings.interval[0], \n",
    "                               hann_win=hann_win)\n",
    "data_pb = rcs.fft_to_pb(data_fft, \n",
    "                        fs_td=settings.fs_td[0], \n",
    "                        L=settings.fft_size[0], \n",
    "                        bit_shift=settings.bit_shift[0], \n",
    "                        band_edges_hz=settings.band_edges_hz[0][1][1])\n",
    "pb_sample_mask = np.isin(data_sim.timestamp, t_pb)\n",
    "data_sim.loc[pb_sample_mask,'pb2'] = data_pb\n",
    "\n",
    "t_end = time.time()\n",
    "print('Time elapsed: ' + str(t_end-t_start))"
   ]
  },
  {
   "cell_type": "code",
   "execution_count": null,
   "id": "f29dc0e1-bb98-4350-9e87-162ec5124d34",
   "metadata": {
    "jupyter": {
     "source_hidden": true
    },
    "tags": []
   },
   "outputs": [],
   "source": [
    "# %matplotlib widget\n",
    "fig, ax = plt.subplots(2,1, figsize=(6,3), sharex='col', sharey=False)\n",
    "\n",
    "ax[0].plot(data_meas.loc[~np.isnan(data_meas.pb1), 'timestamp'], \n",
    "           data_meas.loc[~np.isnan(data_meas.pb1), 'pb1'], label='Measured')\n",
    "ax[0].plot(data_sim.loc[~np.isnan(data_sim.pb1), 'timestamp'], \n",
    "           data_sim.loc[~np.isnan(data_sim.pb1), 'pb1'], label='Simulated')\n",
    "ax[0].legend(bbox_to_anchor=(1.02, 0.6))\n",
    "\n",
    "ax[1].plot(data_meas.loc[~np.isnan(data_meas.pb1), 'timestamp'], \n",
    "           data_meas.loc[~np.isnan(data_meas.pb1), 'pb2'], label='Measured')\n",
    "ax[1].plot(data_sim.loc[~np.isnan(data_sim.pb1), 'timestamp'], \n",
    "           data_sim.loc[~np.isnan(data_sim.pb1), 'pb2'], label='Simulated')\n",
    "\n",
    "ax[0].grid()\n",
    "ax[1].grid()\n",
    "ax[1].set_xlabel('Time [sec]')\n",
    "ax[0].set_ylabel('PB1 Output \\n [RCS units]')\n",
    "ax[1].set_ylabel('PB2 Output \\n [RCS units]')\n",
    "\n",
    "plt.tight_layout()"
   ]
  },
  {
   "cell_type": "markdown",
   "id": "44442c9c-740e-4eb6-bff7-652f16361dad",
   "metadata": {
    "tags": []
   },
   "source": [
    "### PB --> LD --> state"
   ]
  },
  {
   "cell_type": "code",
   "execution_count": null,
   "id": "26294aca-b35e-4617-aac3-1d22100bdc1a",
   "metadata": {
    "jupyter": {
     "source_hidden": true
    },
    "tags": []
   },
   "outputs": [],
   "source": [
    "data_sim['ld1_iso'] = np.nan*np.ones(np.shape(data_sim['td1']))\n",
    "data_sim['ld2_iso'] = np.nan*np.ones(np.shape(data_sim['td1']))\n",
    "data_sim['state_iso'] = np.nan*np.ones(np.shape(data_sim['td1']))\n",
    "\n",
    "# Compute continuous-valued LD output\n",
    "ld_output, t_ld, update_tbl = rcs.pb_to_ld(\n",
    "                                        data_meas.loc[~np.isnan(data_meas['pb1']), \n",
    "                                                      ['pb1', 'pb2']].values, \n",
    "                                        data_meas.loc[~np.isnan(data_meas['pb1']), \n",
    "                                                      'timestamp'].values, \n",
    "                                        update_rate=settings.update_rate[0], \n",
    "                                        weights=settings.weights[0],\n",
    "                                        subtract_vec=settings.subtract_vec[0], \n",
    "                                        multiply_vec=settings.multiply_vec[0])\n",
    "\n",
    "# Compute the state changes\n",
    "state, t_state, ld_output = rcs.ld_to_state(ld_output, update_tbl, \n",
    "                                   data_meas.loc[~np.isnan(data_meas['pb1']), \n",
    "                                                 'timestamp'].values, \n",
    "                                   update_rate=settings.update_rate[0], \n",
    "                                   dual_threshold=settings.dual_threshold[0], \n",
    "                                   threshold=settings.threshold[0], \n",
    "                                   onset_duration=settings.onset[0], \n",
    "                                   termination_duration=settings.termination[0], \n",
    "                                   blank_duration=settings.blank_duration[0],\n",
    "                                   blank_both=settings.blank_both[0])\n",
    "\n",
    "# Log the simulated data\n",
    "ld1_sample_mask = np.isin(data_sim.timestamp.values, t_ld[0])\n",
    "data_sim.loc[ld1_sample_mask,'ld1_iso'] = ld_output[0]\n",
    "\n",
    "ld2_sample_mask = np.isin(data_sim.timestamp.values, t_ld[1])\n",
    "data_sim.loc[ld2_sample_mask,'ld2_iso'] = ld_output[1]"
   ]
  },
  {
   "cell_type": "code",
   "execution_count": null,
   "id": "9cc4cba8-99b2-4d3b-aad3-b442146f8151",
   "metadata": {
    "jupyter": {
     "source_hidden": true
    },
    "tags": []
   },
   "outputs": [],
   "source": [
    "# %matplotlib widget\n",
    "fig, ax = plt.subplots(3,1, figsize=(6,4), sharex='col', sharey=False)\n",
    "\n",
    "ax[0].plot(data_meas.loc[~np.isnan(data_meas.ld1), 'timestamp'], \n",
    "           data_meas.loc[~np.isnan(data_meas.ld1), 'ld1'], label='Measured')\n",
    "ax[0].plot(data_sim.loc[~np.isnan(data_sim.ld1_iso), 'timestamp'], \n",
    "           data_sim.loc[~np.isnan(data_sim.ld1_iso), 'ld1_iso'], \n",
    "           label='Simulated')\n",
    "ax[0].axhline(settings.threshold[0][0], color='r')\n",
    "ax[0].legend(bbox_to_anchor=(1.02, 0.6))\n",
    "\n",
    "ax[1].plot(data_meas.loc[~np.isnan(data_meas.ld2), 'timestamp'], \n",
    "           data_meas.loc[~np.isnan(data_meas.ld2), 'ld2'], label='Measured')\n",
    "ax[1].plot(data_sim.loc[~np.isnan(data_sim.ld2_iso), 'timestamp'], \n",
    "           data_sim.loc[~np.isnan(data_sim.ld2_iso), 'ld2_iso'], \n",
    "           label='Simulated')\n",
    "ax[1].axhline(settings.threshold[0][1], color='r')\n",
    "\n",
    "ax[2].plot(data_meas.loc[~np.isnan(data_meas.state), 'timestamp'], \n",
    "           data_meas.loc[~np.isnan(data_meas.state), 'state'], label='Measured')\n",
    "# ax[2].plot(data_sim.loc[~np.isnan(data_sim.state_iso), 'timestamp'], \n",
    "#            data_sim.loc[~np.isnan(data_sim.state_iso), 'state_iso'], \n",
    "#            label='Simulated')\n",
    "ax[2].plot(t_state, state, \n",
    "           label='Simulated')\n",
    "ax[2].set_yticks(np.arange(9))\n",
    "ax[2].set_yticklabels(['0'] + ['']*7 + ['8'])\n",
    "\n",
    "for i in range(3):\n",
    "    ax[i].grid()\n",
    "ax[2].set_xlabel('Time [sec]')\n",
    "ax[0].set_ylabel('LD1 Output \\n [a.u]')\n",
    "ax[1].set_ylabel('LD2 Output \\n [a.u.]')\n",
    "ax[2].set_ylabel('LD State')\n",
    "ax[2].set_ylabel('Stimulation \\n amplitude [mA]')\n",
    "\n",
    "plt.tight_layout()"
   ]
  },
  {
   "cell_type": "markdown",
   "id": "bc28065e-983d-4565-a5ea-25ab74f4c857",
   "metadata": {
    "tags": []
   },
   "source": [
    "# LD5"
   ]
  },
  {
   "cell_type": "markdown",
   "id": "dad2c210-56a5-4dc6-86cd-4c9b4c028fb0",
   "metadata": {},
   "source": [
    "### Load measured datasets and settings"
   ]
  },
  {
   "cell_type": "code",
   "execution_count": null,
   "id": "186c7981-edef-4226-b7b6-850bf48cb215",
   "metadata": {
    "jupyter": {
     "source_hidden": true
    }
   },
   "outputs": [],
   "source": [
    "# left_neural_data = pd.read_csv(left_file_name)\n",
    "data_meas = pd.read_csv(data_folder + '/dataset_ld5.csv')\n",
    "settings = pd.read_csv(data_folder + '/dataset_ld5_config.csv')\n",
    "amp_gains = np.genfromtxt(data_folder + '/amp_gains.csv', \n",
    "                          delimiter=',').astype(int)\n",
    "\n",
    "settings['band_edges_hz'] = settings['band_edges_hz'].apply(literal_eval)\n",
    "settings['subtract_vec'] = settings['subtract_vec'].apply(literal_eval)\n",
    "settings['multiply_vec'] = settings['multiply_vec'].apply(literal_eval)\n",
    "settings['update_rate'] = settings['update_rate'].apply(literal_eval)\n",
    "settings['weights'] = settings['weights'].apply(literal_eval)\n",
    "settings['dual_threshold']= settings['dual_threshold'].apply(literal_eval)\n",
    "settings['threshold'] = settings['threshold'].apply(literal_eval)\n",
    "settings['blank_duration'] = settings['blank_duration'].apply(literal_eval)\n",
    "settings['onset'] = settings['onset'].apply(literal_eval)\n",
    "settings['termination'] = settings['termination'].apply(literal_eval)\n",
    "settings['blank_both'] = settings['blank_both'].apply(literal_eval)"
   ]
  },
  {
   "cell_type": "code",
   "execution_count": null,
   "id": "faf55d23-dbf1-4354-b17c-ceaf6f9168d7",
   "metadata": {
    "jupyter": {
     "source_hidden": true
    }
   },
   "outputs": [],
   "source": [
    "print('Measured data')\n",
    "data_meas.head(2)"
   ]
  },
  {
   "cell_type": "code",
   "execution_count": null,
   "id": "fa5c7c54-b2a1-4a36-9668-f1e062ef3d0b",
   "metadata": {
    "jupyter": {
     "source_hidden": true
    }
   },
   "outputs": [],
   "source": [
    "print('Settings')\n",
    "settings"
   ]
  },
  {
   "cell_type": "markdown",
   "id": "8fa97372-def9-42ee-85ba-410e65864f90",
   "metadata": {},
   "source": [
    "### TD --> PB"
   ]
  },
  {
   "cell_type": "code",
   "execution_count": null,
   "id": "eb7b2525-8fc0-4f84-9bd5-fab4af9bf72f",
   "metadata": {
    "jupyter": {
     "source_hidden": true
    }
   },
   "outputs": [],
   "source": [
    "data_sim = data_meas[['timestamp', 'td1', 'td2']].copy()\n",
    "data_sim['pb1'] = np.nan*np.ones(np.shape(data_sim['td1']))\n",
    "data_sim['pb2'] = np.nan*np.ones(np.shape(data_sim['td1']))\n",
    "\n",
    "t_start = time.time()\n",
    "hann_win = rcs.create_hann_window(settings.fft_size[0], percent=100)\n",
    "\n",
    "# Compute power band for the first time-domain channel\n",
    "data_td = rcs.transform_mv_to_rcs(data_sim['td1'].values, amp_gains[0])\n",
    "data_fft, t_pb = rcs.td_to_fft(data_td, data_sim['timestamp'].values, \n",
    "                               fs_td=settings.fs_td[0], \n",
    "                               L=settings.fft_size[0], \n",
    "                               interval=settings.interval[0], \n",
    "                               hann_win=hann_win)\n",
    "data_pb = rcs.fft_to_pb(data_fft, \n",
    "                        fs_td=settings.fs_td[0], \n",
    "                        L=settings.fft_size[0], \n",
    "                        bit_shift=settings.bit_shift[0], \n",
    "                        band_edges_hz=settings.band_edges_hz[0][0][1])\n",
    "pb_sample_mask = np.isin(data_sim.timestamp, t_pb)\n",
    "data_sim.loc[pb_sample_mask,'pb1'] = data_pb\n",
    "\n",
    "# Compute power band for the second time-domain channel\n",
    "data_td = rcs.transform_mv_to_rcs(data_sim['td2'].values, amp_gains[1])\n",
    "data_fft, t_pb = rcs.td_to_fft(data_td, data_sim['timestamp'].values, \n",
    "                               fs_td=settings.fs_td[0], \n",
    "                               L=settings.fft_size[0], \n",
    "                               interval=settings.interval[0], \n",
    "                               hann_win=hann_win)\n",
    "data_pb = rcs.fft_to_pb(data_fft, \n",
    "                        fs_td=settings.fs_td[0], \n",
    "                        L=settings.fft_size[0], \n",
    "                        bit_shift=settings.bit_shift[0], \n",
    "                        band_edges_hz=settings.band_edges_hz[0][1][1])\n",
    "pb_sample_mask = np.isin(data_sim.timestamp, t_pb)\n",
    "data_sim.loc[pb_sample_mask,'pb2'] = data_pb\n",
    "\n",
    "t_end = time.time()\n",
    "print('Time elapsed: ' + str(t_end-t_start))"
   ]
  },
  {
   "cell_type": "code",
   "execution_count": null,
   "id": "de6b46b0-42bb-408c-8262-a5a69e5bd9ae",
   "metadata": {
    "jupyter": {
     "source_hidden": true
    }
   },
   "outputs": [],
   "source": [
    "# %matplotlib widget\n",
    "fig, ax = plt.subplots(2,1, figsize=(6,3), sharex='col', sharey=False)\n",
    "\n",
    "ax[0].plot(data_meas.loc[~np.isnan(data_meas.pb1), 'timestamp'], \n",
    "           data_meas.loc[~np.isnan(data_meas.pb1), 'pb1'], label='Measured')\n",
    "ax[0].plot(data_sim.loc[~np.isnan(data_sim.pb1), 'timestamp'], \n",
    "           data_sim.loc[~np.isnan(data_sim.pb1), 'pb1'], label='Simulated')\n",
    "ax[0].legend(bbox_to_anchor=(1.02, 0.6))\n",
    "\n",
    "ax[1].plot(data_meas.loc[~np.isnan(data_meas.pb1), 'timestamp'], \n",
    "           data_meas.loc[~np.isnan(data_meas.pb1), 'pb2'], label='Measured')\n",
    "ax[1].plot(data_sim.loc[~np.isnan(data_sim.pb1), 'timestamp'], \n",
    "           data_sim.loc[~np.isnan(data_sim.pb1), 'pb2'], label='Simulated')\n",
    "\n",
    "ax[0].grid()\n",
    "ax[1].grid()\n",
    "ax[1].set_xlabel('Time [sec]')\n",
    "ax[0].set_ylabel('PB1 Output \\n [RCS units]')\n",
    "ax[1].set_ylabel('PB2 Output \\n [RCS units]')\n",
    "\n",
    "plt.tight_layout()"
   ]
  },
  {
   "cell_type": "markdown",
   "id": "b25f1454-5e47-4d1a-beec-9f418eca16f5",
   "metadata": {},
   "source": [
    "### PB --> LD --> state"
   ]
  },
  {
   "cell_type": "code",
   "execution_count": null,
   "id": "7f47aa48-c5dc-4d7b-907a-ce855cfbfb9d",
   "metadata": {
    "jupyter": {
     "source_hidden": true
    }
   },
   "outputs": [],
   "source": [
    "data_sim['ld1_iso'] = np.nan*np.ones(np.shape(data_sim['td1']))\n",
    "data_sim['ld2_iso'] = np.nan*np.ones(np.shape(data_sim['td1']))\n",
    "data_sim['state_iso'] = np.nan*np.ones(np.shape(data_sim['td1']))\n",
    "\n",
    "# Compute continuous-valued LD output\n",
    "ld_output, t_ld, update_tbl = rcs.pb_to_ld(\n",
    "                                        data_meas.loc[~np.isnan(data_meas['pb1']), \n",
    "                                                      ['pb1', 'pb2']].values, \n",
    "                                        data_meas.loc[~np.isnan(data_meas['pb1']), \n",
    "                                                      'timestamp'].values, \n",
    "                                        update_rate=settings.update_rate[0], \n",
    "                                        weights=settings.weights[0],\n",
    "                                        subtract_vec=settings.subtract_vec[0], \n",
    "                                        multiply_vec=settings.multiply_vec[0])\n",
    "\n",
    "# Compute the state changes\n",
    "state, t_state, ld_output = rcs.ld_to_state(ld_output, update_tbl, \n",
    "                                   data_meas.loc[~np.isnan(data_meas['pb1']), \n",
    "                                                 'timestamp'].values, \n",
    "                                   update_rate=settings.update_rate[0], \n",
    "                                   dual_threshold=settings.dual_threshold[0], \n",
    "                                   threshold=settings.threshold[0], \n",
    "                                   onset_duration=settings.onset[0], \n",
    "                                   termination_duration=settings.termination[0], \n",
    "                                   blank_duration=settings.blank_duration[0],\n",
    "                                   blank_both=settings.blank_both[0])\n",
    "\n",
    "# Log the simulated data\n",
    "ld1_sample_mask = np.isin(data_sim.timestamp.values, t_ld[0])\n",
    "data_sim.loc[ld1_sample_mask,'ld1_iso'] = ld_output[0]\n",
    "\n",
    "ld2_sample_mask = np.isin(data_sim.timestamp.values, t_ld[1])\n",
    "data_sim.loc[ld2_sample_mask,'ld2_iso'] = ld_output[1]"
   ]
  },
  {
   "cell_type": "code",
   "execution_count": null,
   "id": "aaad1aa8-1724-4338-9dfc-0f98f7481b52",
   "metadata": {
    "jupyter": {
     "source_hidden": true
    },
    "tags": []
   },
   "outputs": [],
   "source": [
    "# %matplotlib widget\n",
    "fig, ax = plt.subplots(2,1, figsize=(6,3), sharex='col', sharey=False)\n",
    "\n",
    "ax[0].plot(data_meas.loc[~np.isnan(data_meas.ld1), 'timestamp'], \n",
    "           data_meas.loc[~np.isnan(data_meas.ld1), 'ld1'], label='Measured')\n",
    "ax[0].plot(data_sim.loc[~np.isnan(data_sim.ld1_iso), 'timestamp'], \n",
    "           data_sim.loc[~np.isnan(data_sim.ld1_iso), 'ld1_iso'], \n",
    "           label='Simulated')\n",
    "ax[0].axhline(settings.threshold[0][0][0], color='r')\n",
    "ax[0].axhline(settings.threshold[0][0][1], color='r')\n",
    "ax[0].legend(bbox_to_anchor=(1.02, 0.6))\n",
    "\n",
    "ax[1].plot(data_meas.loc[~np.isnan(data_meas.state), 'timestamp'], \n",
    "           data_meas.loc[~np.isnan(data_meas.state), 'state'], label='Measured')\n",
    "# ax[2].plot(data_sim.loc[~np.isnan(data_sim.state_iso), 'timestamp'], \n",
    "#            data_sim.loc[~np.isnan(data_sim.state_iso), 'state_iso'], \n",
    "#            label='Simulated')\n",
    "ax[1].plot(t_state, state, \n",
    "           label='Simulated')\n",
    "ax[1].set_yticks(np.arange(9))\n",
    "ax[1].set_yticklabels(['0'] + ['']*7 + ['8'])\n",
    "\n",
    "for i in range(2):\n",
    "    ax[i].grid()\n",
    "ax[1].set_xlabel('Time [sec]')\n",
    "ax[0].set_ylabel('LD1 Output \\n [a.u]')\n",
    "ax[1].set_ylabel('LD State')\n",
    "\n",
    "plt.tight_layout()"
   ]
  },
  {
   "cell_type": "markdown",
   "id": "a1f439a4-c694-48c7-a741-c17a5de19dd8",
   "metadata": {
    "tags": []
   },
   "source": [
    "# LD6"
   ]
  },
  {
   "cell_type": "markdown",
   "id": "781e45eb-ab0b-47f3-b14b-7426cd33e249",
   "metadata": {
    "tags": []
   },
   "source": [
    "### Load measured datasets and settings"
   ]
  },
  {
   "cell_type": "code",
   "execution_count": null,
   "id": "11904b59-1fcd-477b-99f7-aca726a66302",
   "metadata": {
    "jupyter": {
     "source_hidden": true
    },
    "tags": []
   },
   "outputs": [],
   "source": [
    "# left_neural_data = pd.read_csv(left_file_name)\n",
    "data_meas = pd.read_csv(data_folder + '/dataset_ld6.csv')\n",
    "settings = pd.read_csv(data_folder + '/dataset_ld6_config.csv')\n",
    "amp_gains = np.genfromtxt(data_folder + '/amp_gains.csv', \n",
    "                          delimiter=',').astype(int)\n",
    "\n",
    "settings['band_edges_hz'] = settings['band_edges_hz'].apply(literal_eval)\n",
    "settings['subtract_vec'] = settings['subtract_vec'].apply(literal_eval)\n",
    "settings['multiply_vec'] = settings['multiply_vec'].apply(literal_eval)\n",
    "settings['update_rate'] = settings['update_rate'].apply(literal_eval)\n",
    "settings['weights'] = settings['weights'].apply(literal_eval)\n",
    "settings['dual_threshold']= settings['dual_threshold'].apply(literal_eval)\n",
    "settings['threshold'] = settings['threshold'].apply(literal_eval)\n",
    "settings['blank_duration'] = settings['blank_duration'].apply(literal_eval)\n",
    "settings['onset'] = settings['onset'].apply(literal_eval)\n",
    "settings['termination'] = settings['termination'].apply(literal_eval)\n",
    "settings['blank_both'] = settings['blank_both'].apply(literal_eval)"
   ]
  },
  {
   "cell_type": "code",
   "execution_count": null,
   "id": "9a1c6a4f-074d-4df6-a1ce-95a26e9c5212",
   "metadata": {
    "jupyter": {
     "source_hidden": true
    },
    "tags": []
   },
   "outputs": [],
   "source": [
    "print('Measured data')\n",
    "data_meas.head(2)"
   ]
  },
  {
   "cell_type": "code",
   "execution_count": null,
   "id": "03d20d5c-b0fa-4658-aae0-0d40103bf11e",
   "metadata": {
    "jupyter": {
     "source_hidden": true
    },
    "tags": []
   },
   "outputs": [],
   "source": [
    "print('Settings')\n",
    "settings"
   ]
  },
  {
   "cell_type": "markdown",
   "id": "040cf662-623f-48a1-bd5b-561ec41207e8",
   "metadata": {
    "tags": []
   },
   "source": [
    "### TD --> PB"
   ]
  },
  {
   "cell_type": "code",
   "execution_count": null,
   "id": "7749cb8d-0383-40bf-b3d2-97c9527d3567",
   "metadata": {
    "jupyter": {
     "source_hidden": true
    },
    "tags": []
   },
   "outputs": [],
   "source": [
    "data_sim = data_meas[['timestamp', 'td1', 'td2']].copy()\n",
    "data_sim['pb1'] = np.nan*np.ones(np.shape(data_sim['td1']))\n",
    "data_sim['pb2'] = np.nan*np.ones(np.shape(data_sim['td1']))\n",
    "\n",
    "t_start = time.time()\n",
    "hann_win = rcs.create_hann_window(settings.fft_size[0], percent=100)\n",
    "\n",
    "# Compute power band for the first time-domain channel\n",
    "data_td = rcs.transform_mv_to_rcs(data_sim['td1'].values, amp_gains[0])\n",
    "data_fft, t_pb = rcs.td_to_fft(data_td, data_sim['timestamp'].values, \n",
    "                               fs_td=settings.fs_td[0], \n",
    "                               L=settings.fft_size[0], \n",
    "                               interval=settings.interval[0], \n",
    "                               hann_win=hann_win)\n",
    "data_pb = rcs.fft_to_pb(data_fft, \n",
    "                        fs_td=settings.fs_td[0], \n",
    "                        L=settings.fft_size[0], \n",
    "                        bit_shift=settings.bit_shift[0], \n",
    "                        band_edges_hz=settings.band_edges_hz[0][0][1])\n",
    "pb_sample_mask = np.isin(data_sim.timestamp, t_pb)\n",
    "data_sim.loc[pb_sample_mask,'pb1'] = data_pb\n",
    "\n",
    "# Compute power band for the second time-domain channel\n",
    "data_td = rcs.transform_mv_to_rcs(data_sim['td2'].values, amp_gains[1])\n",
    "data_fft, t_pb = rcs.td_to_fft(data_td, data_sim['timestamp'].values, \n",
    "                               fs_td=settings.fs_td[0], \n",
    "                               L=settings.fft_size[0], \n",
    "                               interval=settings.interval[0], \n",
    "                               hann_win=hann_win)\n",
    "data_pb = rcs.fft_to_pb(data_fft, \n",
    "                        fs_td=settings.fs_td[0], \n",
    "                        L=settings.fft_size[0], \n",
    "                        bit_shift=settings.bit_shift[0], \n",
    "                        band_edges_hz=settings.band_edges_hz[0][1][1])\n",
    "pb_sample_mask = np.isin(data_sim.timestamp, t_pb)\n",
    "data_sim.loc[pb_sample_mask,'pb2'] = data_pb\n",
    "\n",
    "t_end = time.time()\n",
    "print('Time elapsed: ' + str(t_end-t_start))"
   ]
  },
  {
   "cell_type": "code",
   "execution_count": null,
   "id": "8218017e-e866-46f1-9def-ad8f3e3f7b3f",
   "metadata": {
    "jupyter": {
     "source_hidden": true
    },
    "tags": []
   },
   "outputs": [],
   "source": [
    "# %matplotlib widget\n",
    "fig, ax = plt.subplots(2,1, figsize=(6,3), sharex='col', sharey=False)\n",
    "\n",
    "ax[0].plot(data_meas.loc[~np.isnan(data_meas.pb1), 'timestamp'], \n",
    "           data_meas.loc[~np.isnan(data_meas.pb1), 'pb1'], label='Measured')\n",
    "ax[0].plot(data_sim.loc[~np.isnan(data_sim.pb1), 'timestamp'], \n",
    "           data_sim.loc[~np.isnan(data_sim.pb1), 'pb1'], label='Simulated')\n",
    "ax[0].legend(bbox_to_anchor=(1.02, 0.6))\n",
    "\n",
    "ax[1].plot(data_meas.loc[~np.isnan(data_meas.pb1), 'timestamp'], \n",
    "           data_meas.loc[~np.isnan(data_meas.pb1), 'pb2'], label='Measured')\n",
    "ax[1].plot(data_sim.loc[~np.isnan(data_sim.pb1), 'timestamp'], \n",
    "           data_sim.loc[~np.isnan(data_sim.pb1), 'pb2'], label='Simulated')\n",
    "\n",
    "ax[0].grid()\n",
    "ax[1].grid()\n",
    "ax[1].set_xlabel('Time [sec]')\n",
    "ax[0].set_ylabel('PB1 Output \\n [RCS units]')\n",
    "ax[1].set_ylabel('PB2 Output \\n [RCS units]')\n",
    "\n",
    "plt.tight_layout()"
   ]
  },
  {
   "cell_type": "markdown",
   "id": "7c910dfb-caed-44f2-ab64-13607886afcb",
   "metadata": {
    "tags": []
   },
   "source": [
    "### PB --> LD --> state"
   ]
  },
  {
   "cell_type": "code",
   "execution_count": null,
   "id": "e9699697-9d67-4f44-af4f-e3d99ed549cf",
   "metadata": {
    "jupyter": {
     "source_hidden": true
    },
    "tags": []
   },
   "outputs": [],
   "source": [
    "data_sim['ld1_iso'] = np.nan*np.ones(np.shape(data_sim['td1']))\n",
    "data_sim['ld2_iso'] = np.nan*np.ones(np.shape(data_sim['td1']))\n",
    "data_sim['state_iso'] = np.nan*np.ones(np.shape(data_sim['td1']))\n",
    "\n",
    "# Compute continuous-valued LD output\n",
    "ld_output, t_ld, update_tbl = rcs.pb_to_ld(\n",
    "                                        data_meas.loc[~np.isnan(data_meas['pb1']), \n",
    "                                                      ['pb1', 'pb2']].values, \n",
    "                                        data_meas.loc[~np.isnan(data_meas['pb1']), \n",
    "                                                      'timestamp'].values, \n",
    "                                        update_rate=settings.update_rate[0], \n",
    "                                        weights=settings.weights[0],\n",
    "                                        subtract_vec=settings.subtract_vec[0], \n",
    "                                        multiply_vec=settings.multiply_vec[0])\n",
    "\n",
    "# Compute the state changes\n",
    "state, t_state, ld_output = rcs.ld_to_state(ld_output, update_tbl, \n",
    "                                   data_meas.loc[~np.isnan(data_meas['pb1']), \n",
    "                                                 'timestamp'].values, \n",
    "                                   update_rate=settings.update_rate[0], \n",
    "                                   dual_threshold=settings.dual_threshold[0], \n",
    "                                   threshold=settings.threshold[0], \n",
    "                                   onset_duration=settings.onset[0], \n",
    "                                   termination_duration=settings.termination[0], \n",
    "                                   blank_duration=settings.blank_duration[0],\n",
    "                                   blank_both=settings.blank_both[0])\n",
    "\n",
    "# Log the simulated data\n",
    "ld1_sample_mask = np.isin(data_sim.timestamp.values, t_ld[0])\n",
    "data_sim.loc[ld1_sample_mask,'ld1_iso'] = ld_output[0]\n",
    "\n",
    "ld2_sample_mask = np.isin(data_sim.timestamp.values, t_ld[1])\n",
    "data_sim.loc[ld2_sample_mask,'ld2_iso'] = ld_output[1]"
   ]
  },
  {
   "cell_type": "code",
   "execution_count": null,
   "id": "7d7f4dc3-42c6-47e4-96ee-74ec37364787",
   "metadata": {
    "jupyter": {
     "source_hidden": true
    },
    "tags": []
   },
   "outputs": [],
   "source": [
    "# %matplotlib widget\n",
    "fig, ax = plt.subplots(3,1, figsize=(6,4), sharex='col', sharey=False)\n",
    "\n",
    "ax[0].plot(data_meas.loc[~np.isnan(data_meas.ld1), 'timestamp'], \n",
    "           data_meas.loc[~np.isnan(data_meas.ld1), 'ld1'], label='Measured')\n",
    "ax[0].plot(data_sim.loc[~np.isnan(data_sim.ld1_iso), 'timestamp'], \n",
    "           data_sim.loc[~np.isnan(data_sim.ld1_iso), 'ld1_iso'], \n",
    "           label='Simulated')\n",
    "ax[0].axhline(settings.threshold[0][0][0], color='r')\n",
    "ax[0].axhline(settings.threshold[0][0][1], color='r')\n",
    "ax[0].legend(bbox_to_anchor=(1.02, 0.6))\n",
    "\n",
    "ax[1].plot(data_meas.loc[~np.isnan(data_meas.ld2), 'timestamp'], \n",
    "           data_meas.loc[~np.isnan(data_meas.ld2), 'ld2'], label='Measured')\n",
    "ax[1].plot(data_sim.loc[~np.isnan(data_sim.ld2_iso), 'timestamp'], \n",
    "           data_sim.loc[~np.isnan(data_sim.ld2_iso), 'ld2_iso'], \n",
    "           label='Simulated')\n",
    "ax[1].axhline(settings.threshold[0][1][0], color='r')\n",
    "ax[1].axhline(settings.threshold[0][1][1], color='r')\n",
    "\n",
    "ax[2].plot(data_meas.loc[~np.isnan(data_meas.state), 'timestamp'], \n",
    "           data_meas.loc[~np.isnan(data_meas.state), 'state'], label='Measured')\n",
    "# ax[2].plot(data_sim.loc[~np.isnan(data_sim.state_iso), 'timestamp'], \n",
    "#            data_sim.loc[~np.isnan(data_sim.state_iso), 'state_iso'], \n",
    "#            label='Simulated')\n",
    "ax[2].plot(t_state, state, \n",
    "           label='Simulated')\n",
    "ax[2].set_yticks(np.arange(9))\n",
    "ax[2].set_yticklabels(['0'] + ['']*7 + ['8'])\n",
    "\n",
    "for i in range(3):\n",
    "    ax[i].grid()\n",
    "ax[2].set_xlabel('Time [sec]')\n",
    "ax[0].set_ylabel('LD1 Output \\n [a.u]')\n",
    "ax[1].set_ylabel('LD2 Output \\n [a.u.]')\n",
    "ax[2].set_ylabel('LD State')\n",
    "ax[2].set_ylabel('Stimulation \\n amplitude [mA]')\n",
    "\n",
    "plt.tight_layout()"
   ]
  },
  {
   "cell_type": "markdown",
   "id": "bf876841-6a83-4455-8d52-780ba8d7c4bb",
   "metadata": {
    "tags": []
   },
   "source": [
    "# LD7"
   ]
  },
  {
   "cell_type": "markdown",
   "id": "aedcc89b-578d-4ef2-bbb4-ba9dc71bac32",
   "metadata": {
    "tags": []
   },
   "source": [
    "### Load measured datasets and settings"
   ]
  },
  {
   "cell_type": "code",
   "execution_count": null,
   "id": "47c5d340-d475-47b1-a0f6-f2c3f49e9081",
   "metadata": {
    "jupyter": {
     "source_hidden": true
    }
   },
   "outputs": [],
   "source": [
    "# left_neural_data = pd.read_csv(left_file_name)\n",
    "data_meas = pd.read_csv(data_folder + '/dataset_ld7.csv')\n",
    "settings = pd.read_csv(data_folder + '/dataset_ld7_config.csv')\n",
    "amp_gains = np.genfromtxt(data_folder + '/amp_gains.csv', \n",
    "                          delimiter=',').astype(int)\n",
    "\n",
    "settings['band_edges_hz'] = settings['band_edges_hz'].apply(literal_eval)\n",
    "settings['subtract_vec'] = settings['subtract_vec'].apply(literal_eval)\n",
    "settings['multiply_vec'] = settings['multiply_vec'].apply(literal_eval)\n",
    "settings['update_rate'] = settings['update_rate'].apply(literal_eval)\n",
    "settings['weights'] = settings['weights'].apply(literal_eval)\n",
    "settings['dual_threshold']= settings['dual_threshold'].apply(literal_eval)\n",
    "settings['threshold'] = settings['threshold'].apply(literal_eval)\n",
    "settings['blank_duration'] = settings['blank_duration'].apply(literal_eval)\n",
    "settings['onset'] = settings['onset'].apply(literal_eval)\n",
    "settings['termination'] = settings['termination'].apply(literal_eval)\n",
    "settings['blank_both'] = settings['blank_both'].apply(literal_eval)\n",
    "settings['target_amp'] = settings['target_amp'].apply(literal_eval)"
   ]
  },
  {
   "cell_type": "code",
   "execution_count": null,
   "id": "eca6cc47-d9c6-4951-a61c-6319cc5e78ed",
   "metadata": {
    "jupyter": {
     "source_hidden": true
    },
    "tags": []
   },
   "outputs": [],
   "source": [
    "print('Measured data')\n",
    "data_meas.head(2)"
   ]
  },
  {
   "cell_type": "code",
   "execution_count": null,
   "id": "b44e4b45-ee2f-4785-a04b-1147a5ba65bd",
   "metadata": {
    "jupyter": {
     "source_hidden": true
    },
    "tags": []
   },
   "outputs": [],
   "source": [
    "print('Settings')\n",
    "settings"
   ]
  },
  {
   "cell_type": "markdown",
   "id": "9b37db23-7f03-47ce-a625-81db1702eb8a",
   "metadata": {
    "tags": []
   },
   "source": [
    "### TD --> PB"
   ]
  },
  {
   "cell_type": "code",
   "execution_count": null,
   "id": "21d2a1f4-d8e9-48bc-9d08-3f49ae6f92d7",
   "metadata": {
    "jupyter": {
     "source_hidden": true
    },
    "tags": []
   },
   "outputs": [],
   "source": [
    "data_sim = data_meas[['timestamp', 'td1', 'td2']].copy()\n",
    "data_sim['pb1'] = np.nan*np.ones(np.shape(data_sim['td1']))\n",
    "data_sim['pb2'] = np.nan*np.ones(np.shape(data_sim['td1']))\n",
    "\n",
    "t_start = time.time()\n",
    "hann_win = rcs.create_hann_window(settings.fft_size[0], percent=100)\n",
    "\n",
    "# Compute power band for the first time-domain channel\n",
    "data_td = rcs.transform_mv_to_rcs(data_sim['td1'].values, amp_gains[0])\n",
    "data_fft, t_pb = rcs.td_to_fft(data_td, data_sim['timestamp'].values, \n",
    "                               fs_td=settings.fs_td[0], \n",
    "                               L=settings.fft_size[0], \n",
    "                               interval=settings.interval[0], \n",
    "                               hann_win=hann_win)\n",
    "data_pb = rcs.fft_to_pb(data_fft, \n",
    "                        fs_td=settings.fs_td[0], \n",
    "                        L=settings.fft_size[0], \n",
    "                        bit_shift=settings.bit_shift[0], \n",
    "                        band_edges_hz=settings.band_edges_hz[0][0][1])\n",
    "pb_sample_mask = np.isin(data_sim.timestamp, t_pb)\n",
    "data_sim.loc[pb_sample_mask,'pb1'] = data_pb\n",
    "\n",
    "# Compute power band for the second time-domain channel\n",
    "data_td = rcs.transform_mv_to_rcs(data_sim['td2'].values, amp_gains[1])\n",
    "data_fft, t_pb = rcs.td_to_fft(data_td, data_sim['timestamp'].values, \n",
    "                               fs_td=settings.fs_td[0], \n",
    "                               L=settings.fft_size[0], \n",
    "                               interval=settings.interval[0], \n",
    "                               hann_win=hann_win)\n",
    "data_pb = rcs.fft_to_pb(data_fft, \n",
    "                        fs_td=settings.fs_td[0], \n",
    "                        L=settings.fft_size[0], \n",
    "                        bit_shift=settings.bit_shift[0], \n",
    "                        band_edges_hz=settings.band_edges_hz[0][1][1])\n",
    "pb_sample_mask = np.isin(data_sim.timestamp, t_pb)\n",
    "data_sim.loc[pb_sample_mask,'pb2'] = data_pb\n",
    "\n",
    "t_end = time.time()\n",
    "print('Time elapsed: ' + str(t_end-t_start))"
   ]
  },
  {
   "cell_type": "code",
   "execution_count": null,
   "id": "d74aca23-a497-49a1-ac76-2bd97269de07",
   "metadata": {
    "jupyter": {
     "source_hidden": true
    },
    "tags": []
   },
   "outputs": [],
   "source": [
    "# %matplotlib widget\n",
    "fig, ax = plt.subplots(2,1, figsize=(6,3), sharex='col', sharey=False)\n",
    "\n",
    "ax[0].plot(data_meas.loc[~np.isnan(data_meas.pb1), 'timestamp'], \n",
    "           data_meas.loc[~np.isnan(data_meas.pb1), 'pb1'], label='Measured')\n",
    "ax[0].plot(data_sim.loc[~np.isnan(data_sim.pb1), 'timestamp'], \n",
    "           data_sim.loc[~np.isnan(data_sim.pb1), 'pb1'], label='Simulated')\n",
    "ax[0].legend(bbox_to_anchor=(1.02, 0.6))\n",
    "\n",
    "ax[1].plot(data_meas.loc[~np.isnan(data_meas.pb1), 'timestamp'], \n",
    "           data_meas.loc[~np.isnan(data_meas.pb1), 'pb2'], label='Measured')\n",
    "ax[1].plot(data_sim.loc[~np.isnan(data_sim.pb1), 'timestamp'], \n",
    "           data_sim.loc[~np.isnan(data_sim.pb1), 'pb2'], label='Simulated')\n",
    "\n",
    "ax[0].grid()\n",
    "ax[1].grid()\n",
    "ax[1].set_xlabel('Time [sec]')\n",
    "ax[0].set_ylabel('PB1 Output \\n [RCS units]')\n",
    "ax[1].set_ylabel('PB2 Output \\n [RCS units]')\n",
    "\n",
    "plt.tight_layout()"
   ]
  },
  {
   "cell_type": "markdown",
   "id": "a80a225c-bc49-449b-bd9f-9539ccc686d2",
   "metadata": {
    "tags": []
   },
   "source": [
    "### PB --> LD --> state --> stim"
   ]
  },
  {
   "cell_type": "code",
   "execution_count": null,
   "id": "2c71e566-eb3f-4dc3-8366-73a6af5312cc",
   "metadata": {
    "jupyter": {
     "source_hidden": true
    },
    "tags": []
   },
   "outputs": [],
   "source": [
    "data_sim['ld1_iso'] = np.nan*np.ones(np.shape(data_sim['td1']))\n",
    "data_sim['ld2_iso'] = np.nan*np.ones(np.shape(data_sim['td1']))\n",
    "data_sim['state_iso'] = np.nan*np.ones(np.shape(data_sim['td1']))\n",
    "data_sim['stim_iso'] = np.nan*np.ones(np.shape(data_sim['td1']))\n",
    "\n",
    "# Compute continuous-valued LD output\n",
    "ld_output, t_ld, update_tbl = rcs.pb_to_ld(\n",
    "                                        data_meas.loc[~np.isnan(data_meas['pb1']), \n",
    "                                                      ['pb1', 'pb2']].values, \n",
    "                                        data_meas.loc[~np.isnan(data_meas['pb1']), \n",
    "                                                      'timestamp'].values, \n",
    "                                        update_rate=settings.update_rate[0], \n",
    "                                        weights=settings.weights[0],\n",
    "                                        subtract_vec=settings.subtract_vec[0], \n",
    "                                        multiply_vec=settings.multiply_vec[0])\n",
    "\n",
    "# Compute the state changes\n",
    "state, t_state, ld_output = rcs.ld_to_state(ld_output, update_tbl, \n",
    "                                   data_meas.loc[~np.isnan(data_meas['pb1']), \n",
    "                                                 'timestamp'].values, \n",
    "                                   update_rate=settings.update_rate[0], \n",
    "                                   dual_threshold=settings.dual_threshold[0], \n",
    "                                   threshold=settings.threshold[0], \n",
    "                                   onset_duration=settings.onset[0], \n",
    "                                   termination_duration=settings.termination[0], \n",
    "                                   blank_duration=settings.blank_duration[0])\n",
    "\n",
    "# Compute the stim changes\n",
    "rise_time = rcs.transform_ramp_rate_int_to_mas(settings.rise_time[0])\n",
    "fall_time = rcs.transform_ramp_rate_int_to_mas(settings.fall_time[0])\n",
    "stim, t_stim = rcs.state_to_stim(data_meas.loc[~np.isnan(data_meas['state']), \n",
    "                                               'state'].values.astype(int), \n",
    "                                 data_meas.loc[~np.isnan(data_meas['state']), \n",
    "                                               'timestamp'].values, \n",
    "                                 target_amp=settings.target_amp[0], \n",
    "                                 rise_time=rise_time, \n",
    "                                 fall_time=fall_time)\n",
    "\n",
    "# Log the simulated data\n",
    "ld1_sample_mask = np.isin(data_sim.timestamp.values, t_ld[0])\n",
    "data_sim.loc[ld1_sample_mask,'ld1_iso'] = ld_output[0]\n",
    "\n",
    "ld2_sample_mask = np.isin(data_sim.timestamp.values, t_ld[1])\n",
    "data_sim.loc[ld2_sample_mask,'ld2_iso'] = ld_output[1]"
   ]
  },
  {
   "cell_type": "code",
   "execution_count": null,
   "id": "2392539a-d0a8-4b24-8261-4b532e5821ea",
   "metadata": {
    "jupyter": {
     "source_hidden": true
    },
    "tags": []
   },
   "outputs": [],
   "source": [
    "# %matplotlib widget\n",
    "fig, ax = plt.subplots(4,1, figsize=(6,6), sharex='col', sharey=False)\n",
    "\n",
    "ax[0].plot(data_meas.loc[~np.isnan(data_meas.ld1), 'timestamp'], \n",
    "           data_meas.loc[~np.isnan(data_meas.ld1), 'ld1'], label='Measured')\n",
    "ax[0].plot(data_sim.loc[~np.isnan(data_sim.ld1_iso), 'timestamp'], \n",
    "           data_sim.loc[~np.isnan(data_sim.ld1_iso), 'ld1_iso'], \n",
    "           label='Simulated')\n",
    "ax[0].axhline(settings.threshold[0][0][0], color='r')\n",
    "ax[0].axhline(settings.threshold[0][0][1], color='r')\n",
    "ax[0].legend(bbox_to_anchor=(1.02, 0.6))\n",
    "\n",
    "ax[1].plot(data_meas.loc[~np.isnan(data_meas.ld2), 'timestamp'], \n",
    "           data_meas.loc[~np.isnan(data_meas.ld2), 'ld2'], label='Measured')\n",
    "ax[1].plot(data_sim.loc[~np.isnan(data_sim.ld2_iso), 'timestamp'], \n",
    "           data_sim.loc[~np.isnan(data_sim.ld2_iso), 'ld2_iso'], \n",
    "           label='Simulated')\n",
    "ax[1].axhline(settings.threshold[0][1][0], color='r')\n",
    "ax[1].axhline(settings.threshold[0][1][1], color='r')\n",
    "\n",
    "ax[2].plot(data_meas.loc[~np.isnan(data_meas.state), 'timestamp'], \n",
    "           data_meas.loc[~np.isnan(data_meas.state), 'state'], label='Measured')\n",
    "# ax[2].plot(data_sim.loc[~np.isnan(data_sim.state_iso), 'timestamp'], \n",
    "#            data_sim.loc[~np.isnan(data_sim.state_iso), 'state_iso'], \n",
    "#            label='Simulated')\n",
    "ax[2].plot(t_state, state, \n",
    "           label='Simulated')\n",
    "ax[2].set_yticks(np.arange(9))\n",
    "ax[2].set_yticklabels(['0'] + ['']*7 + ['8'])\n",
    "\n",
    "ax[3].plot(data_meas.loc[~np.isnan(data_meas.stim), 'timestamp'], \n",
    "           data_meas.loc[~np.isnan(data_meas.stim), 'stim'], label='Measured')\n",
    "# ax[3].plot(data_sim.loc[~np.isnan(data_sim.stim_iso), 'timestamp'], \n",
    "#            data_sim.loc[~np.isnan(data_sim.stim_iso), 'stim_iso'], \n",
    "#            label='Simulated')\n",
    "ax[3].plot(t_stim, stim, \n",
    "           label='Simulated')\n",
    "\n",
    "for i in range(4):\n",
    "    ax[i].grid()\n",
    "ax[3].set_xlabel('Time [sec]')\n",
    "ax[0].set_ylabel('LD1 Output \\n [a.u]')\n",
    "ax[1].set_ylabel('LD2 Output \\n [a.u.]')\n",
    "ax[2].set_ylabel('LD State')\n",
    "ax[3].set_ylabel('Stimulation \\n amplitude [mA]')\n",
    "\n",
    "plt.tight_layout()"
   ]
  },
  {
   "cell_type": "markdown",
   "id": "dcbd95b8-86c3-4e1e-b7eb-66a5df508112",
   "metadata": {
    "tags": []
   },
   "source": [
    "# LD8a"
   ]
  },
  {
   "cell_type": "markdown",
   "id": "4210b09b-5ae4-4384-9847-c4c774a6f489",
   "metadata": {
    "tags": []
   },
   "source": [
    "### Load measured datasets and settings"
   ]
  },
  {
   "cell_type": "code",
   "execution_count": null,
   "id": "e660fa03-5302-4cfa-8f8b-6e0136f821a9",
   "metadata": {
    "jupyter": {
     "source_hidden": true
    }
   },
   "outputs": [],
   "source": [
    "# left_neural_data = pd.read_csv(left_file_name)\n",
    "data_meas = pd.read_csv(data_folder + '/dataset_ld8a.csv')\n",
    "settings = pd.read_csv(data_folder + '/dataset_ld8a_config.csv')\n",
    "amp_gains = np.genfromtxt(data_folder + '/amp_gains.csv', \n",
    "                          delimiter=',').astype(int)\n",
    "\n",
    "settings['band_edges_hz'] = settings['band_edges_hz'].apply(literal_eval)\n",
    "settings['subtract_vec'] = settings['subtract_vec'].apply(literal_eval)\n",
    "settings['multiply_vec'] = settings['multiply_vec'].apply(literal_eval)\n",
    "settings['update_rate'] = settings['update_rate'].apply(literal_eval)\n",
    "settings['weights'] = settings['weights'].apply(literal_eval)\n",
    "settings['dual_threshold']= settings['dual_threshold'].apply(literal_eval)\n",
    "settings['threshold'] = settings['threshold'].apply(literal_eval)\n",
    "settings['blank_duration'] = settings['blank_duration'].apply(literal_eval)\n",
    "settings['onset'] = settings['onset'].apply(literal_eval)\n",
    "settings['termination'] = settings['termination'].apply(literal_eval)\n",
    "settings['blank_both'] = settings['blank_both'].apply(literal_eval)\n",
    "settings['target_amp'] = settings['target_amp'].apply(literal_eval)"
   ]
  },
  {
   "cell_type": "code",
   "execution_count": null,
   "id": "dfbf2ebe-256f-4772-a762-2b32af88b103",
   "metadata": {
    "jupyter": {
     "source_hidden": true
    },
    "tags": []
   },
   "outputs": [],
   "source": [
    "print('Measured data')\n",
    "data_meas.head(2)"
   ]
  },
  {
   "cell_type": "code",
   "execution_count": null,
   "id": "fe733322-508a-42d1-87c5-d14783347c57",
   "metadata": {
    "jupyter": {
     "source_hidden": true
    },
    "tags": []
   },
   "outputs": [],
   "source": [
    "print('Settings')\n",
    "settings"
   ]
  },
  {
   "cell_type": "markdown",
   "id": "19440bdc-6025-4014-8ce5-760ab06e170c",
   "metadata": {
    "tags": []
   },
   "source": [
    "### TD --> PB"
   ]
  },
  {
   "cell_type": "code",
   "execution_count": null,
   "id": "fb126875-878b-4c75-978b-baa6c91dd325",
   "metadata": {
    "jupyter": {
     "source_hidden": true
    },
    "tags": []
   },
   "outputs": [],
   "source": [
    "data_sim = data_meas[['timestamp', 'td1']].copy()\n",
    "data_sim['pb1'] = np.nan*np.ones(np.shape(data_sim['td1']))\n",
    "\n",
    "t_start = time.time()\n",
    "hann_win = rcs.create_hann_window(settings.fft_size[0], percent=100)\n",
    "\n",
    "# Compute power band for the first time-domain channel\n",
    "data_td = rcs.transform_mv_to_rcs(data_sim['td1'].values, amp_gains[0])\n",
    "data_fft, t_pb = rcs.td_to_fft(data_td, data_sim['timestamp'].values, \n",
    "                               fs_td=settings.fs_td[0], \n",
    "                               L=settings.fft_size[0], \n",
    "                               interval=settings.interval[0], \n",
    "                               hann_win=hann_win)\n",
    "data_pb = rcs.fft_to_pb(data_fft, \n",
    "                        fs_td=settings.fs_td[0], \n",
    "                        L=settings.fft_size[0], \n",
    "                        bit_shift=settings.bit_shift[0], \n",
    "                        band_edges_hz=settings.band_edges_hz[0][0])\n",
    "pb_sample_mask = np.isin(data_sim.timestamp, t_pb)\n",
    "data_sim.loc[pb_sample_mask,'pb1'] = data_pb\n",
    "\n",
    "t_end = time.time()\n",
    "print('Time elapsed: ' + str(t_end-t_start))"
   ]
  },
  {
   "cell_type": "code",
   "execution_count": null,
   "id": "58ccdd87-e99f-441c-b940-23efcd368d5c",
   "metadata": {
    "jupyter": {
     "source_hidden": true
    },
    "tags": []
   },
   "outputs": [],
   "source": [
    "# %matplotlib widget\n",
    "fig, ax = plt.subplots(1,1, figsize=(6,2), sharex='col', sharey=False)\n",
    "\n",
    "ax.plot(data_meas.loc[~np.isnan(data_meas.pb1), 'timestamp'], \n",
    "           data_meas.loc[~np.isnan(data_meas.pb1), 'pb1'], label='Measured')\n",
    "ax.plot(data_sim.loc[~np.isnan(data_sim.pb1), 'timestamp'], \n",
    "           data_sim.loc[~np.isnan(data_sim.pb1), 'pb1'], label='Simulated')\n",
    "ax.legend(bbox_to_anchor=(1.02, 0.6))\n",
    "\n",
    "ax.grid()\n",
    "ax.set_xlabel('Time [sec]')\n",
    "ax.set_ylabel('PB1 Output \\n [RCS units]')\n",
    "\n",
    "plt.tight_layout()"
   ]
  },
  {
   "cell_type": "markdown",
   "id": "7b49b8a0-ac7d-412c-a475-e9e00579e55d",
   "metadata": {
    "tags": []
   },
   "source": [
    "### PB --> LD --> state --> stim"
   ]
  },
  {
   "cell_type": "code",
   "execution_count": null,
   "id": "31adf90d-ffc1-4dcf-85eb-67b944fb555b",
   "metadata": {
    "jupyter": {
     "source_hidden": true
    }
   },
   "outputs": [],
   "source": [
    "data_sim['ld1_iso'] = np.nan*np.ones(np.shape(data_sim['td1']))\n",
    "data_sim['state_iso'] = np.nan*np.ones(np.shape(data_sim['td1']))\n",
    "data_sim['stim_iso'] = np.nan*np.ones(np.shape(data_sim['td1']))\n",
    "\n",
    "# Compute continuous-valued LD output\n",
    "ld_output, t_ld, update_tbl = rcs.pb_to_ld(\n",
    "                                        data_meas.loc[~np.isnan(data_meas['pb1']), \n",
    "                                                      ['pb1']].values, \n",
    "                                        data_meas.loc[~np.isnan(data_meas['pb1']), \n",
    "                                                      'timestamp'].values, \n",
    "                                        update_rate=settings.update_rate[0], \n",
    "                                        weights=settings.weights[0],\n",
    "                                        subtract_vec=settings.subtract_vec[0], \n",
    "                                        multiply_vec=settings.multiply_vec[0])\n",
    "\n",
    "# Compute the state changes\n",
    "state, t_state, ld_output = rcs.ld_to_state(ld_output, update_tbl, \n",
    "                                   data_meas.loc[~np.isnan(data_meas['pb1']), \n",
    "                                                 'timestamp'].values, \n",
    "                                   update_rate=settings.update_rate[0], \n",
    "                                   dual_threshold=settings.dual_threshold[0], \n",
    "                                   threshold=settings.threshold[0], \n",
    "                                   onset_duration=settings.onset[0], \n",
    "                                   termination_duration=settings.termination[0], \n",
    "                                   blank_duration=settings.blank_duration[0])\n",
    "\n",
    "# Compute the stim changes\n",
    "rise_time = rcs.transform_ramp_rate_int_to_mas(settings.rise_time[0])\n",
    "fall_time = rcs.transform_ramp_rate_int_to_mas(settings.fall_time[0])\n",
    "stim, t_stim = rcs.state_to_stim(data_meas.loc[~np.isnan(data_meas['state']), \n",
    "                                               'state'].values.astype(int), \n",
    "                                 data_meas.loc[~np.isnan(data_meas['state']), \n",
    "                                               'timestamp'].values, \n",
    "                                 target_amp=settings.target_amp[0], \n",
    "                                 rise_time=rise_time, \n",
    "                                 fall_time=fall_time)\n",
    "\n",
    "# Log the simulated data\n",
    "ld1_sample_mask = np.isin(data_sim.timestamp.values, t_ld[0])\n",
    "data_sim.loc[ld1_sample_mask,'ld1_iso'] = ld_output[0]"
   ]
  },
  {
   "cell_type": "code",
   "execution_count": null,
   "id": "212741ca-a05d-4db1-a5b7-63f778016574",
   "metadata": {
    "jupyter": {
     "source_hidden": true
    }
   },
   "outputs": [],
   "source": [
    "# %matplotlib widget\n",
    "fig, ax = plt.subplots(3,1, figsize=(6,4), sharex='col', sharey=False)\n",
    "\n",
    "ax[0].plot(data_meas.loc[~np.isnan(data_meas.ld1), 'timestamp'], \n",
    "           data_meas.loc[~np.isnan(data_meas.ld1), 'ld1'], label='Measured')\n",
    "ax[0].plot(data_sim.loc[~np.isnan(data_sim.ld1_iso), 'timestamp'], \n",
    "           data_sim.loc[~np.isnan(data_sim.ld1_iso), 'ld1_iso'], \n",
    "           label='Simulated')\n",
    "ax[0].axhline(settings.threshold[0][0], color='r')\n",
    "ax[0].legend(bbox_to_anchor=(1.02, 0.6))\n",
    "\n",
    "ax[1].plot(data_meas.loc[~np.isnan(data_meas.state), 'timestamp'], \n",
    "           data_meas.loc[~np.isnan(data_meas.state), 'state'], label='Measured')\n",
    "# ax[1].plot(data_sim.loc[~np.isnan(data_sim.state_iso), 'timestamp'], \n",
    "#            data_sim.loc[~np.isnan(data_sim.state_iso), 'state_iso'], \n",
    "#            label='Simulated')\n",
    "ax[1].plot(t_state, state, \n",
    "           label='Simulated')\n",
    "ax[1].set_yticks(np.arange(9))\n",
    "ax[1].set_yticklabels(['0'] + ['']*7 + ['8'])\n",
    "\n",
    "ax[2].plot(data_meas.loc[~np.isnan(data_meas.stim), 'timestamp'], \n",
    "           data_meas.loc[~np.isnan(data_meas.stim), 'stim'], label='Measured')\n",
    "# ax[2].plot(data_sim.loc[~np.isnan(data_sim.stim_iso), 'timestamp'], \n",
    "#            data_sim.loc[~np.isnan(data_sim.stim_iso), 'stim_iso'], \n",
    "#            label='Simulated')\n",
    "ax[2].plot(t_stim, stim, \n",
    "           label='Simulated')\n",
    "\n",
    "for i in range(3):\n",
    "    ax[i].grid()\n",
    "ax[2].set_xlabel('Time [sec]')\n",
    "ax[0].set_ylabel('LD1 Output \\n [a.u]')\n",
    "ax[1].set_ylabel('LD State')\n",
    "ax[2].set_ylabel('Stimulation \\n amplitude [mA]')\n",
    "\n",
    "plt.tight_layout()"
   ]
  },
  {
   "cell_type": "markdown",
   "id": "1e49ef29-8448-4b98-be6a-e86a92928626",
   "metadata": {
    "tags": []
   },
   "source": [
    "# LD8b"
   ]
  },
  {
   "cell_type": "markdown",
   "id": "b5ebdd4e-0edf-48ce-95eb-c8fe36e0b685",
   "metadata": {
    "tags": []
   },
   "source": [
    "### Load measured datasets and settings"
   ]
  },
  {
   "cell_type": "code",
   "execution_count": null,
   "id": "81e6ce5e-6611-4094-9990-bc7589eca886",
   "metadata": {
    "jupyter": {
     "source_hidden": true
    }
   },
   "outputs": [],
   "source": [
    "# left_neural_data = pd.read_csv(left_file_name)\n",
    "data_meas = pd.read_csv(data_folder + '/dataset_ld8b.csv')\n",
    "settings = pd.read_csv(data_folder + '/dataset_ld8b_config.csv')\n",
    "amp_gains = np.genfromtxt(data_folder + '/amp_gains.csv', \n",
    "                          delimiter=',').astype(int)\n",
    "\n",
    "settings['band_edges_hz'] = settings['band_edges_hz'].apply(literal_eval)\n",
    "settings['subtract_vec'] = settings['subtract_vec'].apply(literal_eval)\n",
    "settings['multiply_vec'] = settings['multiply_vec'].apply(literal_eval)\n",
    "settings['update_rate'] = settings['update_rate'].apply(literal_eval)\n",
    "settings['weights'] = settings['weights'].apply(literal_eval)\n",
    "settings['dual_threshold']= settings['dual_threshold'].apply(literal_eval)\n",
    "settings['threshold'] = settings['threshold'].apply(literal_eval)\n",
    "settings['blank_duration'] = settings['blank_duration'].apply(literal_eval)\n",
    "settings['onset'] = settings['onset'].apply(literal_eval)\n",
    "settings['termination'] = settings['termination'].apply(literal_eval)\n",
    "settings['blank_both'] = settings['blank_both'].apply(literal_eval)\n",
    "settings['target_amp'] = settings['target_amp'].apply(literal_eval)"
   ]
  },
  {
   "cell_type": "code",
   "execution_count": null,
   "id": "2deb8199-961c-447d-aeb0-58f12dfedb06",
   "metadata": {
    "jupyter": {
     "source_hidden": true
    },
    "tags": []
   },
   "outputs": [],
   "source": [
    "print('Measured data')\n",
    "data_meas.head(2)"
   ]
  },
  {
   "cell_type": "code",
   "execution_count": null,
   "id": "bd508b43-094e-49bd-9317-fa41957df296",
   "metadata": {
    "jupyter": {
     "source_hidden": true
    },
    "tags": []
   },
   "outputs": [],
   "source": [
    "print('Settings')\n",
    "settings"
   ]
  },
  {
   "cell_type": "markdown",
   "id": "d5190a91-006b-4a65-9b1a-61fca9435959",
   "metadata": {
    "tags": []
   },
   "source": [
    "### TD --> PB"
   ]
  },
  {
   "cell_type": "code",
   "execution_count": null,
   "id": "a0a792cc-0de2-4e39-b3dd-8b2d91841dfd",
   "metadata": {
    "jupyter": {
     "source_hidden": true
    },
    "tags": []
   },
   "outputs": [],
   "source": [
    "data_sim = data_meas[['timestamp', 'td1']].copy()\n",
    "data_sim['pb1'] = np.nan*np.ones(np.shape(data_sim['td1']))\n",
    "\n",
    "t_start = time.time()\n",
    "hann_win = rcs.create_hann_window(settings.fft_size[0], percent=100)\n",
    "\n",
    "# Compute power band for the first time-domain channel\n",
    "data_td = rcs.transform_mv_to_rcs(data_sim['td1'].values, amp_gains[0])\n",
    "data_fft, t_pb = rcs.td_to_fft(data_td, data_sim['timestamp'].values, \n",
    "                               fs_td=settings.fs_td[0], \n",
    "                               L=settings.fft_size[0], \n",
    "                               interval=settings.interval[0], \n",
    "                               hann_win=hann_win)\n",
    "data_pb = rcs.fft_to_pb(data_fft, \n",
    "                        fs_td=settings.fs_td[0], \n",
    "                        L=settings.fft_size[0], \n",
    "                        bit_shift=settings.bit_shift[0], \n",
    "                        band_edges_hz=settings.band_edges_hz[0][0])\n",
    "pb_sample_mask = np.isin(data_sim.timestamp, t_pb)\n",
    "data_sim.loc[pb_sample_mask,'pb1'] = data_pb\n",
    "\n",
    "t_end = time.time()\n",
    "print('Time elapsed: ' + str(t_end-t_start))"
   ]
  },
  {
   "cell_type": "code",
   "execution_count": null,
   "id": "1da32566-987b-447e-a9e4-6599739fbdca",
   "metadata": {
    "jupyter": {
     "source_hidden": true
    },
    "tags": []
   },
   "outputs": [],
   "source": [
    "# %matplotlib widget\n",
    "fig, ax = plt.subplots(1,1, figsize=(6,2), sharex='col', sharey=False)\n",
    "\n",
    "ax.plot(data_meas.loc[~np.isnan(data_meas.pb1), 'timestamp'], \n",
    "           data_meas.loc[~np.isnan(data_meas.pb1), 'pb1'], label='Measured')\n",
    "ax.plot(data_sim.loc[~np.isnan(data_sim.pb1), 'timestamp'], \n",
    "           data_sim.loc[~np.isnan(data_sim.pb1), 'pb1'], label='Simulated')\n",
    "ax.legend(bbox_to_anchor=(1.02, 0.6))\n",
    "\n",
    "ax.grid()\n",
    "ax.set_xlabel('Time [sec]')\n",
    "ax.set_ylabel('PB1 Output \\n [RCS units]')\n",
    "\n",
    "plt.tight_layout()"
   ]
  },
  {
   "cell_type": "markdown",
   "id": "6f1eb7c8-7ecd-41e8-9558-8282fe1a74f7",
   "metadata": {
    "tags": []
   },
   "source": [
    "### PB --> LD --> state --> stim"
   ]
  },
  {
   "cell_type": "code",
   "execution_count": null,
   "id": "78ffacca-8eb9-4efd-bfc1-eaa56106cc8e",
   "metadata": {
    "jupyter": {
     "source_hidden": true
    }
   },
   "outputs": [],
   "source": [
    "data_sim['ld1_iso'] = np.nan*np.ones(np.shape(data_sim['td1']))\n",
    "data_sim['state_iso'] = np.nan*np.ones(np.shape(data_sim['td1']))\n",
    "data_sim['stim_iso'] = np.nan*np.ones(np.shape(data_sim['td1']))\n",
    "\n",
    "# Compute continuous-valued LD output\n",
    "ld_output, t_ld, update_tbl = rcs.pb_to_ld(\n",
    "                                        data_meas.loc[~np.isnan(data_meas['pb1']), \n",
    "                                                      ['pb1']].values, \n",
    "                                        data_meas.loc[~np.isnan(data_meas['pb1']), \n",
    "                                                      'timestamp'].values, \n",
    "                                        update_rate=settings.update_rate[0], \n",
    "                                        weights=settings.weights[0],\n",
    "                                        subtract_vec=settings.subtract_vec[0], \n",
    "                                        multiply_vec=settings.multiply_vec[0])\n",
    "\n",
    "# Compute the state changes\n",
    "state, t_state, ld_output = rcs.ld_to_state(ld_output, update_tbl, \n",
    "                                   data_meas.loc[~np.isnan(data_meas['pb1']), \n",
    "                                                 'timestamp'].values, \n",
    "                                   update_rate=settings.update_rate[0], \n",
    "                                   dual_threshold=settings.dual_threshold[0], \n",
    "                                   threshold=settings.threshold[0], \n",
    "                                   onset_duration=settings.onset[0], \n",
    "                                   termination_duration=settings.termination[0], \n",
    "                                   blank_duration=settings.blank_duration[0])\n",
    "\n",
    "# Compute the stim changes\n",
    "rise_time = rcs.transform_ramp_rate_int_to_mas(settings.rise_time[0])\n",
    "fall_time = rcs.transform_ramp_rate_int_to_mas(settings.fall_time[0])\n",
    "stim, t_stim = rcs.state_to_stim(data_meas.loc[~np.isnan(data_meas['state']), \n",
    "                                               'state'].values.astype(int), \n",
    "                                 data_meas.loc[~np.isnan(data_meas['state']), \n",
    "                                               'timestamp'].values, \n",
    "                                 target_amp=settings.target_amp[0], \n",
    "                                 rise_time=rise_time, \n",
    "                                 fall_time=fall_time)\n",
    "\n",
    "# Log the simulated data\n",
    "ld1_sample_mask = np.isin(data_sim.timestamp.values, t_ld[0])\n",
    "data_sim.loc[ld1_sample_mask,'ld1_iso'] = ld_output[0]"
   ]
  },
  {
   "cell_type": "code",
   "execution_count": null,
   "id": "db8cb2c5-9135-499c-bfb4-fc17f270bd4a",
   "metadata": {
    "jupyter": {
     "source_hidden": true
    }
   },
   "outputs": [],
   "source": [
    "# %matplotlib widget\n",
    "fig, ax = plt.subplots(3,1, figsize=(6,4), sharex='col', sharey=False)\n",
    "\n",
    "ax[0].plot(data_meas.loc[~np.isnan(data_meas.ld1), 'timestamp'], \n",
    "           data_meas.loc[~np.isnan(data_meas.ld1), 'ld1'], label='Measured')\n",
    "ax[0].plot(data_sim.loc[~np.isnan(data_sim.ld1_iso), 'timestamp'], \n",
    "           data_sim.loc[~np.isnan(data_sim.ld1_iso), 'ld1_iso'], \n",
    "           label='Simulated')\n",
    "ax[0].axhline(settings.threshold[0][0], color='r')\n",
    "ax[0].legend(bbox_to_anchor=(1.02, 0.6))\n",
    "\n",
    "ax[1].plot(data_meas.loc[~np.isnan(data_meas.state), 'timestamp'], \n",
    "           data_meas.loc[~np.isnan(data_meas.state), 'state'], label='Measured')\n",
    "# ax[1].plot(data_sim.loc[~np.isnan(data_sim.state_iso), 'timestamp'], \n",
    "#            data_sim.loc[~np.isnan(data_sim.state_iso), 'state_iso'], \n",
    "#            label='Simulated')\n",
    "ax[1].plot(t_state, state, \n",
    "           label='Simulated')\n",
    "ax[1].set_yticks(np.arange(9))\n",
    "ax[1].set_yticklabels(['0'] + ['']*7 + ['8'])\n",
    "\n",
    "ax[2].plot(data_meas.loc[~np.isnan(data_meas.stim), 'timestamp'], \n",
    "           data_meas.loc[~np.isnan(data_meas.stim), 'stim'], label='Measured')\n",
    "# ax[2].plot(data_sim.loc[~np.isnan(data_sim.stim_iso), 'timestamp'], \n",
    "#            data_sim.loc[~np.isnan(data_sim.stim_iso), 'stim_iso'], \n",
    "#            label='Simulated')\n",
    "ax[2].plot(t_stim, stim, \n",
    "           label='Simulated')\n",
    "\n",
    "for i in range(3):\n",
    "    ax[i].grid()\n",
    "ax[2].set_xlabel('Time [sec]')\n",
    "ax[0].set_ylabel('LD1 Output \\n [a.u]')\n",
    "ax[1].set_ylabel('LD State')\n",
    "ax[2].set_ylabel('Stimulation \\n amplitude [mA]')\n",
    "\n",
    "plt.tight_layout()"
   ]
  },
  {
   "cell_type": "markdown",
   "id": "f08a590e-1e34-4a4c-ab6e-3d282d319c28",
   "metadata": {
    "tags": []
   },
   "source": [
    "# LD8c"
   ]
  },
  {
   "cell_type": "markdown",
   "id": "b457f67e-d6d8-4918-82d9-a3574c7113b1",
   "metadata": {
    "tags": []
   },
   "source": [
    "### Load measured datasets and settings"
   ]
  },
  {
   "cell_type": "code",
   "execution_count": null,
   "id": "93c483ed-44cd-44db-99e7-f4d51763cc65",
   "metadata": {
    "jupyter": {
     "source_hidden": true
    },
    "tags": []
   },
   "outputs": [],
   "source": [
    "# left_neural_data = pd.read_csv(left_file_name)\n",
    "data_meas = pd.read_csv(data_folder + '/dataset_ld8c.csv')\n",
    "settings = pd.read_csv(data_folder + '/dataset_ld8c_config.csv')\n",
    "amp_gains = np.genfromtxt(data_folder + '/amp_gains.csv', \n",
    "                          delimiter=',').astype(int)\n",
    "\n",
    "settings['band_edges_hz'] = settings['band_edges_hz'].apply(literal_eval)\n",
    "settings['subtract_vec'] = settings['subtract_vec'].apply(literal_eval)\n",
    "settings['multiply_vec'] = settings['multiply_vec'].apply(literal_eval)\n",
    "settings['update_rate'] = settings['update_rate'].apply(literal_eval)\n",
    "settings['weights'] = settings['weights'].apply(literal_eval)\n",
    "settings['dual_threshold']= settings['dual_threshold'].apply(literal_eval)\n",
    "settings['threshold'] = settings['threshold'].apply(literal_eval)\n",
    "settings['blank_duration'] = settings['blank_duration'].apply(literal_eval)\n",
    "settings['onset'] = settings['onset'].apply(literal_eval)\n",
    "settings['termination'] = settings['termination'].apply(literal_eval)\n",
    "settings['blank_both'] = settings['blank_both'].apply(literal_eval)\n",
    "settings['target_amp'] = settings['target_amp'].apply(literal_eval)"
   ]
  },
  {
   "cell_type": "code",
   "execution_count": null,
   "id": "2cc32752-855c-48fc-8f26-e6b91b8090d8",
   "metadata": {
    "jupyter": {
     "source_hidden": true
    },
    "tags": []
   },
   "outputs": [],
   "source": [
    "print('Measured data')\n",
    "data_meas.head(2)"
   ]
  },
  {
   "cell_type": "code",
   "execution_count": null,
   "id": "d135abda-8ea4-42c6-bc37-3feb519039c5",
   "metadata": {
    "jupyter": {
     "source_hidden": true
    },
    "tags": []
   },
   "outputs": [],
   "source": [
    "print('Settings')\n",
    "settings"
   ]
  },
  {
   "cell_type": "markdown",
   "id": "1b2a2d35-d117-4679-87f8-01944a5be056",
   "metadata": {
    "tags": []
   },
   "source": [
    "### TD --> PB"
   ]
  },
  {
   "cell_type": "code",
   "execution_count": null,
   "id": "1a5f3b62-ccf9-4f0e-b1df-b2e436354ede",
   "metadata": {
    "jupyter": {
     "source_hidden": true
    },
    "tags": []
   },
   "outputs": [],
   "source": [
    "data_sim = data_meas[['timestamp', 'td1']].copy()\n",
    "data_sim['pb1'] = np.nan*np.ones(np.shape(data_sim['td1']))\n",
    "\n",
    "t_start = time.time()\n",
    "hann_win = rcs.create_hann_window(settings.fft_size[0], percent=100)\n",
    "\n",
    "# Compute power band for the first time-domain channel\n",
    "data_td = rcs.transform_mv_to_rcs(data_sim['td1'].values, amp_gains[0])\n",
    "data_fft, t_pb = rcs.td_to_fft(data_td, data_sim['timestamp'].values, \n",
    "                               fs_td=settings.fs_td[0], \n",
    "                               L=settings.fft_size[0], \n",
    "                               interval=settings.interval[0], \n",
    "                               hann_win=hann_win)\n",
    "data_pb = rcs.fft_to_pb(data_fft, \n",
    "                        fs_td=settings.fs_td[0], \n",
    "                        L=settings.fft_size[0], \n",
    "                        bit_shift=settings.bit_shift[0], \n",
    "                        band_edges_hz=settings.band_edges_hz[0][0])\n",
    "pb_sample_mask = np.isin(data_sim.timestamp, t_pb)\n",
    "data_sim.loc[pb_sample_mask,'pb1'] = data_pb\n",
    "\n",
    "t_end = time.time()\n",
    "print('Time elapsed: ' + str(t_end-t_start))"
   ]
  },
  {
   "cell_type": "code",
   "execution_count": null,
   "id": "08ad1bd6-2fcc-4990-a41b-6a66c38f81f0",
   "metadata": {
    "jupyter": {
     "source_hidden": true
    },
    "tags": []
   },
   "outputs": [],
   "source": [
    "# %matplotlib widget\n",
    "fig, ax = plt.subplots(1,1, figsize=(6,2), sharex='col', sharey=False)\n",
    "\n",
    "ax.plot(data_meas.loc[~np.isnan(data_meas.pb1), 'timestamp'], \n",
    "           data_meas.loc[~np.isnan(data_meas.pb1), 'pb1'], label='Measured')\n",
    "ax.plot(data_sim.loc[~np.isnan(data_sim.pb1), 'timestamp'], \n",
    "           data_sim.loc[~np.isnan(data_sim.pb1), 'pb1'], label='Simulated')\n",
    "ax.legend(bbox_to_anchor=(1.02, 0.6))\n",
    "\n",
    "ax.grid()\n",
    "ax.set_xlabel('Time [sec]')\n",
    "ax.set_ylabel('PB1 Output \\n [RCS units]')\n",
    "\n",
    "plt.tight_layout()"
   ]
  },
  {
   "cell_type": "markdown",
   "id": "c91115d8-2e0d-4a8c-9cd2-2149908723e4",
   "metadata": {
    "tags": []
   },
   "source": [
    "### PB --> LD --> state --> stim"
   ]
  },
  {
   "cell_type": "code",
   "execution_count": null,
   "id": "dbf898b6-cc84-4659-aab2-2c7968a8a309",
   "metadata": {
    "jupyter": {
     "source_hidden": true
    },
    "tags": []
   },
   "outputs": [],
   "source": [
    "data_sim['ld1_iso'] = np.nan*np.ones(np.shape(data_sim['td1']))\n",
    "data_sim['state_iso'] = np.nan*np.ones(np.shape(data_sim['td1']))\n",
    "data_sim['stim_iso'] = np.nan*np.ones(np.shape(data_sim['td1']))\n",
    "\n",
    "# Compute continuous-valued LD output\n",
    "ld_output, t_ld, update_tbl = rcs.pb_to_ld(\n",
    "                                        data_meas.loc[~np.isnan(data_meas['pb1']), \n",
    "                                                      ['pb1']].values, \n",
    "                                        data_meas.loc[~np.isnan(data_meas['pb1']), \n",
    "                                                      'timestamp'].values, \n",
    "                                        update_rate=settings.update_rate[0], \n",
    "                                        weights=settings.weights[0],\n",
    "                                        subtract_vec=settings.subtract_vec[0], \n",
    "                                        multiply_vec=settings.multiply_vec[0])\n",
    "\n",
    "# Compute the state changes\n",
    "state, t_state, ld_output = rcs.ld_to_state(ld_output, update_tbl, \n",
    "                                   data_meas.loc[~np.isnan(data_meas['pb1']), \n",
    "                                                 'timestamp'].values, \n",
    "                                   update_rate=settings.update_rate[0], \n",
    "                                   dual_threshold=settings.dual_threshold[0], \n",
    "                                   threshold=settings.threshold[0], \n",
    "                                   onset_duration=settings.onset[0], \n",
    "                                   termination_duration=settings.termination[0], \n",
    "                                   blank_duration=settings.blank_duration[0])\n",
    "\n",
    "# Compute the stim changes\n",
    "rise_time = rcs.transform_ramp_rate_int_to_mas(settings.rise_time[0])\n",
    "fall_time = rcs.transform_ramp_rate_int_to_mas(settings.fall_time[0])\n",
    "stim, t_stim = rcs.state_to_stim(data_meas.loc[~np.isnan(data_meas['state']), \n",
    "                                               'state'].values.astype(int), \n",
    "                                 data_meas.loc[~np.isnan(data_meas['state']), \n",
    "                                               'timestamp'].values, \n",
    "                                 target_amp=settings.target_amp[0], \n",
    "                                 rise_time=rise_time, \n",
    "                                 fall_time=fall_time)\n",
    "\n",
    "# Log the simulated data\n",
    "ld1_sample_mask = np.isin(data_sim.timestamp.values, t_ld[0])\n",
    "data_sim.loc[ld1_sample_mask,'ld1_iso'] = ld_output[0]"
   ]
  },
  {
   "cell_type": "code",
   "execution_count": null,
   "id": "b5271543-de28-4c51-9e49-d7ae5eca8cc1",
   "metadata": {
    "jupyter": {
     "source_hidden": true
    },
    "tags": []
   },
   "outputs": [],
   "source": [
    "# %matplotlib widget\n",
    "fig, ax = plt.subplots(3,1, figsize=(6,4), sharex='col', sharey=False)\n",
    "\n",
    "ax[0].plot(data_meas.loc[~np.isnan(data_meas.ld1), 'timestamp'], \n",
    "           data_meas.loc[~np.isnan(data_meas.ld1), 'ld1'], label='Measured')\n",
    "ax[0].plot(data_sim.loc[~np.isnan(data_sim.ld1_iso), 'timestamp'], \n",
    "           data_sim.loc[~np.isnan(data_sim.ld1_iso), 'ld1_iso'], \n",
    "           label='Simulated')\n",
    "ax[0].axhline(settings.threshold[0][0], color='r')\n",
    "ax[0].legend(bbox_to_anchor=(1.02, 0.6))\n",
    "\n",
    "ax[1].plot(data_meas.loc[~np.isnan(data_meas.state), 'timestamp'], \n",
    "           data_meas.loc[~np.isnan(data_meas.state), 'state'], label='Measured')\n",
    "# ax[1].plot(data_sim.loc[~np.isnan(data_sim.state_iso), 'timestamp'], \n",
    "#            data_sim.loc[~np.isnan(data_sim.state_iso), 'state_iso'], \n",
    "#            label='Simulated')\n",
    "ax[1].plot(t_state, state, \n",
    "           label='Simulated')\n",
    "ax[1].set_yticks(np.arange(9))\n",
    "ax[1].set_yticklabels(['0'] + ['']*7 + ['8'])\n",
    "\n",
    "ax[2].plot(data_meas.loc[~np.isnan(data_meas.stim), 'timestamp'], \n",
    "           data_meas.loc[~np.isnan(data_meas.stim), 'stim'], label='Measured')\n",
    "# ax[2].plot(data_sim.loc[~np.isnan(data_sim.stim_iso), 'timestamp'], \n",
    "#            data_sim.loc[~np.isnan(data_sim.stim_iso), 'stim_iso'], \n",
    "#            label='Simulated')\n",
    "ax[2].plot(t_stim, stim, \n",
    "           label='Simulated')\n",
    "\n",
    "for i in range(3):\n",
    "    ax[i].grid()\n",
    "ax[2].set_xlabel('Time [sec]')\n",
    "ax[0].set_ylabel('LD1 Output \\n [a.u]')\n",
    "ax[1].set_ylabel('LD State')\n",
    "ax[2].set_ylabel('Stimulation \\n amplitude [mA]')\n",
    "\n",
    "plt.tight_layout()"
   ]
  },
  {
   "cell_type": "markdown",
   "id": "647e0282-ee03-42cd-8dec-33fba7d19105",
   "metadata": {
    "tags": []
   },
   "source": [
    "# LD8d"
   ]
  },
  {
   "cell_type": "code",
   "execution_count": null,
   "id": "032606d8-1970-4c42-9c3e-614bb760054e",
   "metadata": {
    "jupyter": {
     "source_hidden": true
    },
    "tags": []
   },
   "outputs": [],
   "source": [
    "# left_neural_data = pd.read_csv(left_file_name)\n",
    "data_meas = pd.read_csv(data_folder + '/dataset_ld8d.csv')\n",
    "settings = pd.read_csv(data_folder + '/dataset_ld8d_config.csv')\n",
    "amp_gains = np.genfromtxt(data_folder + '/amp_gains.csv', \n",
    "                          delimiter=',').astype(int)\n",
    "\n",
    "settings['band_edges_hz'] = settings['band_edges_hz'].apply(literal_eval)\n",
    "settings['subtract_vec'] = settings['subtract_vec'].apply(literal_eval)\n",
    "settings['multiply_vec'] = settings['multiply_vec'].apply(literal_eval)\n",
    "settings['update_rate'] = settings['update_rate'].apply(literal_eval)\n",
    "settings['weights'] = settings['weights'].apply(literal_eval)\n",
    "settings['dual_threshold']= settings['dual_threshold'].apply(literal_eval)\n",
    "settings['threshold'] = settings['threshold'].apply(literal_eval)\n",
    "settings['blank_duration'] = settings['blank_duration'].apply(literal_eval)\n",
    "settings['onset'] = settings['onset'].apply(literal_eval)\n",
    "settings['termination'] = settings['termination'].apply(literal_eval)\n",
    "settings['blank_both'] = settings['blank_both'].apply(literal_eval)\n",
    "settings['target_amp'] = settings['target_amp'].apply(literal_eval)"
   ]
  },
  {
   "cell_type": "code",
   "execution_count": null,
   "id": "c0b30128-4d2a-4547-be52-0a59e32a55d8",
   "metadata": {
    "jupyter": {
     "source_hidden": true
    },
    "tags": []
   },
   "outputs": [],
   "source": [
    "print('Measured data')\n",
    "data_meas.head(2)"
   ]
  },
  {
   "cell_type": "code",
   "execution_count": null,
   "id": "ff64cdfd-5e06-4bee-8f4c-a570643869cb",
   "metadata": {
    "jupyter": {
     "source_hidden": true
    },
    "tags": []
   },
   "outputs": [],
   "source": [
    "print('Settings')\n",
    "settings"
   ]
  },
  {
   "cell_type": "markdown",
   "id": "83987dec-8118-484f-90e9-9e1ebb6f42bf",
   "metadata": {},
   "source": [
    "### TD --> PB"
   ]
  },
  {
   "cell_type": "code",
   "execution_count": null,
   "id": "4bd2fd79-57e6-4dcc-a752-4560481938fe",
   "metadata": {
    "jupyter": {
     "source_hidden": true
    },
    "tags": []
   },
   "outputs": [],
   "source": [
    "data_sim = data_meas[['timestamp', 'td1', 'td2']].copy()\n",
    "data_sim['pb1'] = np.nan*np.ones(np.shape(data_sim['td1']))\n",
    "data_sim['pb2'] = np.nan*np.ones(np.shape(data_sim['td2']))\n",
    "\n",
    "t_start = time.time()\n",
    "hann_win = rcs.create_hann_window(settings.fft_size[0], percent=100)\n",
    "\n",
    "# Compute power band for the first time-domain channel\n",
    "data_td = rcs.transform_mv_to_rcs(data_sim['td1'].values, amp_gains[0])\n",
    "data_fft, t_pb = rcs.td_to_fft(data_td, data_sim['timestamp'].values, \n",
    "                               fs_td=settings.fs_td[0], \n",
    "                               L=settings.fft_size[0], \n",
    "                               interval=settings.interval[0], \n",
    "                               hann_win=hann_win)\n",
    "data_pb = rcs.fft_to_pb(data_fft, \n",
    "                        fs_td=settings.fs_td[0], \n",
    "                        L=settings.fft_size[0], \n",
    "                        bit_shift=settings.bit_shift[0], \n",
    "                        band_edges_hz=settings.band_edges_hz[0][0])\n",
    "pb_sample_mask = np.isin(data_sim.timestamp, t_pb)\n",
    "data_sim.loc[pb_sample_mask,'pb1'] = data_pb\n",
    "\n",
    "# Compute power band for the second time-domain channel\n",
    "data_td = rcs.transform_mv_to_rcs(data_sim['td2'].values, amp_gains[1])\n",
    "data_fft, t_pb = rcs.td_to_fft(data_td, data_sim['timestamp'].values, \n",
    "                               fs_td=settings.fs_td[0], \n",
    "                               L=settings.fft_size[0], \n",
    "                               interval=settings.interval[0], \n",
    "                               hann_win=hann_win)\n",
    "data_pb = rcs.fft_to_pb(data_fft, \n",
    "                        fs_td=settings.fs_td[0], \n",
    "                        L=settings.fft_size[0], \n",
    "                        bit_shift=settings.bit_shift[0], \n",
    "                        band_edges_hz=settings.band_edges_hz[0][0])\n",
    "pb_sample_mask = np.isin(data_sim.timestamp, t_pb)\n",
    "data_sim.loc[pb_sample_mask,'pb2'] = data_pb\n",
    "\n",
    "t_end = time.time()\n",
    "print('Time elapsed: ' + str(t_end-t_start))"
   ]
  },
  {
   "cell_type": "code",
   "execution_count": null,
   "id": "79b53052-a847-46ed-9436-4d98f161b5bc",
   "metadata": {
    "jupyter": {
     "source_hidden": true
    },
    "tags": []
   },
   "outputs": [],
   "source": [
    "# %matplotlib widget\n",
    "fig, ax = plt.subplots(2,1, figsize=(6,3), sharex='col', sharey=False)\n",
    "\n",
    "ax[0].plot(data_meas.loc[~np.isnan(data_meas.pb1), 'timestamp'], \n",
    "           data_meas.loc[~np.isnan(data_meas.pb1), 'pb1'], label='Measured')\n",
    "ax[0].plot(data_sim.loc[~np.isnan(data_sim.pb1), 'timestamp'], \n",
    "           data_sim.loc[~np.isnan(data_sim.pb1), 'pb1'], label='Simulated')\n",
    "ax[0].legend(bbox_to_anchor=(1.02, 0.6))\n",
    "\n",
    "ax[1].plot(data_meas.loc[~np.isnan(data_meas.pb1), 'timestamp'], \n",
    "           data_meas.loc[~np.isnan(data_meas.pb1), 'pb2'], label='Measured')\n",
    "ax[1].plot(data_sim.loc[~np.isnan(data_sim.pb1), 'timestamp'], \n",
    "           data_sim.loc[~np.isnan(data_sim.pb1), 'pb2'], label='Simulated')\n",
    "\n",
    "ax[0].grid()\n",
    "ax[1].grid()\n",
    "ax[1].set_xlabel('Time [sec]')\n",
    "ax[0].set_ylabel('PB1 Output \\n [RCS units]')\n",
    "ax[1].set_ylabel('PB2 Output \\n [RCS units]')\n",
    "\n",
    "plt.tight_layout()"
   ]
  },
  {
   "cell_type": "markdown",
   "id": "fa7c6e2a-28d6-4286-8b7a-cd327de2876b",
   "metadata": {},
   "source": [
    "### PB --> LD --> state --> stim"
   ]
  },
  {
   "cell_type": "code",
   "execution_count": null,
   "id": "e6ea90aa-4ed2-4fbe-a91c-f4ac7299864a",
   "metadata": {
    "jupyter": {
     "source_hidden": true
    }
   },
   "outputs": [],
   "source": [
    "data_sim['ld1_iso'] = np.nan*np.ones(np.shape(data_sim['td1']))\n",
    "data_sim['ld2_iso'] = np.nan*np.ones(np.shape(data_sim['td1']))\n",
    "data_sim['state_iso'] = np.nan*np.ones(np.shape(data_sim['td1']))\n",
    "data_sim['stim_iso'] = np.nan*np.ones(np.shape(data_sim['td1']))\n",
    "\n",
    "# Compute continuous-valued LD output\n",
    "ld_output, t_ld, update_tbl = rcs.pb_to_ld(\n",
    "                                        data_meas.loc[~np.isnan(data_meas['pb1']), \n",
    "                                                      ['pb1', 'pb2']].values, \n",
    "                                        data_meas.loc[~np.isnan(data_meas['pb1']), \n",
    "                                                      'timestamp'].values, \n",
    "                                        update_rate=settings.update_rate[0], \n",
    "                                        weights=settings.weights[0],\n",
    "                                        subtract_vec=settings.subtract_vec[0], \n",
    "                                        multiply_vec=settings.multiply_vec[0])\n",
    "\n",
    "# Compute the state changes\n",
    "state, t_state, ld_output = rcs.ld_to_state(ld_output, update_tbl, \n",
    "                                   data_meas.loc[~np.isnan(data_meas['pb1']), \n",
    "                                                 'timestamp'].values, \n",
    "                                   update_rate=settings.update_rate[0], \n",
    "                                   dual_threshold=settings.dual_threshold[0], \n",
    "                                   threshold=settings.threshold[0], \n",
    "                                   onset_duration=settings.onset[0], \n",
    "                                   termination_duration=settings.termination[0], \n",
    "                                   blank_duration=settings.blank_duration[0])\n",
    "\n",
    "# Compute the stim changes\n",
    "rise_time = rcs.transform_ramp_rate_int_to_mas(settings.rise_time[0])\n",
    "fall_time = rcs.transform_ramp_rate_int_to_mas(settings.fall_time[0])\n",
    "stim, t_stim = rcs.state_to_stim(data_meas.loc[~np.isnan(data_meas['state']), \n",
    "                                               'state'].values.astype(int), \n",
    "                                 data_meas.loc[~np.isnan(data_meas['state']), \n",
    "                                               'timestamp'].values, \n",
    "                                 target_amp=settings.target_amp[0], \n",
    "                                 rise_time=rise_time, \n",
    "                                 fall_time=fall_time)\n",
    "\n",
    "# Log the simulated data\n",
    "ld1_sample_mask = np.isin(data_sim.timestamp.values, t_ld[0])\n",
    "data_sim.loc[ld1_sample_mask,'ld1_iso'] = ld_output[0]\n",
    "\n",
    "ld2_sample_mask = np.isin(data_sim.timestamp.values, t_ld[1])\n",
    "data_sim.loc[ld2_sample_mask,'ld2_iso'] = ld_output[1]"
   ]
  },
  {
   "cell_type": "code",
   "execution_count": null,
   "id": "57673147-008a-44c1-b261-184e723a2ea5",
   "metadata": {
    "jupyter": {
     "source_hidden": true
    },
    "tags": []
   },
   "outputs": [],
   "source": [
    "# %matplotlib widget\n",
    "fig, ax = plt.subplots(4,1, figsize=(6,6), sharex='col', sharey=False)\n",
    "\n",
    "ax[0].plot(data_meas.loc[~np.isnan(data_meas.ld1), 'timestamp'], \n",
    "           data_meas.loc[~np.isnan(data_meas.ld1), 'ld1'], label='Measured')\n",
    "ax[0].plot(data_sim.loc[~np.isnan(data_sim.ld1_iso), 'timestamp'], \n",
    "           data_sim.loc[~np.isnan(data_sim.ld1_iso), 'ld1_iso'], \n",
    "           label='Simulated')\n",
    "ax[0].axhline(settings.threshold[0][0][0], color='r')\n",
    "ax[0].axhline(settings.threshold[0][0][1], color='r')\n",
    "ax[0].legend(bbox_to_anchor=(1.02, 0.6))\n",
    "\n",
    "ax[1].plot(data_meas.loc[~np.isnan(data_meas.ld2), 'timestamp'], \n",
    "           data_meas.loc[~np.isnan(data_meas.ld2), 'ld2'], label='Measured')\n",
    "ax[1].plot(data_sim.loc[~np.isnan(data_sim.ld2_iso), 'timestamp'], \n",
    "           data_sim.loc[~np.isnan(data_sim.ld2_iso), 'ld2_iso'], \n",
    "           label='Simulated')\n",
    "ax[1].axhline(settings.threshold[0][1][0], color='r')\n",
    "ax[1].axhline(settings.threshold[0][1][1], color='r')\n",
    "\n",
    "ax[2].plot(data_meas.loc[~np.isnan(data_meas.state), 'timestamp'], \n",
    "           data_meas.loc[~np.isnan(data_meas.state), 'state'], label='Measured')\n",
    "# ax[2].plot(data_sim.loc[~np.isnan(data_sim.state_iso), 'timestamp'], \n",
    "#            data_sim.loc[~np.isnan(data_sim.state_iso), 'state_iso'], \n",
    "#            label='Simulated')\n",
    "ax[2].plot(t_state, state, \n",
    "           label='Simulated')\n",
    "ax[2].set_yticks(np.arange(9))\n",
    "ax[2].set_yticklabels(['0'] + ['']*7 + ['8'])\n",
    "\n",
    "ax[3].plot(data_meas.loc[~np.isnan(data_meas.stim), 'timestamp'], \n",
    "           data_meas.loc[~np.isnan(data_meas.stim), 'stim'], label='Measured')\n",
    "# ax[3].plot(data_sim.loc[~np.isnan(data_sim.stim_iso), 'timestamp'], \n",
    "#            data_sim.loc[~np.isnan(data_sim.stim_iso), 'stim_iso'], \n",
    "#            label='Simulated')\n",
    "ax[3].plot(t_stim, stim, \n",
    "           label='Simulated')\n",
    "\n",
    "for i in range(4):\n",
    "    ax[i].grid()\n",
    "ax[3].set_xlabel('Time [sec]')\n",
    "ax[0].set_ylabel('LD1 Output \\n [a.u]')\n",
    "ax[1].set_ylabel('LD2 Output \\n [a.u.]')\n",
    "ax[2].set_ylabel('LD State')\n",
    "ax[3].set_ylabel('Stimulation \\n amplitude [mA]')\n",
    "\n",
    "plt.tight_layout()"
   ]
  },
  {
   "cell_type": "code",
   "execution_count": null,
   "id": "18048d37-6519-4f8b-873f-abb995ac7dcb",
   "metadata": {
    "jupyter": {
     "source_hidden": true
    }
   },
   "outputs": [],
   "source": []
  },
  {
   "cell_type": "code",
   "execution_count": null,
   "id": "e2717443-65d4-4969-b606-92d5e1ad93b9",
   "metadata": {},
   "outputs": [],
   "source": []
  }
 ],
 "metadata": {
  "kernelspec": {
   "display_name": "Python 3 (ipykernel)",
   "language": "python",
   "name": "python3"
  },
  "language_info": {
   "codemirror_mode": {
    "name": "ipython",
    "version": 3
   },
   "file_extension": ".py",
   "mimetype": "text/x-python",
   "name": "python",
   "nbconvert_exporter": "python",
   "pygments_lexer": "ipython3",
   "version": "3.9.12"
  }
 },
 "nbformat": 4,
 "nbformat_minor": 5
}
