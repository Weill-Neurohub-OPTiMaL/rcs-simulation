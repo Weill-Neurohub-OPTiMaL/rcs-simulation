{
 "cells": [
  {
   "cell_type": "markdown",
   "id": "b24bc3be-30ee-430e-9c5c-5a0cdfa0b056",
   "metadata": {},
   "source": [
    "# PB testing"
   ]
  },
  {
   "cell_type": "code",
   "execution_count": null,
   "id": "d8dccc69-77ef-4a3e-91b9-3319e52b8021",
   "metadata": {
    "jupyter": {
     "source_hidden": true
    }
   },
   "outputs": [],
   "source": [
    "import pandas as pd\n",
    "import numpy as np\n",
    "\n",
    "#Packages for GUIs (widgets) in python\n",
    "from tkinter import Tk, filedialog\n",
    "from ipywidgets import *\n",
    "from IPython.display import clear_output, display\n",
    "\n",
    "import os\n",
    "\n",
    "import matplotlib.pyplot as plt\n",
    "from matplotlib.gridspec import GridSpec\n",
    "import seaborn as sns"
   ]
  },
  {
   "cell_type": "code",
   "execution_count": null,
   "id": "edf31745-77c5-440a-abdb-a9d2bb6014f2",
   "metadata": {
    "jupyter": {
     "source_hidden": true
    }
   },
   "outputs": [],
   "source": [
    "from ast import literal_eval\n",
    "import time"
   ]
  },
  {
   "cell_type": "code",
   "execution_count": null,
   "id": "3ec2d0f6-79c8-4c28-9313-d22beb7ffb29",
   "metadata": {
    "jupyter": {
     "source_hidden": true
    }
   },
   "outputs": [],
   "source": [
    "import warnings\n",
    "warnings.filterwarnings(\"ignore\")"
   ]
  },
  {
   "cell_type": "code",
   "execution_count": null,
   "id": "23e4dd66-3444-42aa-9bfc-c5b952be2e0b",
   "metadata": {
    "tags": []
   },
   "outputs": [],
   "source": [
    "os.chdir('D:/git/weill-neurohub/rcs-simulation')\n",
    "from rcssim import rcs_sim as rcs"
   ]
  },
  {
   "cell_type": "markdown",
   "id": "7bb5fc94-9a83-4482-98f2-6e0f7e985b2f",
   "metadata": {
    "tags": []
   },
   "source": [
    "# Load data"
   ]
  },
  {
   "cell_type": "code",
   "execution_count": null,
   "id": "17620fd4-7ce0-459b-b5ae-679fa9fbfd03",
   "metadata": {
    "jupyter": {
     "source_hidden": true
    },
    "tags": []
   },
   "outputs": [],
   "source": [
    "root = Tk()\n",
    "root.withdraw()\n",
    "root.call('wm', 'attributes', '.', '-topmost', True)\n",
    "\n",
    "print('Select folder containing data and settings files.')\n",
    "data_folder = filedialog.askdirectory()\n",
    "\n",
    "root.destroy()"
   ]
  },
  {
   "cell_type": "markdown",
   "id": "194d1492-85af-482a-bfb3-256dd4ebdff7",
   "metadata": {
    "tags": []
   },
   "source": [
    "# PB1"
   ]
  },
  {
   "cell_type": "markdown",
   "id": "6b4d4170-bc91-4282-99f3-6018f6ad6742",
   "metadata": {
    "tags": []
   },
   "source": [
    "### Load measured datasets and settings"
   ]
  },
  {
   "cell_type": "code",
   "execution_count": null,
   "id": "22c293af-775c-4c27-b9f2-bc5900ac7e46",
   "metadata": {
    "tags": []
   },
   "outputs": [],
   "source": [
    "# left_neural_data = pd.read_csv(left_file_name)\n",
    "data_meas = pd.read_csv(data_folder + '/dataset_pb1.csv')\n",
    "settings = pd.read_csv(data_folder + '/dataset_pb1_config.csv')\n",
    "settings['band_edges_hz'] = settings['band_edges_hz'].apply(literal_eval)\n",
    "amp_gains = np.genfromtxt(data_folder + '/amp_gains.csv', \n",
    "                          delimiter=',').astype(int)"
   ]
  },
  {
   "cell_type": "code",
   "execution_count": null,
   "id": "e6fe63f3-6081-4dd5-adff-a8e2d745268e",
   "metadata": {
    "jupyter": {
     "source_hidden": true
    },
    "tags": []
   },
   "outputs": [],
   "source": [
    "print('Settings')\n",
    "settings"
   ]
  },
  {
   "cell_type": "markdown",
   "id": "32fbdd9c-977b-4f0e-82d1-ef7c48ab7795",
   "metadata": {
    "tags": []
   },
   "source": [
    "### TD --> PB"
   ]
  },
  {
   "cell_type": "code",
   "execution_count": null,
   "id": "6f257101-df32-4308-b4ad-b6c54298d204",
   "metadata": {
    "tags": []
   },
   "outputs": [],
   "source": [
    "data_sim = data_meas[['timestamp', 'td1']].copy()\n",
    "data_sim['pb1'] = np.nan*np.ones(np.shape(data_sim['td1']))\n",
    "\n",
    "t_start = time.time()\n",
    "hann_win = rcs.create_hann_window(settings.loc[0,'fft_size'], percent=100)\n",
    "\n",
    "# Compute power band for the first time-domain channel\n",
    "data_td = rcs.transform_mv_to_rcs(data_sim['td1'].values, amp_gains[0])\n",
    "data_fft, t_pb = rcs.td_to_fft(data_td, data_sim['timestamp'].values, \n",
    "                               fs_td=settings.fs_td[0], \n",
    "                               L=settings.fft_size[0], \n",
    "                               interval=settings.interval[0], \n",
    "                               hann_win=hann_win, output_in_mv=False)\n",
    "data_pb = rcs.fft_to_pb(data_fft, fs_td=500, L=256, \n",
    "                        bit_shift=settings.bit_shift[0], \n",
    "                        band_edges_hz=settings.band_edges_hz[0], \n",
    "                        input_is_mv=False)\n",
    "pb_sample_mask = np.isin(data_sim.timestamp, t_pb)\n",
    "data_sim.loc[pb_sample_mask,'pb1'] = data_pb\n",
    "\n",
    "t_end = time.time()\n",
    "print('Time elapsed: ' + str(t_end-t_start))"
   ]
  },
  {
   "cell_type": "code",
   "execution_count": null,
   "id": "a41d3821-21e0-4f24-804a-008d1f359f8a",
   "metadata": {
    "tags": []
   },
   "outputs": [],
   "source": [
    "# %matplotlib widget\n",
    "fig, ax = plt.subplots(1,1, figsize=(6,3), sharex='col', sharey=False)\n",
    "\n",
    "ax.plot(data_meas.loc[~np.isnan(data_meas.pb1), 'timestamp'], \n",
    "           data_meas.loc[~np.isnan(data_meas.pb1), 'pb1'], label='Measured')\n",
    "ax.plot(data_sim.loc[~np.isnan(data_sim.pb1), 'timestamp'], \n",
    "           data_sim.loc[~np.isnan(data_sim.pb1), 'pb1'], label='Simulated')\n",
    "ax.legend()\n",
    "\n",
    "ax.grid()\n",
    "ax.set_xlabel('Time [sec]')\n",
    "ax.set_ylabel('PB1 Output \\n [RCS units]')\n",
    "\n",
    "plt.tight_layout()"
   ]
  },
  {
   "cell_type": "markdown",
   "id": "0fe1e301-bb1a-4736-8938-f45a3d4bfb5b",
   "metadata": {
    "tags": []
   },
   "source": [
    "# PB2"
   ]
  },
  {
   "cell_type": "markdown",
   "id": "9fd635a8-5127-4cc5-a5bb-db8b8ac37664",
   "metadata": {
    "tags": []
   },
   "source": [
    "### Load measured datasets and settings"
   ]
  },
  {
   "cell_type": "code",
   "execution_count": null,
   "id": "15438ede-4491-499a-a169-beb85c9907c4",
   "metadata": {
    "jupyter": {
     "source_hidden": true
    },
    "tags": []
   },
   "outputs": [],
   "source": [
    "# left_neural_data = pd.read_csv(left_file_name)\n",
    "data_meas = pd.read_csv(data_folder + '/dataset_pb2.csv')\n",
    "settings = pd.read_csv(data_folder + '/dataset_pb2_config.csv')\n",
    "settings['band_edges_hz'] = settings['band_edges_hz'].apply(literal_eval)\n",
    "amp_gains = np.genfromtxt(data_folder + '/amp_gains.csv', \n",
    "                          delimiter=',').astype(int)"
   ]
  },
  {
   "cell_type": "code",
   "execution_count": null,
   "id": "61fefc67-13bc-4609-8824-610d0a46e618",
   "metadata": {
    "jupyter": {
     "source_hidden": true
    },
    "tags": []
   },
   "outputs": [],
   "source": [
    "print('Settings')\n",
    "settings"
   ]
  },
  {
   "cell_type": "markdown",
   "id": "e241f255-014a-499b-8823-e07b81ed5c3e",
   "metadata": {
    "tags": []
   },
   "source": [
    "### TD --> PB"
   ]
  },
  {
   "cell_type": "code",
   "execution_count": null,
   "id": "466ad2df-e988-4fb6-8f33-ef31cc642d56",
   "metadata": {
    "jupyter": {
     "source_hidden": true
    },
    "tags": []
   },
   "outputs": [],
   "source": [
    "data_sim = data_meas[['timestamp', 'td1', 'td2']].copy()\n",
    "\n",
    "t_start = time.time()\n",
    "hann_win = rcs.create_hann_window(settings.fft_size[0], percent=100)\n",
    "\n",
    "# Transform the units for each time-domain channel\n",
    "data_td1 = rcs.transform_mv_to_rcs(data_sim['td1'].values, amp_gains[0])\n",
    "data_td2 = rcs.transform_mv_to_rcs(data_sim['td2'].values, amp_gains[1])\n",
    "\n",
    "# Compute all power bands for their respective time-domain channels\n",
    "for i, pb in enumerate(settings.loc[0, 'band_edges_hz']):\n",
    "    pb_lbl = data_meas.keys()[i+3]\n",
    "    data_sim[pb_lbl] = np.nan*np.ones(np.shape(data_sim['td1']))\n",
    "    start_ts = np.min(data_meas.loc[~np.isnan(data_meas[pb_lbl]), 'timestamp'])\n",
    "    end_ts = np.max(data_meas.loc[~np.isnan(data_meas[pb_lbl]), 'timestamp'])\n",
    "    \n",
    "    if pb[0]==1:        \n",
    "        data_fft, t_pb = rcs.td_to_fft(data_td1, \n",
    "                                       data_sim['timestamp'].values, \n",
    "                                       fs_td=settings.fs_td[0], \n",
    "                                       L=settings.fft_size[0], \n",
    "                                       interval=settings.interval[0], \n",
    "                                       hann_win=hann_win)\n",
    "    elif pb[0]==2:\n",
    "        data_fft, t_pb = rcs.td_to_fft(data_td2, \n",
    "                                       data_sim['timestamp'].values, \n",
    "                                       fs_td=settings.fs_td[0], \n",
    "                                       L=settings.fft_size[0], \n",
    "                                       interval=settings.interval[0], \n",
    "                                       hann_win=hann_win)\n",
    "        \n",
    "    data_pb = rcs.fft_to_pb(data_fft, settings.fs_td[0], \n",
    "                            L = settings.fft_size[0], \n",
    "                            bit_shift=settings.bit_shift[0], \n",
    "                            band_edges_hz=[pb[1]], \n",
    "                            input_is_mv=False)\n",
    "    data_pb[(t_pb < start_ts+5) | (t_pb > end_ts)] = np.nan\n",
    "    pb_sample_mask = np.isin(data_sim.timestamp, t_pb)\n",
    "    data_sim.loc[pb_sample_mask, pb_lbl] = data_pb\n",
    "\n",
    "\n",
    "t_end = time.time()\n",
    "print('Time elapsed: ' + str(t_end-t_start))"
   ]
  },
  {
   "cell_type": "code",
   "execution_count": null,
   "id": "57a7b66b-3f89-4887-ad87-cb71b80589a3",
   "metadata": {
    "jupyter": {
     "source_hidden": true
    },
    "tags": []
   },
   "outputs": [],
   "source": [
    "# %matplotlib widget\n",
    "\n",
    "fig, ax = plt.subplots(19,1, figsize=(6,38))\n",
    "cols = data_meas.keys()[-19:]\n",
    "\n",
    "for i in np.arange(19):\n",
    "    ax[i].plot(data_meas.loc[~np.isnan(data_meas[cols[i]]), 'timestamp'], \n",
    "               data_meas.loc[~np.isnan(data_meas[cols[i]]), cols[i]], label='Measured')\n",
    "    ax[i].plot(data_sim.loc[~np.isnan(data_sim[cols[i]]), 'timestamp'], \n",
    "               data_sim.loc[~np.isnan(data_sim[cols[i]]), cols[i]], label='Simulated')\n",
    "    ax[i].legend()\n",
    "\n",
    "    ax[i].grid()\n",
    "    ax[i].set_ylim([0, 1.2*np.max(data_sim.loc[~np.isnan(data_sim[cols[i]]), \n",
    "                                               cols[i]])])\n",
    "    ax[i].set_title(f'{cols[i][2:]}Hz Input')\n",
    "    ax[i].set_ylabel('PB output  \\n [RCS units]')\n",
    "    \n",
    "ax[18].set_xlabel('Time [sec]')\n",
    "\n",
    "plt.tight_layout()"
   ]
  },
  {
   "cell_type": "markdown",
   "id": "82d2bb3a-d4dc-4967-a318-691b7c41c78e",
   "metadata": {
    "tags": []
   },
   "source": [
    "# PB3a"
   ]
  },
  {
   "cell_type": "markdown",
   "id": "850c278f-7e3e-474b-8474-9ce5c74fc219",
   "metadata": {
    "tags": []
   },
   "source": [
    "### Load measured datasets and settings"
   ]
  },
  {
   "cell_type": "code",
   "execution_count": null,
   "id": "2c9d58c9-2ff2-4ad2-98bf-b962475ce920",
   "metadata": {
    "jupyter": {
     "source_hidden": true
    }
   },
   "outputs": [],
   "source": [
    "# left_neural_data = pd.read_csv(left_file_name)\n",
    "data_meas = pd.read_csv(data_folder + '/dataset_pb3a.csv')\n",
    "settings = pd.read_csv(data_folder + '/dataset_pb3a_config.csv')\n",
    "settings['band_edges_hz'] = settings['band_edges_hz'].apply(literal_eval)\n",
    "amp_gains = np.genfromtxt(data_folder + '/amp_gains.csv', \n",
    "                          delimiter=',').astype(int)"
   ]
  },
  {
   "cell_type": "code",
   "execution_count": null,
   "id": "7f12ea6f-2e32-42f7-9f10-9b948b8824cd",
   "metadata": {
    "jupyter": {
     "source_hidden": true
    },
    "tags": []
   },
   "outputs": [],
   "source": [
    "print('Settings')\n",
    "settings"
   ]
  },
  {
   "cell_type": "markdown",
   "id": "0a70162d-bb38-4113-b254-26fb2337576b",
   "metadata": {
    "tags": []
   },
   "source": [
    "### TD --> PB"
   ]
  },
  {
   "cell_type": "code",
   "execution_count": null,
   "id": "713bb3c7-8c57-4837-8da4-88518401066d",
   "metadata": {
    "jupyter": {
     "source_hidden": true
    },
    "tags": []
   },
   "outputs": [],
   "source": [
    "data_sim = data_meas[['timestamp', 'td1']].copy()\n",
    "data_sim['pb1'] = np.nan*np.ones(np.shape(data_sim['td1']))\n",
    "\n",
    "t_start = time.time()\n",
    "hann_win = rcs.create_hann_window(settings.fft_size[0], percent=100)\n",
    "\n",
    "# Compute power band for the first time-domain channel\n",
    "data_td = rcs.transform_mv_to_rcs(data_sim['td1'].values, amp_gains[0])\n",
    "time_td = data_sim['timestamp'].values[~np.isnan(data_td)]\n",
    "data_td = data_td[~np.isnan(data_td)]\n",
    "data_fft, t_pb = rcs.td_to_fft(data_td, time_td, \n",
    "                               fs_td=settings.fs_td[0], \n",
    "                               L=settings.fft_size[0], \n",
    "                               interval=settings.interval[0], \n",
    "                               hann_win=hann_win)\n",
    "data_pb = rcs.fft_to_pb(data_fft, \n",
    "                        fs_td=settings.fs_td[0], \n",
    "                        L=settings.fft_size[0], \n",
    "                        bit_shift=settings.bit_shift[0], \n",
    "                        band_edges_hz=[settings.band_edges_hz[0]])\n",
    "pb_sample_mask = np.isin(data_sim.timestamp, t_pb)\n",
    "data_sim.loc[pb_sample_mask,'pb1'] = data_pb\n",
    "\n",
    "t_end = time.time()\n",
    "print('Time elapsed: ' + str(t_end-t_start))"
   ]
  },
  {
   "cell_type": "code",
   "execution_count": null,
   "id": "8a42005a-efdd-4dfc-bf11-6d6d02bbd5ae",
   "metadata": {
    "jupyter": {
     "source_hidden": true
    },
    "tags": []
   },
   "outputs": [],
   "source": [
    "# %matplotlib widget\n",
    "fig, ax = plt.subplots(1,1, figsize=(6,3), sharex='col', sharey=False)\n",
    "\n",
    "ax.plot(data_meas.loc[~np.isnan(data_meas.pb1), 'timestamp'], \n",
    "           data_meas.loc[~np.isnan(data_meas.pb1), 'pb1'], label='Measured')\n",
    "ax.plot(data_sim.loc[~np.isnan(data_sim.pb1), 'timestamp'], \n",
    "           data_sim.loc[~np.isnan(data_sim.pb1), 'pb1'], label='Simulated')\n",
    "ax.legend(bbox_to_anchor=(1.02, 0.6))\\\n",
    "\n",
    "ax.grid()\n",
    "ax.set_xlabel('Time [sec]')\n",
    "ax.set_ylabel('PB1 Output \\n [RCS units]')\n",
    "ax.set_title('$f_{s,TD}=250Hz, L=64pt$')\n",
    "\n",
    "plt.tight_layout()"
   ]
  },
  {
   "cell_type": "markdown",
   "id": "b22bd807-e16c-422d-992d-cf5a4a20a938",
   "metadata": {
    "tags": []
   },
   "source": [
    "# PB3b"
   ]
  },
  {
   "cell_type": "markdown",
   "id": "8fa8fc7f-c6d7-461e-9e25-fda1a9987947",
   "metadata": {
    "tags": []
   },
   "source": [
    "### Load measured datasets and settings"
   ]
  },
  {
   "cell_type": "code",
   "execution_count": null,
   "id": "b29e39f4-b18e-4451-88ee-252e059b5476",
   "metadata": {
    "jupyter": {
     "source_hidden": true
    }
   },
   "outputs": [],
   "source": [
    "# left_neural_data = pd.read_csv(left_file_name)\n",
    "data_meas = pd.read_csv(data_folder + '/dataset_pb3b.csv')\n",
    "settings = pd.read_csv(data_folder + '/dataset_pb3b_config.csv')\n",
    "settings['band_edges_hz'] = settings['band_edges_hz'].apply(literal_eval)\n",
    "amp_gains = np.genfromtxt(data_folder + '/amp_gains.csv', \n",
    "                          delimiter=',').astype(int)"
   ]
  },
  {
   "cell_type": "code",
   "execution_count": null,
   "id": "99635874-794e-4694-8aeb-eca7c268ac5f",
   "metadata": {
    "jupyter": {
     "source_hidden": true
    },
    "tags": []
   },
   "outputs": [],
   "source": [
    "print('Settings')\n",
    "settings"
   ]
  },
  {
   "cell_type": "markdown",
   "id": "16eff927-f276-4a4e-8e01-9f0c3b1834f5",
   "metadata": {
    "tags": []
   },
   "source": [
    "### TD --> PB"
   ]
  },
  {
   "cell_type": "code",
   "execution_count": null,
   "id": "436bfd3d-1a29-4c73-acde-d38b27e43f45",
   "metadata": {
    "jupyter": {
     "source_hidden": true
    },
    "tags": []
   },
   "outputs": [],
   "source": [
    "data_sim = data_meas[['timestamp', 'td1']].copy()\n",
    "data_sim['pb1'] = np.nan*np.ones(np.shape(data_sim['td1']))\n",
    "\n",
    "t_start = time.time()\n",
    "hann_win = rcs.create_hann_window(settings.fft_size[0], percent=100)\n",
    "\n",
    "# Compute power band for the first time-domain channel\n",
    "data_td = rcs.transform_mv_to_rcs(data_sim['td1'].values, amp_gains[0])\n",
    "time_td = data_sim['timestamp'].values[~np.isnan(data_td)]\n",
    "data_td = data_td[~np.isnan(data_td)]\n",
    "data_fft, t_pb = rcs.td_to_fft(data_td, time_td, \n",
    "                               fs_td=settings.fs_td[0], \n",
    "                               L=settings.fft_size[0], \n",
    "                               interval=settings.interval[0], \n",
    "                               hann_win=hann_win)\n",
    "data_pb = rcs.fft_to_pb(data_fft, \n",
    "                        fs_td=settings.fs_td[0], \n",
    "                        L=settings.fft_size[0], \n",
    "                        bit_shift=settings.bit_shift[0], \n",
    "                        band_edges_hz=[settings.band_edges_hz[0]])\n",
    "pb_sample_mask = np.isin(data_sim.timestamp, t_pb)\n",
    "data_sim.loc[pb_sample_mask,'pb1'] = data_pb\n",
    "\n",
    "t_end = time.time()\n",
    "print('Time elapsed: ' + str(t_end-t_start))"
   ]
  },
  {
   "cell_type": "code",
   "execution_count": null,
   "id": "bd1e2729-cc9c-4b53-8b91-a12140718d31",
   "metadata": {
    "jupyter": {
     "source_hidden": true
    },
    "tags": []
   },
   "outputs": [],
   "source": [
    "# %matplotlib widget\n",
    "fig, ax = plt.subplots(1,1, figsize=(6,3), sharex='col', sharey=False)\n",
    "\n",
    "ax.plot(data_meas.loc[~np.isnan(data_meas.pb1), 'timestamp'], \n",
    "           data_meas.loc[~np.isnan(data_meas.pb1), 'pb1'], label='Measured')\n",
    "ax.plot(data_sim.loc[~np.isnan(data_sim.pb1), 'timestamp'], \n",
    "           data_sim.loc[~np.isnan(data_sim.pb1), 'pb1'], label='Simulated')\n",
    "ax.legend(bbox_to_anchor=(1.02, 0.6))\\\n",
    "\n",
    "ax.grid()\n",
    "ax.set_xlabel('Time [sec]')\n",
    "ax.set_ylabel('PB1 Output \\n [RCS units]')\n",
    "ax.set_title('$f_{s,TD}=250Hz, L=256pt$')\n",
    "\n",
    "plt.tight_layout()"
   ]
  },
  {
   "cell_type": "markdown",
   "id": "1b619171-e7db-48db-943c-1d178c6f12ab",
   "metadata": {
    "tags": []
   },
   "source": [
    "# PB3c"
   ]
  },
  {
   "cell_type": "markdown",
   "id": "240c15f2-aa6c-40c7-bd81-f0bd4a966c39",
   "metadata": {
    "tags": []
   },
   "source": [
    "### Load measured datasets and settings"
   ]
  },
  {
   "cell_type": "code",
   "execution_count": null,
   "id": "e59543f3-c79c-4c2b-b3e6-32570209b9a2",
   "metadata": {
    "jupyter": {
     "source_hidden": true
    }
   },
   "outputs": [],
   "source": [
    "# left_neural_data = pd.read_csv(left_file_name)\n",
    "data_meas = pd.read_csv(data_folder + '/dataset_pb3c.csv')\n",
    "settings = pd.read_csv(data_folder + '/dataset_pb3c_config.csv')\n",
    "settings['band_edges_hz'] = settings['band_edges_hz'].apply(literal_eval)\n",
    "amp_gains = np.genfromtxt(data_folder + '/amp_gains.csv', \n",
    "                          delimiter=',').astype(int)"
   ]
  },
  {
   "cell_type": "code",
   "execution_count": null,
   "id": "09b6d1c2-83fb-4aeb-b4b8-b8b115f47e19",
   "metadata": {
    "jupyter": {
     "source_hidden": true
    },
    "tags": []
   },
   "outputs": [],
   "source": [
    "print('Settings')\n",
    "settings"
   ]
  },
  {
   "cell_type": "markdown",
   "id": "597ecfe7-294e-4bd7-8e39-3aa89a94c2c8",
   "metadata": {
    "tags": []
   },
   "source": [
    "### TD --> PB"
   ]
  },
  {
   "cell_type": "code",
   "execution_count": null,
   "id": "6c1ffb63-3a12-43d6-8d5e-be9eb074f92c",
   "metadata": {
    "jupyter": {
     "source_hidden": true
    },
    "tags": []
   },
   "outputs": [],
   "source": [
    "data_sim = data_meas[['timestamp', 'td1']].copy()\n",
    "data_sim['pb1'] = np.nan*np.ones(np.shape(data_sim['td1']))\n",
    "\n",
    "t_start = time.time()\n",
    "hann_win = rcs.create_hann_window(settings.fft_size[0], percent=100)\n",
    "\n",
    "# Compute power band for the first time-domain channel\n",
    "data_td = rcs.transform_mv_to_rcs(data_sim['td1'].values, amp_gains[0])\n",
    "time_td = data_sim['timestamp'].values[~np.isnan(data_td)]\n",
    "data_td = data_td[~np.isnan(data_td)]\n",
    "data_fft, t_pb = rcs.td_to_fft(data_td, time_td, \n",
    "                               fs_td=settings.fs_td[0], \n",
    "                               L=settings.fft_size[0], \n",
    "                               interval=settings.interval[0], \n",
    "                               hann_win=hann_win)\n",
    "data_pb = rcs.fft_to_pb(data_fft, \n",
    "                        fs_td=settings.fs_td[0], \n",
    "                        L=settings.fft_size[0], \n",
    "                        bit_shift=settings.bit_shift[0], \n",
    "                        band_edges_hz=[settings.band_edges_hz[0]])\n",
    "pb_sample_mask = np.isin(data_sim.timestamp, t_pb)\n",
    "data_sim.loc[pb_sample_mask,'pb1'] = data_pb\n",
    "\n",
    "t_end = time.time()\n",
    "print('Time elapsed: ' + str(t_end-t_start))"
   ]
  },
  {
   "cell_type": "code",
   "execution_count": null,
   "id": "6eb59803-592a-4e9e-aa5f-45450cf99a9f",
   "metadata": {
    "jupyter": {
     "source_hidden": true
    },
    "tags": []
   },
   "outputs": [],
   "source": [
    "# %matplotlib widget\n",
    "fig, ax = plt.subplots(1,1, figsize=(6,3), sharex='col', sharey=False)\n",
    "\n",
    "ax.plot(data_meas.loc[~np.isnan(data_meas.pb1), 'timestamp'], \n",
    "           data_meas.loc[~np.isnan(data_meas.pb1), 'pb1'], label='Measured')\n",
    "ax.plot(data_sim.loc[~np.isnan(data_sim.pb1), 'timestamp'], \n",
    "           data_sim.loc[~np.isnan(data_sim.pb1), 'pb1'], label='Simulated')\n",
    "ax.legend(bbox_to_anchor=(1.02, 0.6))\\\n",
    "\n",
    "ax.grid()\n",
    "ax.set_xlabel('Time [sec]')\n",
    "ax.set_ylabel('PB1 Output \\n [RCS units]')\n",
    "ax.set_title('$f_{s,TD}=250Hz, L=1024pt$')\n",
    "\n",
    "plt.tight_layout()"
   ]
  },
  {
   "cell_type": "markdown",
   "id": "e64adfce-19f9-41d5-a83b-b78cfd587dea",
   "metadata": {
    "tags": []
   },
   "source": [
    "# PB4"
   ]
  },
  {
   "cell_type": "markdown",
   "id": "61dfec33-0c5e-4f4e-b9d3-ad6036e58f9c",
   "metadata": {
    "tags": []
   },
   "source": [
    "### Load measured datasets and settings"
   ]
  },
  {
   "cell_type": "code",
   "execution_count": null,
   "id": "6348b2ea-af75-46c4-a11d-8e13f82b3dd8",
   "metadata": {
    "jupyter": {
     "source_hidden": true
    }
   },
   "outputs": [],
   "source": [
    "# left_neural_data = pd.read_csv(left_file_name)\n",
    "data_meas = pd.read_csv(data_folder + '/dataset_pb4.csv')\n",
    "settings = pd.read_csv(data_folder + '/dataset_pb4_config.csv')\n",
    "settings['bit_shift'] = settings['bit_shift'].apply(literal_eval)\n",
    "settings['band_edges_hz'] = settings['band_edges_hz'].apply(literal_eval)\n",
    "amp_gains = np.genfromtxt(data_folder + '/amp_gains.csv', \n",
    "                          delimiter=',').astype(int)"
   ]
  },
  {
   "cell_type": "code",
   "execution_count": null,
   "id": "40090cf9-00a7-4444-887c-93f2852f5441",
   "metadata": {
    "jupyter": {
     "source_hidden": true
    },
    "tags": []
   },
   "outputs": [],
   "source": [
    "print('Settings')\n",
    "settings"
   ]
  },
  {
   "cell_type": "markdown",
   "id": "0b50fae6-fdd4-4f6b-b8b4-1876b1c8f617",
   "metadata": {
    "tags": []
   },
   "source": [
    "### TD --> PB"
   ]
  },
  {
   "cell_type": "code",
   "execution_count": null,
   "id": "fd18d602-0935-41a9-8a47-5f5fd59b9e23",
   "metadata": {
    "jupyter": {
     "source_hidden": true
    },
    "tags": []
   },
   "outputs": [],
   "source": [
    "data_sim = data_meas[['timestamp', 'td1']].copy()\n",
    "data_sim['pb1'] = np.nan*np.ones(np.shape(data_sim['td1']))\n",
    "\n",
    "t_start = time.time()\n",
    "hann_win = rcs.create_hann_window(settings.fft_size[0], percent=100)\n",
    "\n",
    "# Compute power band for the first time-domain channel\n",
    "data_td = rcs.transform_mv_to_rcs(data_sim['td1'].values, amp_gains[0])\n",
    "data_fft, t_pb = rcs.td_to_fft(data_td, data_sim['timestamp'].values, \n",
    "                               fs_td=settings.fs_td[0], \n",
    "                               L=settings.fft_size[0], \n",
    "                               interval=settings.interval[0], \n",
    "                               hann_win=hann_win)\n",
    "for i, bit_shift in enumerate(settings.loc[0, 'bit_shift']):\n",
    "    pb_lbl = data_meas.keys()[i+2]\n",
    "    data_sim[pb_lbl] = np.nan*np.ones(np.shape(data_sim['td1']))\n",
    "    start_ts = np.min(data_meas.loc[~np.isnan(data_meas[pb_lbl]), 'timestamp'])\n",
    "    end_ts = np.max(data_meas.loc[~np.isnan(data_meas[pb_lbl]), 'timestamp'])\n",
    "    \n",
    "    data_pb = rcs.fft_to_pb(data_fft, \n",
    "                            fs_td=settings.fs_td[0], \n",
    "                            L=settings.fft_size[0], \n",
    "                            bit_shift=bit_shift, \n",
    "                            band_edges_hz=[settings.band_edges_hz[0]])\n",
    "    data_pb[(t_pb < start_ts+2) | (t_pb > end_ts)] = np.nan\n",
    "    pb_sample_mask = np.isin(data_sim.timestamp, t_pb)\n",
    "    data_sim.loc[pb_sample_mask, pb_lbl] = data_pb\n",
    "\n",
    "t_end = time.time()\n",
    "print('Time elapsed: ' + str(t_end-t_start))"
   ]
  },
  {
   "cell_type": "code",
   "execution_count": null,
   "id": "75f6d1f6-3155-4fb6-b65b-d44b74610b49",
   "metadata": {
    "jupyter": {
     "source_hidden": true
    },
    "tags": []
   },
   "outputs": [],
   "source": [
    "# %matplotlib widget\n",
    "fig, ax = plt.subplots(1,1, figsize=(8,3), sharex='col', sharey=False)\n",
    "\n",
    "ax.plot(data_meas.loc[~np.isnan(data_meas['pb1']), 'timestamp'], \n",
    "        data_meas.loc[~np.isnan(data_meas['pb1']), 'pb1'], \n",
    "        color='black', label=r'$\\bf{Measured}$')\n",
    "ax.plot([0],[0], color='white', label=' ')\n",
    "ax.plot([0],[0], color='white', label=r'$\\bf{Simulated}$')\n",
    "for i in range(8):\n",
    "    pb_lbl = data_meas.keys()[i+2]\n",
    "    ax.plot(data_meas.loc[~np.isnan(data_meas[pb_lbl]), 'timestamp'], \n",
    "            data_meas.loc[~np.isnan(data_meas[pb_lbl]), pb_lbl], \n",
    "            color='black')\n",
    "    ax.plot(data_sim.loc[~np.isnan(data_sim[pb_lbl]), 'timestamp'], \n",
    "            data_sim.loc[~np.isnan(data_sim[pb_lbl]), pb_lbl], \n",
    "            label=f'Bit shift={i}')\n",
    "\n",
    "ax.legend(loc='center left', bbox_to_anchor=(1, 0.5))\n",
    "ax.grid()\n",
    "ax.set_xlabel('Time [sec]')\n",
    "ax.set_ylabel('PB1 Output \\n [RCS units]')\n",
    "ax.set_xlim([0,380])\n",
    "\n",
    "plt.tight_layout()"
   ]
  },
  {
   "cell_type": "code",
   "execution_count": null,
   "id": "6c44b81c-34c0-4845-922d-f0c152abf0dc",
   "metadata": {
    "jupyter": {
     "source_hidden": true
    },
    "tags": []
   },
   "outputs": [],
   "source": []
  }
 ],
 "metadata": {
  "kernelspec": {
   "display_name": "Python 3 (ipykernel)",
   "language": "python",
   "name": "python3"
  },
  "language_info": {
   "codemirror_mode": {
    "name": "ipython",
    "version": 3
   },
   "file_extension": ".py",
   "mimetype": "text/x-python",
   "name": "python",
   "nbconvert_exporter": "python",
   "pygments_lexer": "ipython3",
   "version": "3.9.12"
  }
 },
 "nbformat": 4,
 "nbformat_minor": 5
}
