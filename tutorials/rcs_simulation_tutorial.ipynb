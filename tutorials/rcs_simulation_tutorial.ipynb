{
 "cells": [
  {
   "cell_type": "markdown",
   "id": "7aa17e10-5506-49a4-84dc-3d21db84e68d",
   "metadata": {},
   "source": [
    "# RCS simulation tutorial"
   ]
  },
  {
   "cell_type": "code",
   "execution_count": null,
   "id": "c129c214-746b-4693-baed-a86e07d1b58e",
   "metadata": {
    "jupyter": {
     "source_hidden": true
    },
    "tags": []
   },
   "outputs": [],
   "source": [
    "import matplotlib.pyplot as plt\n",
    "import numpy as np\n",
    "import pandas as pd\n",
    "import time\n",
    "from ast import literal_eval\n",
    "from tkinter import Tk, filedialog\n",
    "\n",
    "from rcssim import rcs_sim as rcs"
   ]
  },
  {
   "cell_type": "markdown",
   "id": "704f4424-06a6-4cdb-9a98-f69a93093757",
   "metadata": {},
   "source": [
    "## Load data"
   ]
  },
  {
   "cell_type": "code",
   "execution_count": null,
   "id": "056200da-7931-4044-ae23-b41bf4e0de60",
   "metadata": {
    "jupyter": {
     "source_hidden": true
    },
    "tags": []
   },
   "outputs": [],
   "source": [
    "# Open file dialog for selecting neural data (.csv)\n",
    "root = Tk()\n",
    "root.withdraw()\n",
    "root.call('wm', 'attributes', '.', '-topmost', True)\n",
    "\n",
    "# print('Select left hemisphere .csv file.')\n",
    "# left_file_name = filedialog.askopenfilename(multiple=False)\n",
    "\n",
    "print('Select folder containing data and settings files.')\n",
    "data_folder = filedialog.askdirectory()\n",
    "\n",
    "root.destroy()\n",
    "# left_neural_data = pd.read_csv(left_file_name)\n",
    "data_meas = pd.read_csv(data_folder + '/dataset_ld9.csv')\n",
    "settings = pd.read_csv(data_folder + '/dataset_ld9_config.csv')\n",
    "amp_gains = np.genfromtxt(data_folder + '/amp_gains.csv', \n",
    "                          delimiter=',').astype(int)\n",
    "\n",
    "settings['band_edges_hz'] = settings['band_edges_hz'].apply(literal_eval)\n",
    "settings['subtract_vec'] = settings['subtract_vec'].apply(literal_eval)\n",
    "settings['multiply_vec'] = settings['multiply_vec'].apply(literal_eval)\n",
    "settings['update_rate'] = settings['update_rate'].apply(literal_eval)\n",
    "settings['weights'] = settings['weights'].apply(literal_eval)\n",
    "settings['dual_threshold'] = settings['dual_threshold'].apply(literal_eval)\n",
    "settings['threshold'] = settings['threshold'].apply(literal_eval)\n",
    "settings['blank_duration'] = settings['blank_duration'].apply(literal_eval)\n",
    "settings['onset'] = settings['onset'].apply(literal_eval)\n",
    "settings['termination'] = settings['termination'].apply(literal_eval)\n",
    "settings['blank_both'] = settings['blank_both'].apply(literal_eval)\n",
    "settings['target_amp'] = settings['target_amp'].apply(literal_eval)"
   ]
  },
  {
   "cell_type": "code",
   "execution_count": null,
   "id": "ca7552ff-b9a5-49ed-b9de-a0a2da09c178",
   "metadata": {
    "jupyter": {
     "source_hidden": true
    },
    "tags": []
   },
   "outputs": [],
   "source": [
    "print('Measured data')\n",
    "data_meas"
   ]
  },
  {
   "cell_type": "code",
   "execution_count": null,
   "id": "7b28aa36-e34e-46d4-abc8-aa146f38aabb",
   "metadata": {
    "jupyter": {
     "source_hidden": true
    },
    "tags": []
   },
   "outputs": [],
   "source": [
    "print('Settings')\n",
    "settings"
   ]
  },
  {
   "cell_type": "markdown",
   "id": "ffb18e31-f2f6-44be-aeab-2241de1c1571",
   "metadata": {},
   "source": [
    "## Isolated TD &rarr; PB"
   ]
  },
  {
   "cell_type": "code",
   "execution_count": null,
   "id": "bb161137-4367-462e-94c8-977bc3747e0e",
   "metadata": {
    "jupyter": {
     "source_hidden": true
    },
    "tags": []
   },
   "outputs": [],
   "source": [
    "data_sim = data_meas[['timestamp', 'td1', 'td2']].copy()\n",
    "data_sim['pb1'] = np.nan*np.ones(np.shape(data_sim['td1']))\n",
    "data_sim['pb2'] = np.nan*np.ones(np.shape(data_sim['td1']))\n",
    "\n",
    "t_start = time.time()\n",
    "hann_win = rcs.create_hann_window(settings.fft_size[0], percent=100)\n",
    "\n",
    "# Compute power band for the first time-domain channel\n",
    "data_td = rcs.transform_mv_to_rcs(data_sim['td1'].values, amp_gains[0])\n",
    "data_fft, t_pb = rcs.td_to_fft(data_td, \n",
    "                               data_sim['timestamp'].values, settings.fs_td[0], \n",
    "                               settings.fft_size[0], settings.interval[0], \n",
    "                               hann_win, output_in_mv=False)\n",
    "data_pb = rcs.fft_to_pb(data_fft, settings.fs_td[0], settings.fft_size[0], \n",
    "                        settings.bit_shift[0], \n",
    "                        band_edges_hz=settings.band_edges_hz[0][0][1], \n",
    "                        input_is_mv=False)\n",
    "pb_sample_mask = np.isin(data_sim.timestamp, t_pb)\n",
    "data_sim.loc[pb_sample_mask,'pb1'] = data_pb\n",
    "\n",
    "# Compute power band for the second time-domain channel\n",
    "data_td = rcs.transform_mv_to_rcs(data_sim['td2'].values, amp_gains[1])\n",
    "data_fft, t_pb = rcs.td_to_fft(data_td, \n",
    "                               data_sim['timestamp'].values, settings.fs_td[0], \n",
    "                               settings.fft_size[0], settings.interval[0], \n",
    "                               hann_win, output_in_mv=False)\n",
    "data_pb = rcs.fft_to_pb(data_fft, settings.fs_td[0], settings.fft_size[0], \n",
    "                        settings.bit_shift[0], \n",
    "                        band_edges_hz=settings.band_edges_hz[0][1][1], \n",
    "                        input_is_mv=False)\n",
    "pb_sample_mask = np.isin(data_sim.timestamp, t_pb)\n",
    "data_sim.loc[pb_sample_mask,'pb2'] = data_pb\n",
    "\n",
    "t_end = time.time()\n",
    "print('Time elapsed: ' + str(t_end-t_start))"
   ]
  },
  {
   "cell_type": "code",
   "execution_count": null,
   "id": "5ec8f094-ad77-4b88-92b7-7e86a42642a2",
   "metadata": {
    "jupyter": {
     "source_hidden": true
    },
    "tags": []
   },
   "outputs": [],
   "source": [
    "%matplotlib widget\n",
    "fig, ax = plt.subplots(2,1, figsize=(6,3), sharex='col', sharey=False)\n",
    "\n",
    "ax[0].plot(data_meas.loc[~np.isnan(data_meas.pb1), 'timestamp'], \n",
    "           data_meas.loc[~np.isnan(data_meas.pb1), 'pb1'], label='Measured')\n",
    "ax[0].plot(data_sim.loc[~np.isnan(data_sim.pb1), 'timestamp'], \n",
    "           data_sim.loc[~np.isnan(data_sim.pb1), 'pb1'], label='Simulated')\n",
    "ax[0].legend(bbox_to_anchor=(1.02, 0.6))\n",
    "\n",
    "ax[1].plot(data_meas.loc[~np.isnan(data_meas.pb1), 'timestamp'], \n",
    "           data_meas.loc[~np.isnan(data_meas.pb1), 'pb2'], label='Measured')\n",
    "ax[1].plot(data_sim.loc[~np.isnan(data_sim.pb1), 'timestamp'], \n",
    "           data_sim.loc[~np.isnan(data_sim.pb1), 'pb2'], label='Simulated')\n",
    "\n",
    "ax[0].grid()\n",
    "ax[1].grid()\n",
    "ax[1].set_xlabel('Time [sec]')\n",
    "ax[0].set_ylabel('PB1 Output \\n [RCS units]')\n",
    "ax[1].set_ylabel('PB2 Output \\n [RCS units]')\n",
    "\n",
    "plt.tight_layout()"
   ]
  },
  {
   "cell_type": "markdown",
   "id": "2b47631b-2466-43e2-a065-f4bf7f0b7f97",
   "metadata": {},
   "source": [
    "## Isolated PB &rarr; stim"
   ]
  },
  {
   "cell_type": "code",
   "execution_count": null,
   "id": "b9ea87c1-d33d-4a7c-a459-f5824b50053e",
   "metadata": {
    "jupyter": {
     "source_hidden": true
    },
    "tags": []
   },
   "outputs": [],
   "source": [
    "data_sim['ld1_iso'] = np.nan*np.ones(np.shape(data_sim['td1']))\n",
    "data_sim['ld2_iso'] = np.nan*np.ones(np.shape(data_sim['td1']))\n",
    "data_sim['state_iso'] = np.nan*np.ones(np.shape(data_sim['td1']))\n",
    "data_sim['stim_iso'] = np.nan*np.ones(np.shape(data_sim['td1']))\n",
    "\n",
    "t_start = time.time()\n",
    "\n",
    "# Compute continuous-valued LD output\n",
    "ld_output, t_ld, update_tbl = rcs.pb_to_ld(\n",
    "                        data_meas.loc[~np.isnan(data_meas['pb1']), \n",
    "                                      ['pb1', 'pb2']].values, \n",
    "                        data_meas.loc[~np.isnan(data_meas['pb1']), \n",
    "                                      'timestamp'].values, \n",
    "                        update_rate=settings.update_rate[0], \n",
    "                        weights=settings.weights[0],\n",
    "                        subtract_vec=settings.subtract_vec[0], \n",
    "                        multiply_vec=settings.multiply_vec[0])\n",
    "\n",
    "# Compute the state changes\n",
    "state, t_state, ld_output = rcs.ld_to_state(ld_output, update_tbl, \n",
    "                                   data_meas.loc[~np.isnan(data_meas['pb1']), \n",
    "                                                 'timestamp'].values, \n",
    "                                   update_rate=settings.update_rate[0], \n",
    "                                   dual_threshold=settings.dual_threshold[0], \n",
    "                                   threshold=settings.threshold[0], \n",
    "                                   onset_duration=settings.onset[0], \n",
    "                                   termination_duration=settings.termination[0], \n",
    "                                   blank_duration=settings.blank_duration[0], \n",
    "                                   blank_both=settings.blank_both[0])\n",
    "# t_state, idx = np.unique(t_state, return_index=True)\n",
    "# state = state[idx]\n",
    "\n",
    "# Compute the stim changes\n",
    "rise_time = rcs.transform_ramp_rate_int_to_mas(settings.rise_time[0])\n",
    "fall_time = rcs.transform_ramp_rate_int_to_mas(settings.fall_time[0])\n",
    "stim, t_stim = rcs.state_to_stim(data_meas.loc[~np.isnan(data_meas['state']), \n",
    "                                               'state'].values.astype(int), \n",
    "                                 data_meas.loc[~np.isnan(data_meas['state']), \n",
    "                                               'timestamp'].values, \n",
    "                                 target_amp=settings.target_amp[0], \n",
    "                                 rise_time=rise_time, \n",
    "                                 fall_time=fall_time)\n",
    "# t_stim = np.around(np.around(t_stim/0.002)*0.002, 3)\n",
    "# t_stim, idx = np.unique(t_stim, return_index=True)\n",
    "# stim = stim[idx]\n",
    "\n",
    "\n",
    "t_end = time.time()\n",
    "print('Time elapsed: ' + str(t_end-t_start))\n",
    "\n",
    "\n",
    "# Log the simulated data\n",
    "ld1_sample_mask = np.isin(data_sim.timestamp.values, t_ld[0])\n",
    "data_sim.loc[ld1_sample_mask,'ld1_iso'] = ld_output[0]\n",
    "\n",
    "ld2_sample_mask = np.isin(data_sim.timestamp.values, t_ld[1])\n",
    "data_sim.loc[ld2_sample_mask,'ld2_iso'] = ld_output[1]\n",
    "\n",
    "# state_sample_mask = np.isin(data_sim.timestamp, t_state)\n",
    "# data_sim.loc[state_sample_mask,'state_iso'] = state\n",
    "\n",
    "# stim_sample_mask = np.isin(data_sim.timestamp, t_stim)\n",
    "# data_sim.loc[stim_sample_mask,'stim_iso'] = stim"
   ]
  },
  {
   "cell_type": "code",
   "execution_count": null,
   "id": "b3c3431c-7e87-4cc3-8f27-4eba93a36f50",
   "metadata": {
    "jupyter": {
     "source_hidden": true
    },
    "tags": []
   },
   "outputs": [],
   "source": [
    "# %matplotlib widget\n",
    "fig, ax = plt.subplots(4,1, figsize=(6,6), sharex='col', sharey=False)\n",
    "\n",
    "ax[0].plot(data_meas.loc[~np.isnan(data_meas.ld1), 'timestamp'], \n",
    "           data_meas.loc[~np.isnan(data_meas.ld1), 'ld1'], label='Measured')\n",
    "ax[0].plot(data_sim.loc[~np.isnan(data_sim.ld1_iso), 'timestamp'], \n",
    "           data_sim.loc[~np.isnan(data_sim.ld1_iso), 'ld1_iso'], \n",
    "           label='Simulated')\n",
    "ax[0].axhline(settings.threshold[0][0][0], color='r')\n",
    "ax[0].axhline(settings.threshold[0][0][1], color='r')\n",
    "ax[0].legend(bbox_to_anchor=(1.02, 0.6))\n",
    "\n",
    "ax[1].plot(data_meas.loc[~np.isnan(data_meas.ld2), 'timestamp'], \n",
    "           data_meas.loc[~np.isnan(data_meas.ld2), 'ld2'], label='Measured')\n",
    "ax[1].plot(data_sim.loc[~np.isnan(data_sim.ld2_iso), 'timestamp'], \n",
    "           data_sim.loc[~np.isnan(data_sim.ld2_iso), 'ld2_iso'], \n",
    "           label='Simulated')\n",
    "ax[1].axhline(settings.threshold[0][1][0], color='r')\n",
    "ax[1].axhline(settings.threshold[0][1][1], color='r')\n",
    "\n",
    "ax[2].plot(data_meas.loc[~np.isnan(data_meas.state), 'timestamp'], \n",
    "           data_meas.loc[~np.isnan(data_meas.state), 'state'], label='Measured')\n",
    "# ax[2].plot(data_sim.loc[~np.isnan(data_sim.state_iso), 'timestamp'], \n",
    "#            data_sim.loc[~np.isnan(data_sim.state_iso), 'state_iso'], \n",
    "#            label='Simulated')\n",
    "ax[2].plot(t_state, state, \n",
    "           label='Simulated')\n",
    "ax[2].set_yticks(np.arange(9))\n",
    "ax[2].set_yticklabels(['0'] + ['']*7 + ['8'])\n",
    "\n",
    "ax[3].plot(data_meas.loc[~np.isnan(data_meas.stim), 'timestamp'], \n",
    "           data_meas.loc[~np.isnan(data_meas.stim), 'stim'], label='Measured')\n",
    "# ax[3].plot(data_sim.loc[~np.isnan(data_sim.stim_iso), 'timestamp'], \n",
    "#            data_sim.loc[~np.isnan(data_sim.stim_iso), 'stim_iso'], \n",
    "#            label='Simulated')\n",
    "ax[3].plot(t_stim, stim, \n",
    "           label='Simulated')\n",
    "\n",
    "for i in range(4):\n",
    "    ax[i].grid()\n",
    "ax[3].set_xlabel('Time [sec]')\n",
    "ax[0].set_ylabel('LD1 Output \\n [a.u]')\n",
    "ax[1].set_ylabel('LD2 Output \\n [a.u.]')\n",
    "ax[2].set_ylabel('LD State')\n",
    "ax[3].set_ylabel('Stimulation \\n amplitude [mA]')\n",
    "\n",
    "plt.tight_layout()"
   ]
  },
  {
   "cell_type": "markdown",
   "id": "9901bd63-a2e4-4cdb-8284-fa6ab9cfba3c",
   "metadata": {},
   "source": [
    "## Full TD &rarr; stim"
   ]
  },
  {
   "cell_type": "code",
   "execution_count": null,
   "id": "c61c551c-3131-400d-9a1d-131a306c0207",
   "metadata": {
    "jupyter": {
     "source_hidden": true
    },
    "tags": []
   },
   "outputs": [],
   "source": [
    "data_sim['ld1'] = np.nan*np.ones(np.shape(data_sim['td1']))\n",
    "data_sim['ld2'] = np.nan*np.ones(np.shape(data_sim['td1']))\n",
    "data_sim['state'] = np.nan*np.ones(np.shape(data_sim['td1']))\n",
    "data_sim['stim'] = np.nan*np.ones(np.shape(data_sim['td1']))\n",
    "\n",
    "t_start = time.time()\n",
    "\n",
    "# Compute continuous-valued LD output\n",
    "ld_output, t_ld, update_tbl = rcs.pb_to_ld(\n",
    "                        data_sim.loc[~np.isnan(data_sim['pb1']), \n",
    "                                     ['pb1', 'pb2']].values, \n",
    "                        data_sim.loc[~np.isnan(data_sim['pb1']), \n",
    "                                     'timestamp'].values, \n",
    "                        update_rate=settings.update_rate[0], \n",
    "                        weights=settings.weights[0],\n",
    "                        subtract_vec=settings.subtract_vec[0], \n",
    "                        multiply_vec=settings.multiply_vec[0])\n",
    "\n",
    "# Compute the state changes\n",
    "state, t_state, ld_output = rcs.ld_to_state(ld_output, update_tbl, \n",
    "                                   data_sim.loc[~np.isnan(data_meas['pb1']), \n",
    "                                                'timestamp'].values, \n",
    "                                   update_rate=settings.update_rate[0], \n",
    "                                   dual_threshold=settings.dual_threshold[0], \n",
    "                                   threshold=settings.threshold[0], \n",
    "                                   onset_duration=settings.onset[0], \n",
    "                                   termination_duration=settings.termination[0], \n",
    "                                   blank_duration=settings.blank_duration[0], \n",
    "                                   blank_both=settings.blank_both[0])\n",
    "t_state, idx = np.unique(t_state, return_index=True)\n",
    "state = state[idx]\n",
    "\n",
    "# Compute the stim changes\n",
    "rise_time = rcs.transform_ramp_rate_int_to_mas(settings.rise_time[0])\n",
    "fall_time = rcs.transform_ramp_rate_int_to_mas(settings.fall_time[0])\n",
    "stim, t_stim = rcs.state_to_stim(state, t_state, \n",
    "                                 target_amp=settings.target_amp[0], \n",
    "                                 rise_time=rise_time, \n",
    "                                 fall_time=fall_time)\n",
    "t_stim_new = data_sim.timestamp.values\n",
    "stim_new = np.interp(t_stim_new, t_stim, stim)\n",
    "\n",
    "\n",
    "t_end = time.time()\n",
    "print('Time elapsed: ' + str(t_end-t_start))\n",
    "\n",
    "\n",
    "# Log the simulated data\n",
    "ld1_sample_mask = np.isin(data_sim.timestamp.values, t_ld[0])\n",
    "data_sim.loc[ld1_sample_mask,'ld1'] = ld_output[0].flatten()\n",
    "\n",
    "ld2_sample_mask = np.isin(data_sim.timestamp.values, t_ld[1])\n",
    "data_sim.loc[ld2_sample_mask,'ld2'] = ld_output[1].flatten()\n",
    "\n",
    "state_sample_mask = np.isin(data_sim.timestamp, t_state)\n",
    "data_sim.loc[state_sample_mask,'state'] = state\n",
    "\n",
    "data_sim['stim'] = stim_new"
   ]
  },
  {
   "cell_type": "code",
   "execution_count": null,
   "id": "053f46c4-be62-45dc-9534-dffa84e6359a",
   "metadata": {
    "jupyter": {
     "source_hidden": true
    }
   },
   "outputs": [],
   "source": [
    "# %matplotlib widget\n",
    "fig, ax = plt.subplots(4,1, figsize=(6,6), sharex='col', sharey=False)\n",
    "\n",
    "ax[0].plot(data_meas.loc[~np.isnan(data_meas.ld1), 'timestamp'], \n",
    "           data_meas.loc[~np.isnan(data_meas.ld1), 'ld1'], label='Measured')\n",
    "ax[0].plot(data_sim.loc[~np.isnan(data_sim.ld1), 'timestamp'], \n",
    "           data_sim.loc[~np.isnan(data_sim.ld1), 'ld1'], \n",
    "           label='Simulated')\n",
    "ax[0].axhline(settings.threshold[0][0][0], color='r')\n",
    "ax[0].axhline(settings.threshold[0][0][1], color='r')\n",
    "ax[0].legend(bbox_to_anchor=(1.02, 0.6))\n",
    "\n",
    "ax[1].plot(data_meas.loc[~np.isnan(data_meas.ld2), 'timestamp'], \n",
    "           data_meas.loc[~np.isnan(data_meas.ld2), 'ld2'], label='Measured')\n",
    "ax[1].plot(data_sim.loc[~np.isnan(data_sim.ld2), 'timestamp'], \n",
    "           data_sim.loc[~np.isnan(data_sim.ld2), 'ld2'], \n",
    "           label='Simulated')\n",
    "ax[1].axhline(settings.threshold[0][1][0], color='r')\n",
    "ax[1].axhline(settings.threshold[0][1][1], color='r')\n",
    "\n",
    "ax[2].plot(data_meas.loc[~np.isnan(data_meas.state), 'timestamp'], \n",
    "           data_meas.loc[~np.isnan(data_meas.state), 'state'], label='Measured')\n",
    "# ax[2].plot(data_sim.loc[~np.isnan(data_sim.state_iso), 'timestamp'], \n",
    "#            data_sim.loc[~np.isnan(data_sim.state_iso), 'state_iso'], \n",
    "#            label='Simulated')\n",
    "ax[2].plot(t_state, state, \n",
    "           label='Simulated')\n",
    "ax[2].set_yticks(np.arange(9))\n",
    "ax[2].set_yticklabels(['0'] + ['']*7 + ['8'])\n",
    "\n",
    "ax[3].plot(data_meas.loc[~np.isnan(data_meas.stim), 'timestamp'], \n",
    "           data_meas.loc[~np.isnan(data_meas.stim), 'stim'], label='Measured')\n",
    "# ax[3].plot(data_sim.loc[~np.isnan(data_sim.stim_iso), 'timestamp'], \n",
    "#            data_sim.loc[~np.isnan(data_sim.stim_iso), 'stim_iso'], \n",
    "#            label='Simulated')\n",
    "ax[3].plot(t_stim, stim, \n",
    "           label='Simulated')\n",
    "\n",
    "for i in range(4):\n",
    "    ax[i].grid()\n",
    "ax[3].set_xlabel('Time [sec]')\n",
    "ax[0].set_ylabel('LD1 Output \\n [a.u]')\n",
    "ax[1].set_ylabel('LD2 Output \\n [a.u.]')\n",
    "ax[2].set_ylabel('LD State')\n",
    "ax[3].set_ylabel('Stimulation \\n amplitude [mA]')\n",
    "\n",
    "plt.tight_layout()"
   ]
  },
  {
   "cell_type": "code",
   "execution_count": null,
   "id": "bfa12bb4-cdca-45ba-99ad-63502840d15a",
   "metadata": {
    "jupyter": {
     "source_hidden": true
    },
    "tags": []
   },
   "outputs": [],
   "source": []
  }
 ],
 "metadata": {
  "kernelspec": {
   "display_name": "Python 3 (ipykernel)",
   "language": "python",
   "name": "python3"
  },
  "language_info": {
   "codemirror_mode": {
    "name": "ipython",
    "version": 3
   },
   "file_extension": ".py",
   "mimetype": "text/x-python",
   "name": "python",
   "nbconvert_exporter": "python",
   "pygments_lexer": "ipython3",
   "version": "3.9.12"
  }
 },
 "nbformat": 4,
 "nbformat_minor": 5
}
