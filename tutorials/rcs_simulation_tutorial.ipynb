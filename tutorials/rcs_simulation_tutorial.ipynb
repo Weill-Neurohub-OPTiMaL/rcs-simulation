{
 "cells": [
  {
   "cell_type": "markdown",
   "id": "7aa17e10-5506-49a4-84dc-3d21db84e68d",
   "metadata": {},
   "source": [
    "# RCS simulation tutorial"
   ]
  },
  {
   "cell_type": "code",
   "execution_count": null,
   "id": "c129c214-746b-4693-baed-a86e07d1b58e",
   "metadata": {
    "jupyter": {
     "source_hidden": true
    },
    "tags": []
   },
   "outputs": [],
   "source": [
    "import matplotlib.pyplot as plt\n",
    "import numpy as np\n",
    "import pandas as pd\n",
    "import time\n",
    "from ast import literal_eval\n",
    "from tkinter import Tk, filedialog\n",
    "\n",
    "from rcssim import *"
   ]
  },
  {
   "cell_type": "markdown",
   "id": "704f4424-06a6-4cdb-9a98-f69a93093757",
   "metadata": {},
   "source": [
    "## Load data"
   ]
  },
  {
   "cell_type": "code",
   "execution_count": null,
   "id": "056200da-7931-4044-ae23-b41bf4e0de60",
   "metadata": {
    "jupyter": {
     "source_hidden": true
    },
    "tags": []
   },
   "outputs": [],
   "source": [
    "# Open file dialog for selecting neural data (.csv)\n",
    "root = Tk()\n",
    "root.withdraw()\n",
    "root.call('wm', 'attributes', '.', '-topmost', True)\n",
    "\n",
    "# print('Select left hemisphere .csv file.')\n",
    "# left_file_name = filedialog.askopenfilename(multiple=False)\n",
    "\n",
    "print('Select folder containing data and settings files.')\n",
    "data_folder = filedialog.askdirectory()\n",
    "\n",
    "root.destroy()\n",
    "# left_neural_data = pd.read_csv(left_file_name)\n",
    "data = pd.read_csv(data_folder + '/dataset_ld9.csv')\n",
    "settings = pd.read_csv(data_folder + '/dataset_ld9_config.csv')\n",
    "\n",
    "settings['band_edges_hz'] = settings['band_edges_hz'].apply(literal_eval)\n",
    "settings['subtract_vec'] = settings['subtract_vec'].apply(literal_eval)\n",
    "settings['multiply_vec'] = settings['multiply_vec'].apply(literal_eval)\n",
    "settings['update_rate'] = settings['update_rate'].apply(literal_eval)\n",
    "settings['weights'] = settings['weights'].apply(literal_eval)\n",
    "settings['threshold'] = settings['threshold'].apply(literal_eval)\n",
    "settings['blank_duration'] = settings['blank_duration'].apply(literal_eval)\n",
    "settings['onset'] = settings['onset'].apply(literal_eval)\n",
    "settings['termination'] = settings['termination'].apply(literal_eval)\n",
    "settings['blank_both'] = settings['blank_both'].apply(literal_eval)\n",
    "settings['target_amp'] = settings['target_amp'].apply(literal_eval)"
   ]
  },
  {
   "cell_type": "code",
   "execution_count": null,
   "id": "ca7552ff-b9a5-49ed-b9de-a0a2da09c178",
   "metadata": {
    "jupyter": {
     "source_hidden": true
    },
    "tags": []
   },
   "outputs": [],
   "source": [
    "print('Data')\n",
    "data"
   ]
  },
  {
   "cell_type": "code",
   "execution_count": null,
   "id": "7b28aa36-e34e-46d4-abc8-aa146f38aabb",
   "metadata": {
    "jupyter": {
     "source_hidden": true
    },
    "tags": []
   },
   "outputs": [],
   "source": [
    "print('Settings')\n",
    "settings"
   ]
  },
  {
   "cell_type": "markdown",
   "id": "ffb18e31-f2f6-44be-aeab-2241de1c1571",
   "metadata": {},
   "source": [
    "## Isolated TD &rarr; PB"
   ]
  },
  {
   "cell_type": "code",
   "execution_count": null,
   "id": "bb161137-4367-462e-94c8-977bc3747e0e",
   "metadata": {
    "jupyter": {
     "source_hidden": true
    },
    "tags": []
   },
   "outputs": [],
   "source": [
    "td_data = df.TD.values[~np.isnan(df.TD.values),np.newaxis]\n",
    "t_td = df.timestamp.values[~np.isnan(df.TD.values)]\n",
    "\n",
    "amp_gain = 231\n",
    "fs_td = 250\n",
    "L = 64\n",
    "interval = 50\n",
    "bit_shift = 3\n",
    "band_edges_hz = [[19, 24]]\n",
    "\n",
    "t_start = time.time()\n",
    "td_data = transform_mv_to_rcs(td_data, amp_gain)\n",
    "hann_win = create_hann_window(L, percent=100)\n",
    "data_fft, t_pb_comp = rcs_td_to_fft(td_data, t_td, fs_td, L, interval, hann_win, \n",
    "                                    output_in_mv=False)\n",
    "pb_data_comp = rcs_fft_to_pb(data_fft, fs_td, L, bit_shift, \n",
    "                             band_edges_hz=band_edges_hz, input_is_mv=False)\n",
    "t_end = time.time()\n",
    "print('Time elapsed: ' + str(t_end-t_start))"
   ]
  },
  {
   "cell_type": "code",
   "execution_count": null,
   "id": "5ec8f094-ad77-4b88-92b7-7e86a42642a2",
   "metadata": {
    "jupyter": {
     "source_hidden": true
    },
    "tags": []
   },
   "outputs": [],
   "source": [
    "%matplotlib widget\n",
    "fig, ax = plt.subplots(1,1, figsize=(6,2), sharex='col', sharey=False)\n",
    "\n",
    "t0 = df.timestamp.values[0]\n",
    "pb_data = df.PB.values[~np.isnan(df.PB.values),np.newaxis]\n",
    "t_pb = df.timestamp.values[~np.isnan(df.PB.values)]\n",
    "\n",
    "ax.plot(t_pb_comp-t0, pb_data_comp, label='Computed')\n",
    "ax.plot(t_pb-t0, pb_data, label='Measured')\n",
    "ax.legend(bbox_to_anchor=(1.02, 0.6))\n",
    "ax.set_xlim([1516, 1526])\n",
    "ax.set_ylim([0, 100])\n",
    "ax.axhline(y=19, color='k', linestyle='--')\n",
    "ax.axhline(y=20, color='k', linestyle='--')\n",
    "ax.grid()\n",
    "ax.set_xlabel('Time [grid=2sec]')\n",
    "ax.set_ylabel('PB Output \\n [RCS units]')\n",
    "\n",
    "plt.tight_layout()"
   ]
  },
  {
   "cell_type": "markdown",
   "id": "2b47631b-2466-43e2-a065-f4bf7f0b7f97",
   "metadata": {},
   "source": [
    "## Isolated PB &rarr; stim"
   ]
  },
  {
   "cell_type": "code",
   "execution_count": null,
   "id": "b9ea87c1-d33d-4a7c-a459-f5824b50053e",
   "metadata": {
    "jupyter": {
     "source_hidden": true
    },
    "tags": []
   },
   "outputs": [],
   "source": [
    "t_start = time.time()\n",
    "pb_data = df.PB.values[~np.isnan(df.PB.values),np.newaxis]\n",
    "t_adapt = df.timestamp.values[~np.isnan(df.PB.values)]\n",
    "ld_output_comp, ld_state_comp, time_ld_comp = rcs_pb_to_ld(\n",
    "                        pb_data, \n",
    "                        t_adapt, \n",
    "                        update_rate=[2,[]], \n",
    "                        weights=[[1],[]], \n",
    "                        dual_threshold=[True,[]], \n",
    "                        threshold=[[19,20],[]], \n",
    "                        onset_duration=[0,[]], \n",
    "                        termination_duration=[0,[]], \n",
    "                        blank_duration=[11,[]], \n",
    "                        blank_both=[False, False], \n",
    "                        subtract_vec=[np.zeros(4), np.zeros(4)], \n",
    "                        multiply_vec=[np.ones(4), np.ones(4)])\n",
    "stim_comp, time_stim_comp = rcs_ld_to_stim(ld_state_comp, time_ld_comp, \n",
    "                                           target_amp=[2.0, 2.0, 2.6,0,0,0,0,0], \n",
    "                                           rise_time=1.6, fall_time=1.6)\n",
    "t_end = time.time()\n",
    "print('Time elapsed: ' + str(t_end-t_start))"
   ]
  },
  {
   "cell_type": "code",
   "execution_count": null,
   "id": "b3c3431c-7e87-4cc3-8f27-4eba93a36f50",
   "metadata": {
    "jupyter": {
     "source_hidden": true
    },
    "tags": []
   },
   "outputs": [],
   "source": [
    "# %matplotlib widget\n",
    "fig, ax = plt.subplots(3,1, figsize=(6,4), sharex='col', sharey=False)\n",
    "\n",
    "t0 = df.timestamp.values[0]\n",
    "ld_output = df.feature.values[~np.isnan(df.feature.values)]\n",
    "t_output = df.timestamp.values[~np.isnan(df.feature.values)]\n",
    "ld_state = df.state.values[~np.isnan(df.state.values)]\n",
    "t_state = df.timestamp.values[~np.isnan(df.state.values)]\n",
    "stim = df.stim.values[~np.isnan(df.stim.values)]\n",
    "t_stim = df.timestamp.values[~np.isnan(df.stim.values)]\n",
    "\n",
    "ax[0].plot(time_ld_comp-t0, ld_output_comp[0], label='Computed')\n",
    "ax[0].plot(t_output-t0, ld_output, label='Measured')\n",
    "ax[0].legend(bbox_to_anchor=(1.02, 0.6))\n",
    "ax[0].set_xlim([1516, 1526])\n",
    "ax[0].set_ylim([0, 100])\n",
    "ax[0].axhline(y=19, color='k', linestyle='--')\n",
    "ax[0].axhline(y=20, color='k', linestyle='--')\n",
    "ax[0].grid()\n",
    "ax[0].set_ylabel('LD Output')\n",
    "\n",
    "ax[1].plot(time_ld_comp-t0, ld_state_comp+0.05, label='Computed')\n",
    "ax[1].plot(t_state-t0, ld_state, label='Measured')\n",
    "ax[1].set_ylim([0, 2.5])\n",
    "ax[1].grid()\n",
    "ax[1].set_ylabel('LD State')\n",
    "\n",
    "ax[2].plot(time_stim_comp-t0, stim_comp+0.01, label='Computed')\n",
    "ax[2].plot(t_stim-t0, stim, label='Measured')\n",
    "ax[2].grid()\n",
    "ax[2].set_xlabel('Time [grid=2sec]')\n",
    "ax[2].set_ylim([1.6,2.05])\n",
    "ax[2].set_yticks([2.0,2.4,2.8])\n",
    "ax[2].set_yticklabels([2.0,'',2.8])\n",
    "ax[2].set_ylabel('Stim amplitude \\n [mA]')\n",
    "\n",
    "plt.tight_layout()"
   ]
  },
  {
   "cell_type": "markdown",
   "id": "9901bd63-a2e4-4cdb-8284-fa6ab9cfba3c",
   "metadata": {},
   "source": [
    "## Full TD &rarr; stim"
   ]
  },
  {
   "cell_type": "code",
   "execution_count": null,
   "id": "df77e548-7110-4cfa-b114-4637d742e20b",
   "metadata": {
    "jupyter": {
     "source_hidden": true
    },
    "tags": []
   },
   "outputs": [],
   "source": [
    "td_data = df.TD.values[~np.isnan(df.TD.values),np.newaxis]\n",
    "t_td = df.timestamp.values[~np.isnan(df.TD.values)]\n",
    "ld_output = df.feature.values[~np.isnan(df.feature.values)]\n",
    "t_output = df.timestamp.values[~np.isnan(df.feature.values)]\n",
    "ld_state = df.state.values[~np.isnan(df.state.values)]\n",
    "t_state = df.timestamp.values[~np.isnan(df.state.values)]\n",
    "stim = df.stim.values[~np.isnan(df.stim.values)]\n",
    "t_stim = df.timestamp.values[~np.isnan(df.stim.values)]\n",
    "\n",
    "t_start = time.time()\n",
    "td_data = transform_mv_to_rcs(td_data, amp_gain)\n",
    "hann_win = create_hann_window(L, percent=100)\n",
    "data_fft, t_pb_comp = rcs_td_to_fft(td_data, t_td, fs_td, L, interval, hann_win, \n",
    "                                    output_in_mv=False)\n",
    "pb_data_comp = rcs_fft_to_pb(data_fft, fs_td, L, bit_shift, \n",
    "                             band_edges_hz=band_edges_hz, input_is_mv=False)\n",
    "ld_output_comp, ld_state_comp, time_ld_comp = rcs_pb_to_ld(\n",
    "                        pb_data_comp, \n",
    "                        t_pb_comp, \n",
    "                        update_rate=[2,[]], \n",
    "                        weights=[[1],[]], \n",
    "                        dual_threshold=[True,[]], \n",
    "                        threshold=[[19,20],[]], \n",
    "                        onset_duration=[0,[]], \n",
    "                        termination_duration=[0,[]], \n",
    "                        blank_duration=[11,[]], \n",
    "                        blank_both=[False, False], \n",
    "                        subtract_vec=[np.zeros(4), np.zeros(4)], \n",
    "                        multiply_vec=[np.ones(4), np.ones(4)])\n",
    "stim_comp, time_stim_comp = rcs_ld_to_stim(ld_state_comp, time_ld_comp, \n",
    "                                           target_amp=[2.0, 2.0, 2.6,0,0,0,0,0], \n",
    "                                           rise_time=1.6, fall_time=1.6)\n",
    "t_end = time.time()\n",
    "print('Time elapsed: ' + str(t_end-t_start))"
   ]
  },
  {
   "cell_type": "code",
   "execution_count": null,
   "id": "373bd9b3-8b2e-4c0b-8f76-b958204d4e85",
   "metadata": {
    "jupyter": {
     "source_hidden": true
    },
    "tags": []
   },
   "outputs": [],
   "source": [
    "# %matplotlib widget\n",
    "fig, ax = plt.subplots(4,1, figsize=(6,6), sharex='col', sharey=False)\n",
    "\n",
    "ax[0].plot(t_pb_comp-t0, pb_data_comp, label='Computed')\n",
    "ax[0].plot(t_pb-t0, pb_data, label='Measured')\n",
    "ax[0].legend(bbox_to_anchor=(1.02, 0.6))\n",
    "ax[0].set_xlim([1516, 1526])\n",
    "ax[0].set_ylim([0, 100])\n",
    "ax[0].axhline(y=19, color='k', linestyle='--')\n",
    "ax[0].axhline(y=20, color='k', linestyle='--')\n",
    "ax[0].grid()\n",
    "ax[0].set_ylabel('PB Output \\n [RCS units]')\n",
    "\n",
    "ax[1].plot(time_ld_comp-t0, ld_output_comp[0], label='Computed')\n",
    "ax[1].plot(t_output-t0, ld_output, label='Measured')\n",
    "ax[1].set_xlim([1516, 1526])\n",
    "ax[1].set_ylim([0, 100])\n",
    "ax[1].axhline(y=19, color='k', linestyle='--')\n",
    "ax[1].axhline(y=20, color='k', linestyle='--')\n",
    "ax[1].grid()\n",
    "ax[1].set_ylabel('LD Output')\n",
    "\n",
    "ax[2].plot(time_ld_comp-t0, ld_state_comp+0.05, label='Computed')\n",
    "ax[2].plot(t_state-t0, ld_state, label='Measured')\n",
    "ax[2].set_ylim([0, 2.5])\n",
    "ax[2].grid()\n",
    "ax[2].set_ylabel('LD State')\n",
    "\n",
    "ax[3].plot(time_stim_comp-t0, stim_comp+0.01, label='Computed')\n",
    "ax[3].plot(t_stim-t0, stim, label='Measured')\n",
    "ax[3].grid()\n",
    "ax[3].set_xlabel('Time [grid=2sec]')\n",
    "ax[3].set_ylim([1.6,2.05])\n",
    "ax[3].set_yticks([2.0,2.4,2.8])\n",
    "ax[3].set_yticklabels([2.0,'',2.8])\n",
    "ax[3].set_ylabel('Stim amplitude \\n [mA]')\n",
    "\n",
    "plt.tight_layout()"
   ]
  }
 ],
 "metadata": {
  "kernelspec": {
   "display_name": "Python 3 (ipykernel)",
   "language": "python",
   "name": "python3"
  },
  "language_info": {
   "codemirror_mode": {
    "name": "ipython",
    "version": 3
   },
   "file_extension": ".py",
   "mimetype": "text/x-python",
   "name": "python",
   "nbconvert_exporter": "python",
   "pygments_lexer": "ipython3",
   "version": "3.9.12"
  }
 },
 "nbformat": 4,
 "nbformat_minor": 5
}
