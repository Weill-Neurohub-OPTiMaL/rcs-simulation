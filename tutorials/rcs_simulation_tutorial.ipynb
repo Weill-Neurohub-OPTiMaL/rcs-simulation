{
 "cells": [
  {
   "cell_type": "markdown",
   "id": "7aa17e10-5506-49a4-84dc-3d21db84e68d",
   "metadata": {},
   "source": [
    "# RCS simulation tutorial"
   ]
  },
  {
   "cell_type": "code",
   "execution_count": null,
   "id": "c129c214-746b-4693-baed-a86e07d1b58e",
   "metadata": {
    "tags": []
   },
   "outputs": [],
   "source": [
    "import matplotlib.pyplot as plt\n",
    "import numpy as np\n",
    "import time\n",
    "from tkinter import Tk, filedialog\n",
    "sys.path.insert(1, 'D:/git/weill-neurohub/rcs-simulation/utils')\n",
    "from rcs_sim import *"
   ]
  },
  {
   "cell_type": "markdown",
   "id": "704f4424-06a6-4cdb-9a98-f69a93093757",
   "metadata": {},
   "source": [
    "## Dataset 1"
   ]
  },
  {
   "cell_type": "code",
   "execution_count": null,
   "id": "056200da-7931-4044-ae23-b41bf4e0de60",
   "metadata": {
    "jupyter": {
     "source_hidden": true
    },
    "tags": []
   },
   "outputs": [],
   "source": [
    "# Open file dialog for selecting neural data (.csv)\n",
    "root = Tk()\n",
    "root.call('wm', 'attributes', '.', '-topmost', True)\n",
    "\n",
    "# print('Select left hemisphere .csv file.')\n",
    "# left_file_name = filedialog.askopenfilename(multiple=False)\n",
    "\n",
    "print('Select new .csv file.')\n",
    "file_name = filedialog.askopenfilename(multiple=False)\n",
    "\n",
    "root.destroy()\n",
    "# left_neural_data = pd.read_csv(left_file_name)\n",
    "df = pd.read_csv(file_name)"
   ]
  },
  {
   "cell_type": "code",
   "execution_count": null,
   "id": "ca7552ff-b9a5-49ed-b9de-a0a2da09c178",
   "metadata": {
    "jupyter": {
     "source_hidden": true
    },
    "tags": []
   },
   "outputs": [],
   "source": [
    "df"
   ]
  },
  {
   "cell_type": "markdown",
   "id": "ffb18e31-f2f6-44be-aeab-2241de1c1571",
   "metadata": {},
   "source": [
    "### Isolated TD &rarr; PB"
   ]
  },
  {
   "cell_type": "code",
   "execution_count": null,
   "id": "bb161137-4367-462e-94c8-977bc3747e0e",
   "metadata": {
    "jupyter": {
     "source_hidden": true
    },
    "tags": []
   },
   "outputs": [],
   "source": [
    "td_data = df.TD.values[~np.isnan(df.TD.values),np.newaxis]\n",
    "t_td = df.timestamp.values[~np.isnan(df.TD.values)]\n",
    "\n",
    "amp_gain = 231\n",
    "fs_td = 250\n",
    "L = 64\n",
    "interval = 50\n",
    "bit_shift = 3\n",
    "band_edges_hz = [[19, 24]]\n",
    "\n",
    "t_start = time.time()\n",
    "td_data = transform_mv_to_rcs(td_data, amp_gain)\n",
    "hann_win = create_hann_window(L, percent=100)\n",
    "data_fft, t_pb_comp = rcs_td_to_fft(td_data, t_td, fs_td, L, interval, hann_win, \n",
    "                                    output_in_mv=False)\n",
    "pb_data_comp = rcs_fft_to_pb(data_fft, fs_td, L, bit_shift, \n",
    "                             band_edges_hz=band_edges_hz, input_is_mv=False)\n",
    "t_end = time.time()\n",
    "print('Time elapsed: ' + str(t_end-t_start))"
   ]
  },
  {
   "cell_type": "code",
   "execution_count": null,
   "id": "5ec8f094-ad77-4b88-92b7-7e86a42642a2",
   "metadata": {
    "jupyter": {
     "source_hidden": true
    },
    "tags": []
   },
   "outputs": [],
   "source": [
    "%matplotlib widget\n",
    "fig, ax = plt.subplots(1,1, figsize=(6,2), sharex='col', sharey=False)\n",
    "\n",
    "t0 = df.timestamp.values[0]\n",
    "pb_data = df.PB.values[~np.isnan(df.PB.values),np.newaxis]\n",
    "t_pb = df.timestamp.values[~np.isnan(df.PB.values)]\n",
    "\n",
    "ax.plot(t_pb_comp-t0, pb_data_comp, label='Computed')\n",
    "ax.plot(t_pb-t0, pb_data, label='Measured')\n",
    "ax.legend(bbox_to_anchor=(1.02, 0.6))\n",
    "ax.set_xlim([1516, 1526])\n",
    "ax.set_ylim([0, 100])\n",
    "ax.axhline(y=19, color='k', linestyle='--')\n",
    "ax.axhline(y=20, color='k', linestyle='--')\n",
    "ax.grid()\n",
    "ax.set_xlabel('Time [grid=2sec]')\n",
    "ax.set_ylabel('PB Output \\n [RCS units]')\n",
    "\n",
    "plt.tight_layout()"
   ]
  },
  {
   "cell_type": "markdown",
   "id": "2b47631b-2466-43e2-a065-f4bf7f0b7f97",
   "metadata": {},
   "source": [
    "### Isolated PB &rarr; stim"
   ]
  },
  {
   "cell_type": "code",
   "execution_count": null,
   "id": "b9ea87c1-d33d-4a7c-a459-f5824b50053e",
   "metadata": {
    "jupyter": {
     "source_hidden": true
    },
    "tags": []
   },
   "outputs": [],
   "source": [
    "t_start = time.time()\n",
    "pb_data = df.PB.values[~np.isnan(df.PB.values),np.newaxis]\n",
    "t_adapt = df.timestamp.values[~np.isnan(df.PB.values)]\n",
    "ld_output_comp, ld_state_comp, time_ld_comp = rcs_pb_to_ld(\n",
    "                        pb_data, \n",
    "                        t_adapt, \n",
    "                        update_rate=[2,[]], \n",
    "                        weights=[[1],[]], \n",
    "                        dual_threshold=[True,[]], \n",
    "                        threshold=[[19,20],[]], \n",
    "                        onset_duration=[0,[]], \n",
    "                        termination_duration=[0,[]], \n",
    "                        blank_duration=[11,[]], \n",
    "                        blank_both=[False, False], \n",
    "                        subtract_vec=[np.zeros(4), np.zeros(4)], \n",
    "                        multiply_vec=[np.ones(4), np.ones(4)])\n",
    "stim_comp, time_stim_comp = rcs_ld_to_stim(ld_state_comp, time_ld_comp, \n",
    "                                           target_amp=[2.0, 2.0, 2.6,0,0,0,0,0], \n",
    "                                           rise_time=1.6, fall_time=1.6)\n",
    "t_end = time.time()\n",
    "print('Time elapsed: ' + str(t_end-t_start))"
   ]
  },
  {
   "cell_type": "code",
   "execution_count": null,
   "id": "b3c3431c-7e87-4cc3-8f27-4eba93a36f50",
   "metadata": {
    "jupyter": {
     "source_hidden": true
    },
    "tags": []
   },
   "outputs": [],
   "source": [
    "# %matplotlib widget\n",
    "fig, ax = plt.subplots(3,1, figsize=(6,4), sharex='col', sharey=False)\n",
    "\n",
    "t0 = df.timestamp.values[0]\n",
    "ld_output = df.feature.values[~np.isnan(df.feature.values)]\n",
    "t_output = df.timestamp.values[~np.isnan(df.feature.values)]\n",
    "ld_state = df.state.values[~np.isnan(df.state.values)]\n",
    "t_state = df.timestamp.values[~np.isnan(df.state.values)]\n",
    "stim = df.stim.values[~np.isnan(df.stim.values)]\n",
    "t_stim = df.timestamp.values[~np.isnan(df.stim.values)]\n",
    "\n",
    "ax[0].plot(time_ld_comp-t0, ld_output_comp[0], label='Computed')\n",
    "ax[0].plot(t_output-t0, ld_output, label='Measured')\n",
    "ax[0].legend(bbox_to_anchor=(1.02, 0.6))\n",
    "ax[0].set_xlim([1516, 1526])\n",
    "ax[0].set_ylim([0, 100])\n",
    "ax[0].axhline(y=19, color='k', linestyle='--')\n",
    "ax[0].axhline(y=20, color='k', linestyle='--')\n",
    "ax[0].grid()\n",
    "ax[0].set_ylabel('LD Output')\n",
    "\n",
    "ax[1].plot(time_ld_comp-t0, ld_state_comp+0.05, label='Computed')\n",
    "ax[1].plot(t_state-t0, ld_state, label='Measured')\n",
    "ax[1].set_ylim([0, 2.5])\n",
    "ax[1].grid()\n",
    "ax[1].set_ylabel('LD State')\n",
    "\n",
    "ax[2].plot(time_stim_comp-t0, stim_comp+0.01, label='Computed')\n",
    "ax[2].plot(t_stim-t0, stim, label='Measured')\n",
    "ax[2].grid()\n",
    "ax[2].set_xlabel('Time [grid=2sec]')\n",
    "ax[2].set_ylim([1.6,2.05])\n",
    "ax[2].set_yticks([2.0,2.4,2.8])\n",
    "ax[2].set_yticklabels([2.0,'',2.8])\n",
    "ax[2].set_ylabel('Stim amplitude \\n [mA]')\n",
    "\n",
    "plt.tight_layout()"
   ]
  },
  {
   "cell_type": "markdown",
   "id": "9901bd63-a2e4-4cdb-8284-fa6ab9cfba3c",
   "metadata": {},
   "source": [
    "### Full TD &rarr; stim"
   ]
  },
  {
   "cell_type": "code",
   "execution_count": null,
   "id": "df77e548-7110-4cfa-b114-4637d742e20b",
   "metadata": {
    "jupyter": {
     "source_hidden": true
    },
    "tags": []
   },
   "outputs": [],
   "source": [
    "td_data = df.TD.values[~np.isnan(df.TD.values),np.newaxis]\n",
    "t_td = df.timestamp.values[~np.isnan(df.TD.values)]\n",
    "ld_output = df.feature.values[~np.isnan(df.feature.values)]\n",
    "t_output = df.timestamp.values[~np.isnan(df.feature.values)]\n",
    "ld_state = df.state.values[~np.isnan(df.state.values)]\n",
    "t_state = df.timestamp.values[~np.isnan(df.state.values)]\n",
    "stim = df.stim.values[~np.isnan(df.stim.values)]\n",
    "t_stim = df.timestamp.values[~np.isnan(df.stim.values)]\n",
    "\n",
    "t_start = time.time()\n",
    "td_data = transform_mv_to_rcs(td_data, amp_gain)\n",
    "hann_win = create_hann_window(L, percent=100)\n",
    "data_fft, t_pb_comp = rcs_td_to_fft(td_data, t_td, fs_td, L, interval, hann_win, \n",
    "                                    output_in_mv=False)\n",
    "pb_data_comp = rcs_fft_to_pb(data_fft, fs_td, L, bit_shift, \n",
    "                             band_edges_hz=band_edges_hz, input_is_mv=False)\n",
    "ld_output_comp, ld_state_comp, time_ld_comp = rcs_pb_to_ld(\n",
    "                        pb_data_comp, \n",
    "                        t_pb_comp, \n",
    "                        update_rate=[2,[]], \n",
    "                        weights=[[1],[]], \n",
    "                        dual_threshold=[True,[]], \n",
    "                        threshold=[[19,20],[]], \n",
    "                        onset_duration=[0,[]], \n",
    "                        termination_duration=[0,[]], \n",
    "                        blank_duration=[11,[]], \n",
    "                        blank_both=[False, False], \n",
    "                        subtract_vec=[np.zeros(4), np.zeros(4)], \n",
    "                        multiply_vec=[np.ones(4), np.ones(4)])\n",
    "stim_comp, time_stim_comp = rcs_ld_to_stim(ld_state_comp, time_ld_comp, \n",
    "                                           target_amp=[2.0, 2.0, 2.6,0,0,0,0,0], \n",
    "                                           rise_time=1.6, fall_time=1.6)\n",
    "t_end = time.time()\n",
    "print('Time elapsed: ' + str(t_end-t_start))"
   ]
  },
  {
   "cell_type": "code",
   "execution_count": null,
   "id": "373bd9b3-8b2e-4c0b-8f76-b958204d4e85",
   "metadata": {
    "jupyter": {
     "source_hidden": true
    },
    "tags": []
   },
   "outputs": [],
   "source": [
    "# %matplotlib widget\n",
    "fig, ax = plt.subplots(4,1, figsize=(6,6), sharex='col', sharey=False)\n",
    "\n",
    "ax[0].plot(t_pb_comp-t0, pb_data_comp, label='Computed')\n",
    "ax[0].plot(t_pb-t0, pb_data, label='Measured')\n",
    "ax[0].legend(bbox_to_anchor=(1.02, 0.6))\n",
    "ax[0].set_xlim([1516, 1526])\n",
    "ax[0].set_ylim([0, 100])\n",
    "ax[0].axhline(y=19, color='k', linestyle='--')\n",
    "ax[0].axhline(y=20, color='k', linestyle='--')\n",
    "ax[0].grid()\n",
    "ax[0].set_ylabel('PB Output \\n [RCS units]')\n",
    "\n",
    "ax[1].plot(time_ld_comp-t0, ld_output_comp[0], label='Computed')\n",
    "ax[1].plot(t_output-t0, ld_output, label='Measured')\n",
    "ax[1].set_xlim([1516, 1526])\n",
    "ax[1].set_ylim([0, 100])\n",
    "ax[1].axhline(y=19, color='k', linestyle='--')\n",
    "ax[1].axhline(y=20, color='k', linestyle='--')\n",
    "ax[1].grid()\n",
    "ax[1].set_ylabel('LD Output')\n",
    "\n",
    "ax[2].plot(time_ld_comp-t0, ld_state_comp+0.05, label='Computed')\n",
    "ax[2].plot(t_state-t0, ld_state, label='Measured')\n",
    "ax[2].set_ylim([0, 2.5])\n",
    "ax[2].grid()\n",
    "ax[2].set_ylabel('LD State')\n",
    "\n",
    "ax[3].plot(time_stim_comp-t0, stim_comp+0.01, label='Computed')\n",
    "ax[3].plot(t_stim-t0, stim, label='Measured')\n",
    "ax[3].grid()\n",
    "ax[3].set_xlabel('Time [grid=2sec]')\n",
    "ax[3].set_ylim([1.6,2.05])\n",
    "ax[3].set_yticks([2.0,2.4,2.8])\n",
    "ax[3].set_yticklabels([2.0,'',2.8])\n",
    "ax[3].set_ylabel('Stim amplitude \\n [mA]')\n",
    "\n",
    "plt.tight_layout()"
   ]
  },
  {
   "cell_type": "markdown",
   "id": "74016871-d96c-4685-9055-a28ff126abfb",
   "metadata": {},
   "source": [
    "## Dataset 2"
   ]
  },
  {
   "cell_type": "code",
   "execution_count": null,
   "id": "2ea62f64-9c13-45fd-83cd-f6aa8198ccd4",
   "metadata": {
    "jupyter": {
     "source_hidden": true
    }
   },
   "outputs": [],
   "source": [
    "# Open file dialog for selecting neural data (.csv)\n",
    "root = Tk()\n",
    "root.call('wm', 'attributes', '.', '-topmost', True)\n",
    "\n",
    "# print('Select left hemisphere .csv file.')\n",
    "# left_file_name = filedialog.askopenfilename(multiple=False)\n",
    "\n",
    "print('Select new .csv file.')\n",
    "file_name = filedialog.askopenfilename(multiple=False)\n",
    "\n",
    "root.destroy()\n",
    "# left_neural_data = pd.read_csv(left_file_name)\n",
    "df = pd.read_csv(file_name)"
   ]
  },
  {
   "cell_type": "code",
   "execution_count": null,
   "id": "f7b18f0c-f9c2-463f-a6a0-f9accee8700b",
   "metadata": {
    "jupyter": {
     "source_hidden": true
    }
   },
   "outputs": [],
   "source": [
    "df"
   ]
  },
  {
   "cell_type": "markdown",
   "id": "9f92cb20-4f3b-4d0b-89ce-61874edc606a",
   "metadata": {},
   "source": [
    "### Isolated TD &rarr; PB"
   ]
  },
  {
   "cell_type": "code",
   "execution_count": null,
   "id": "349b0496-9a15-47c5-96ef-88a0f533c36a",
   "metadata": {
    "jupyter": {
     "source_hidden": true
    },
    "tags": []
   },
   "outputs": [],
   "source": [
    "td_data = pd.DataFrame.to_numpy(df.loc[~np.isnan(df.TD1.values), \n",
    "                                       ['TD1', 'TD2', 'TD3']])\n",
    "t_td = df.timestamp.values[~np.isnan(df.TD1.values)]\n",
    "pb_data = pd.DataFrame.to_numpy(df.loc[~np.isnan(df.PB1.values), \n",
    "                                       ['PB1', 'PB2', 'PB3', 'PB4']])\n",
    "t_pb = df.timestamp.values[~np.isnan(df.PB1.values)]\n",
    "\n",
    "amp_gain = 233 #in these data it happens to all be the same, not generally true\n",
    "fs_td = 500\n",
    "L = 256\n",
    "interval = 200\n",
    "bit_shift = 3\n",
    "band_edges_hz = [[5, 28], [9, 30], [56, 100], [62, 71]]\n",
    "\n",
    "t_start = time.time()\n",
    "\n",
    "td_data = transform_mv_to_rcs(td_data, amp_gain)\n",
    "hann_win = create_hann_window(L, percent=100)\n",
    "# first PB, from channel 1\n",
    "data_fft, t_pb_comp = rcs_td_to_fft(td_data[:,0], t_td, fs_td, L, interval, \n",
    "                                    hann_win, output_in_mv=False)\n",
    "pb_data_comp = rcs_fft_to_pb(data_fft, fs_td, L, bit_shift, \n",
    "                             band_edges_hz=band_edges_hz[0], input_is_mv=False)\n",
    "# second and third PB's, from channel 2\n",
    "data_fft, t_pb_comp = rcs_td_to_fft(td_data[:,1], t_td, fs_td, L, interval, \n",
    "                                    hann_win, output_in_mv=False)\n",
    "pb_tmp = rcs_fft_to_pb(data_fft, fs_td, L, bit_shift, \n",
    "                       band_edges_hz=band_edges_hz[1:3], input_is_mv=False)\n",
    "pb_data_comp = np.append(pb_data_comp, pb_tmp, axis=1)\n",
    "# fourth PB, from channel 3\n",
    "data_fft, t_pb_comp = rcs_td_to_fft(td_data[:,2], t_td, fs_td, L, interval, \n",
    "                                    hann_win, output_in_mv=False)\n",
    "pb_tmp = rcs_fft_to_pb(data_fft, fs_td, L, bit_shift, \n",
    "                       band_edges_hz=band_edges_hz[3], input_is_mv=False)\n",
    "pb_data_comp = np.append(pb_data_comp, pb_tmp, axis=1)\n",
    "\n",
    "t_end = time.time()\n",
    "print('Time elapsed: ' + str(t_end-t_start))"
   ]
  },
  {
   "cell_type": "code",
   "execution_count": null,
   "id": "77939688-94e1-47a3-8d5a-13fb5dab8b9a",
   "metadata": {
    "jupyter": {
     "source_hidden": true
    },
    "tags": []
   },
   "outputs": [],
   "source": [
    "# %matplotlib widget\n",
    "fig, ax = plt.subplots(4,1, figsize=(6,5), sharex='col', sharey=False)\n",
    "\n",
    "t0 = df.timestamp.values[0]\n",
    "\n",
    "for col in range(4):\n",
    "    ax[col].plot(t_pb_comp-t0, pb_data_comp[:,col], label='Computed')\n",
    "    ax[col].plot(t_pb-t0, pb_data[:,col], label='Measured')\n",
    "    ax[col].set_ylim(np.quantile(pb_data[:,col], [0, 0.99]))\n",
    "    ax[col].grid()\n",
    "    ax[col].set_ylabel('PB' + str(col) + ' Output \\n [RCS units]')\n",
    "    \n",
    "ax[0].set_xlim([975, 1005])  \n",
    "ax[0].set_ylim([0, 2000])\n",
    "ax[3].set_xlabel('Time [grid=5sec]')\n",
    "ax[0].legend(bbox_to_anchor=(1.03, 0.6))\n",
    "\n",
    "plt.tight_layout()"
   ]
  },
  {
   "cell_type": "markdown",
   "id": "5bb42427-3ba2-4b46-a59c-3c0426cc0843",
   "metadata": {},
   "source": [
    "### Isolated PB &rarr; stim"
   ]
  },
  {
   "cell_type": "code",
   "execution_count": null,
   "id": "45eccbf3-0628-4866-8363-cd318dff30f2",
   "metadata": {
    "jupyter": {
     "source_hidden": true
    },
    "tags": []
   },
   "outputs": [],
   "source": [
    "pb_data = pd.DataFrame.to_numpy(df.loc[~np.isnan(df.PB1.values), \n",
    "                                       ['PB1', 'PB2', 'PB3', 'PB4']])\n",
    "t_adapt = df.timestamp.values[~np.isnan(df.PB1.values)]\n",
    "\n",
    "t_start = time.time()\n",
    "ld_output_comp, ld_state_comp, time_ld_comp = rcs_pb_to_ld(\n",
    "                        pb_data, \n",
    "                        t_adapt, \n",
    "                        update_rate=[1,[]], \n",
    "                        weights=[[-2.324, -0.2399, 24.06, 20.11],[]], \n",
    "                        dual_threshold=[False,[]], \n",
    "                        threshold=[3322,[]], \n",
    "                        onset_duration=[0,[]], \n",
    "                        termination_duration=[5,[]], \n",
    "                        blank_duration=[2,[]], \n",
    "                        blank_both=[False, False], \n",
    "                        subtract_vec=[np.zeros(4), np.zeros(4)], \n",
    "                        multiply_vec=[np.ones(4), np.ones(4)])\n",
    "stim_comp, time_stim_comp = rcs_ld_to_stim(ld_state_comp, time_ld_comp, \n",
    "                                           target_amp=[2.0, 1.6, 0,0,0,0,0,0], \n",
    "                                           rise_time=1.6, fall_time=1.6)\n",
    "t_end = time.time()\n",
    "print('Time elapsed: ' + str(t_end-t_start))"
   ]
  },
  {
   "cell_type": "code",
   "execution_count": null,
   "id": "58a819dd-b90b-4172-a9c9-c450333c2bba",
   "metadata": {
    "jupyter": {
     "source_hidden": true
    },
    "tags": []
   },
   "outputs": [],
   "source": [
    "# %matplotlib widget\n",
    "fig, ax = plt.subplots(3,1, figsize=(6,4), sharex='col', sharey=False)\n",
    "\n",
    "t0 = df.timestamp.values[0]\n",
    "ld_output = df.LD_output.values[~np.isnan(df.LD_output.values)]\n",
    "t_output = df.timestamp.values[~np.isnan(df.LD_output.values)]\n",
    "ld_state = df.state.values[~np.isnan(df.state.values)]\n",
    "t_state = df.timestamp.values[~np.isnan(df.state.values)]\n",
    "stim = df.stim.values[~np.isnan(df.stim.values)]\n",
    "t_stim = df.timestamp.values[~np.isnan(df.stim.values)]\n",
    "\n",
    "ax[0].plot(time_ld_comp-t0, ld_output_comp[0], label='Computed')\n",
    "ax[0].plot(t_output-t0, ld_output, label='Measured')\n",
    "ax[0].legend(bbox_to_anchor=(1.02, 0.6))\n",
    "ax[0].set_xlim([975, 1005])\n",
    "ax[0].set_ylim([-1000, 15000])\n",
    "ax[0].axhline(y=3323, color='k', linestyle='--')\n",
    "ax[0].grid()\n",
    "ax[0].set_yticklabels([])\n",
    "ax[0].set_ylabel('LD Output')\n",
    "\n",
    "ax[1].plot(time_ld_comp-t0, ld_state_comp+0.05, label='Computed')\n",
    "ax[1].plot(t_state-t0, ld_state, label='Measured')\n",
    "ax[1].set_ylim([-0.05, 1.15])\n",
    "ax[1].grid()\n",
    "ax[1].set_xticklabels([])\n",
    "ax[1].set_yticks([0,1])\n",
    "ax[1].set_ylabel('LD State')\n",
    "\n",
    "ax[2].plot(time_stim_comp-t0, stim_comp+0.01, label='Computed')\n",
    "ax[2].plot(t_stim-t0, stim, label='Measured')\n",
    "ax[2].grid()\n",
    "ax[2].set_xlabel('Time [grid=5sec]')\n",
    "ax[2].set_ylim([1.6,2.05])\n",
    "ax[2].set_yticks([1.6,1.8,2.0])\n",
    "ax[2].set_yticklabels([1.6,'',2.0])\n",
    "ax[2].set_ylabel('Stim amplitude \\n [mA]')\n",
    "\n",
    "plt.tight_layout()"
   ]
  },
  {
   "cell_type": "markdown",
   "id": "27c2cc43-d9e6-4f53-bb62-ba9ba176c8eb",
   "metadata": {},
   "source": [
    "### Full TD &rarr; stim"
   ]
  },
  {
   "cell_type": "code",
   "execution_count": null,
   "id": "f644ee70-4a1a-4fa0-9c8f-e263ca5381f4",
   "metadata": {
    "jupyter": {
     "source_hidden": true
    },
    "tags": []
   },
   "outputs": [],
   "source": [
    "td_data = pd.DataFrame.to_numpy(df.loc[~np.isnan(df.TD1.values), \n",
    "                                       ['TD1', 'TD2', 'TD3']])\n",
    "t_td = df.timestamp.values[~np.isnan(df.TD1.values)]\n",
    "pb_data = pd.DataFrame.to_numpy(df.loc[~np.isnan(df.PB1.values), \n",
    "                                       ['PB1', 'PB2', 'PB3', 'PB4']])\n",
    "t_adapt = df.timestamp.values[~np.isnan(df.PB1.values)]\n",
    "ld_output = df.LD_output.values[~np.isnan(df.LD_output.values)]\n",
    "t_output = df.timestamp.values[~np.isnan(df.LD_output.values)]\n",
    "ld_state = df.state.values[~np.isnan(df.state.values)]\n",
    "t_state = df.timestamp.values[~np.isnan(df.state.values)]\n",
    "stim = df.stim.values[~np.isnan(df.stim.values)]\n",
    "t_stim = df.timestamp.values[~np.isnan(df.stim.values)]\n",
    "\n",
    "amp_gain = 233 #in these data it happens to all be the same, not generally true\n",
    "fs_td = 500\n",
    "L = 256\n",
    "interval = 200\n",
    "bit_shift = 3\n",
    "band_edges_hz = [[5, 28], [9, 30], [56, 100], [62, 71]]\n",
    "\n",
    "t_start = time.time()\n",
    "\n",
    "td_data = transform_mv_to_rcs(td_data, amp_gain)\n",
    "hann_win = create_hann_window(L, percent=100)\n",
    "# first PB, from channel 1\n",
    "data_fft, t_pb_comp = rcs_td_to_fft(td_data[:,0], t_td, fs_td, L, interval, \n",
    "                                    hann_win, output_in_mv=False)\n",
    "pb_data_comp = rcs_fft_to_pb(data_fft, fs_td, L, bit_shift, \n",
    "                             band_edges_hz=band_edges_hz[0], input_is_mv=False)\n",
    "# second and third PB's, from channel 2\n",
    "data_fft, t_pb_comp = rcs_td_to_fft(td_data[:,1], t_td, fs_td, L, interval, \n",
    "                                    hann_win, output_in_mv=False)\n",
    "pb_tmp = rcs_fft_to_pb(data_fft, fs_td, L, bit_shift, \n",
    "                       band_edges_hz=band_edges_hz[1:3], input_is_mv=False)\n",
    "pb_data_comp = np.append(pb_data_comp, pb_tmp, axis=1)\n",
    "# fourth PB, from channel 3\n",
    "data_fft, t_pb_comp = rcs_td_to_fft(td_data[:,2], t_td, fs_td, L, interval, \n",
    "                                    hann_win, output_in_mv=False)\n",
    "pb_tmp = rcs_fft_to_pb(data_fft, fs_td, L, bit_shift, \n",
    "                       band_edges_hz=band_edges_hz[3], input_is_mv=False)\n",
    "pb_data_comp = np.append(pb_data_comp, pb_tmp, axis=1)\n",
    "\n",
    "# Compute LD and stim\n",
    "ld_output_comp, ld_state_comp, time_ld_comp = rcs_pb_to_ld(\n",
    "                        pb_data_comp, \n",
    "                        t_pb_comp, \n",
    "                        update_rate=[1,[]], \n",
    "                        weights=[[-2.324, -0.2399, 24.06, 20.11],[]], \n",
    "                        dual_threshold=[False,[]], \n",
    "                        threshold=[3322,[]], \n",
    "                        onset_duration=[0,[]], \n",
    "                        termination_duration=[5,[]], \n",
    "                        blank_duration=[2,[]], \n",
    "                        blank_both=[False, False], \n",
    "                        subtract_vec=[np.zeros(4), np.zeros(4)], \n",
    "                        multiply_vec=[np.ones(4), np.ones(4)])\n",
    "stim_comp, time_stim_comp = rcs_ld_to_stim(ld_state_comp, time_ld_comp, \n",
    "                                           target_amp=[2.0, 1.6, 0,0,0,0,0,0], \n",
    "                                           rise_time=1.6, fall_time=1.6)\n",
    "\n",
    "t_end = time.time()\n",
    "print('Time elapsed: ' + str(t_end-t_start))"
   ]
  },
  {
   "cell_type": "code",
   "execution_count": null,
   "id": "99728c4c-e4d6-472d-b235-d10dc1b16d9f",
   "metadata": {
    "jupyter": {
     "source_hidden": true
    },
    "tags": []
   },
   "outputs": [],
   "source": [
    "# %matplotlib widget\n",
    "fig, ax = plt.subplots(3,1, figsize=(6,4), sharex='col', sharey=False)\n",
    "\n",
    "ax[0].plot(time_ld_comp-t0, ld_output_comp[0], label='Computed')\n",
    "ax[0].plot(t_output-t0, ld_output, label='Measured')\n",
    "ax[0].set_xlim([975, 1005])\n",
    "ax[0].set_ylim([-1e3, 15e3])\n",
    "ax[0].set_yticklabels([])\n",
    "ax[0].axhline(y=3322, color='k', linestyle='--')\n",
    "ax[0].grid()\n",
    "ax[0].set_ylabel('LD Output')\n",
    "ax[0].legend(bbox_to_anchor=(1.01, 0.8))\n",
    "\n",
    "ax[1].plot(time_ld_comp-t0, ld_state_comp+0.05, label='Computed')\n",
    "ax[1].plot(t_state-t0, ld_state, label='Measured')\n",
    "ax[1].set_ylim([0, 1.5])\n",
    "ax[1].grid()\n",
    "ax[1].set_ylabel('LD State')\n",
    "\n",
    "ax[2].plot(time_stim_comp-t0, stim_comp+0.01, label='Computed')\n",
    "ax[2].plot(t_stim-t0, stim, label='Measured')\n",
    "ax[2].grid()\n",
    "ax[2].set_xlabel('Time [grid=5sec]')\n",
    "ax[2].set_ylim([1.59,2.01])\n",
    "ax[2].set_yticks(np.arange(1.6,2.01,0.1))\n",
    "ax[2].set_yticklabels([1.6,'','','',2.0])\n",
    "ax[2].set_ylabel('Stim amplitude \\n [mA]')\n",
    "\n",
    "plt.tight_layout()"
   ]
  },
  {
   "cell_type": "code",
   "execution_count": null,
   "id": "56f9ceac-8738-4815-98b0-8a65dad1aff1",
   "metadata": {
    "jupyter": {
     "source_hidden": true
    },
    "tags": []
   },
   "outputs": [],
   "source": []
  }
 ],
 "metadata": {
  "kernelspec": {
   "display_name": "Python 3",
   "language": "python",
   "name": "python3"
  },
  "language_info": {
   "codemirror_mode": {
    "name": "ipython",
    "version": 3
   },
   "file_extension": ".py",
   "mimetype": "text/x-python",
   "name": "python",
   "nbconvert_exporter": "python",
   "pygments_lexer": "ipython3",
   "version": "3.9.5"
  }
 },
 "nbformat": 4,
 "nbformat_minor": 5
}
